{
 "cells": [
  {
   "cell_type": "markdown",
   "metadata": {},
   "source": [
    "# Retreive Schedule "
   ]
  },
  {
   "cell_type": "code",
   "execution_count": 10,
   "metadata": {
    "ExecuteTime": {
     "end_time": "2019-06-15T04:04:07.724794Z",
     "start_time": "2019-06-15T04:04:07.721285Z"
    }
   },
   "outputs": [],
   "source": [
    "import pandas as pd\n",
    "from elasticsearch import Elasticsearch"
   ]
  },
  {
   "cell_type": "code",
   "execution_count": 2,
   "metadata": {
    "ExecuteTime": {
     "end_time": "2019-06-15T04:01:04.807698Z",
     "start_time": "2019-06-15T04:01:04.753297Z"
    }
   },
   "outputs": [],
   "source": [
    "stop_times = pd.read_csv('stop_times.txt')\n",
    "trips = pd.read_csv('trips.txt')"
   ]
  },
  {
   "cell_type": "code",
   "execution_count": 3,
   "metadata": {
    "ExecuteTime": {
     "end_time": "2019-06-15T04:01:09.439358Z",
     "start_time": "2019-06-15T04:01:09.427642Z"
    }
   },
   "outputs": [
    {
     "name": "stdout",
     "output_type": "stream",
     "text": [
      "<class 'pandas.core.frame.DataFrame'>\n",
      "RangeIndex: 9724 entries, 0 to 9723\n",
      "Data columns (total 9 columns):\n",
      "trip_id           9724 non-null int64\n",
      "arrival_time      9724 non-null object\n",
      "departure_time    9724 non-null object\n",
      "stop_id           9724 non-null int64\n",
      "stop_sequence     9724 non-null int64\n",
      "stop_headsign     9724 non-null object\n",
      "pickup_type       9724 non-null int64\n",
      "drop_off_type     9724 non-null int64\n",
      "timepoint         9724 non-null int64\n",
      "dtypes: int64(6), object(3)\n",
      "memory usage: 683.8+ KB\n"
     ]
    }
   ],
   "source": [
    "stop_times.info()"
   ]
  },
  {
   "cell_type": "code",
   "execution_count": 4,
   "metadata": {
    "ExecuteTime": {
     "end_time": "2019-06-15T04:01:14.543655Z",
     "start_time": "2019-06-15T04:01:14.534166Z"
    }
   },
   "outputs": [
    {
     "name": "stdout",
     "output_type": "stream",
     "text": [
      "<class 'pandas.core.frame.DataFrame'>\n",
      "RangeIndex: 847 entries, 0 to 846\n",
      "Data columns (total 9 columns):\n",
      "route_id                 847 non-null object\n",
      "service_id               847 non-null object\n",
      "trip_id                  847 non-null int64\n",
      "trip_headsign            847 non-null object\n",
      "direction_id             847 non-null int64\n",
      "block_id                 847 non-null object\n",
      "shape_id                 847 non-null int64\n",
      "wheelchair_accessible    847 non-null int64\n",
      "bikes_allowed            847 non-null int64\n",
      "dtypes: int64(5), object(4)\n",
      "memory usage: 59.6+ KB\n"
     ]
    }
   ],
   "source": [
    "trips.info()"
   ]
  },
  {
   "cell_type": "code",
   "execution_count": 5,
   "metadata": {
    "ExecuteTime": {
     "end_time": "2019-06-15T04:01:28.278386Z",
     "start_time": "2019-06-15T04:01:28.255919Z"
    }
   },
   "outputs": [
    {
     "data": {
      "text/html": [
       "<div>\n",
       "<style scoped>\n",
       "    .dataframe tbody tr th:only-of-type {\n",
       "        vertical-align: middle;\n",
       "    }\n",
       "\n",
       "    .dataframe tbody tr th {\n",
       "        vertical-align: top;\n",
       "    }\n",
       "\n",
       "    .dataframe thead th {\n",
       "        text-align: right;\n",
       "    }\n",
       "</style>\n",
       "<table border=\"1\" class=\"dataframe\">\n",
       "  <thead>\n",
       "    <tr style=\"text-align: right;\">\n",
       "      <th></th>\n",
       "      <th>trip_id</th>\n",
       "      <th>arrival_time</th>\n",
       "      <th>departure_time</th>\n",
       "      <th>stop_id</th>\n",
       "      <th>stop_sequence</th>\n",
       "      <th>stop_headsign</th>\n",
       "      <th>pickup_type</th>\n",
       "      <th>drop_off_type</th>\n",
       "      <th>timepoint</th>\n",
       "    </tr>\n",
       "  </thead>\n",
       "  <tbody>\n",
       "    <tr>\n",
       "      <th>0</th>\n",
       "      <td>712</td>\n",
       "      <td>07:36:16</td>\n",
       "      <td>07:36:36</td>\n",
       "      <td>8111</td>\n",
       "      <td>1</td>\n",
       "      <td>Well Station Drive</td>\n",
       "      <td>0</td>\n",
       "      <td>0</td>\n",
       "      <td>1</td>\n",
       "    </tr>\n",
       "    <tr>\n",
       "      <th>1</th>\n",
       "      <td>712</td>\n",
       "      <td>07:38:20</td>\n",
       "      <td>07:38:40</td>\n",
       "      <td>8109</td>\n",
       "      <td>2</td>\n",
       "      <td>Nullarbor Avenue</td>\n",
       "      <td>0</td>\n",
       "      <td>0</td>\n",
       "      <td>1</td>\n",
       "    </tr>\n",
       "    <tr>\n",
       "      <th>2</th>\n",
       "      <td>712</td>\n",
       "      <td>07:39:51</td>\n",
       "      <td>07:40:11</td>\n",
       "      <td>8107</td>\n",
       "      <td>3</td>\n",
       "      <td>Mapleton Avenue</td>\n",
       "      <td>0</td>\n",
       "      <td>0</td>\n",
       "      <td>1</td>\n",
       "    </tr>\n",
       "    <tr>\n",
       "      <th>3</th>\n",
       "      <td>712</td>\n",
       "      <td>07:41:45</td>\n",
       "      <td>07:42:05</td>\n",
       "      <td>8105</td>\n",
       "      <td>4</td>\n",
       "      <td>Manning Clark Crescent</td>\n",
       "      <td>0</td>\n",
       "      <td>0</td>\n",
       "      <td>1</td>\n",
       "    </tr>\n",
       "    <tr>\n",
       "      <th>4</th>\n",
       "      <td>712</td>\n",
       "      <td>07:43:43</td>\n",
       "      <td>07:43:43</td>\n",
       "      <td>8100</td>\n",
       "      <td>5</td>\n",
       "      <td>Gungahlin Place</td>\n",
       "      <td>0</td>\n",
       "      <td>0</td>\n",
       "      <td>1</td>\n",
       "    </tr>\n",
       "  </tbody>\n",
       "</table>\n",
       "</div>"
      ],
      "text/plain": [
       "   trip_id arrival_time departure_time  stop_id  stop_sequence  \\\n",
       "0      712     07:36:16       07:36:36     8111              1   \n",
       "1      712     07:38:20       07:38:40     8109              2   \n",
       "2      712     07:39:51       07:40:11     8107              3   \n",
       "3      712     07:41:45       07:42:05     8105              4   \n",
       "4      712     07:43:43       07:43:43     8100              5   \n",
       "\n",
       "            stop_headsign  pickup_type  drop_off_type  timepoint  \n",
       "0      Well Station Drive            0              0          1  \n",
       "1        Nullarbor Avenue            0              0          1  \n",
       "2         Mapleton Avenue            0              0          1  \n",
       "3  Manning Clark Crescent            0              0          1  \n",
       "4         Gungahlin Place            0              0          1  "
      ]
     },
     "execution_count": 5,
     "metadata": {},
     "output_type": "execute_result"
    }
   ],
   "source": [
    "stop_times.head()"
   ]
  },
  {
   "cell_type": "code",
   "execution_count": 6,
   "metadata": {
    "ExecuteTime": {
     "end_time": "2019-06-15T04:01:33.045373Z",
     "start_time": "2019-06-15T04:01:33.032506Z"
    }
   },
   "outputs": [
    {
     "data": {
      "text/html": [
       "<div>\n",
       "<style scoped>\n",
       "    .dataframe tbody tr th:only-of-type {\n",
       "        vertical-align: middle;\n",
       "    }\n",
       "\n",
       "    .dataframe tbody tr th {\n",
       "        vertical-align: top;\n",
       "    }\n",
       "\n",
       "    .dataframe thead th {\n",
       "        text-align: right;\n",
       "    }\n",
       "</style>\n",
       "<table border=\"1\" class=\"dataframe\">\n",
       "  <thead>\n",
       "    <tr style=\"text-align: right;\">\n",
       "      <th></th>\n",
       "      <th>route_id</th>\n",
       "      <th>service_id</th>\n",
       "      <th>trip_id</th>\n",
       "      <th>trip_headsign</th>\n",
       "      <th>direction_id</th>\n",
       "      <th>block_id</th>\n",
       "      <th>shape_id</th>\n",
       "      <th>wheelchair_accessible</th>\n",
       "      <th>bikes_allowed</th>\n",
       "    </tr>\n",
       "  </thead>\n",
       "  <tbody>\n",
       "    <tr>\n",
       "      <th>0</th>\n",
       "      <td>NIS</td>\n",
       "      <td>SU</td>\n",
       "      <td>712</td>\n",
       "      <td>Gungahlin Pl</td>\n",
       "      <td>0</td>\n",
       "      <td>3</td>\n",
       "      <td>1007</td>\n",
       "      <td>1</td>\n",
       "      <td>1</td>\n",
       "    </tr>\n",
       "    <tr>\n",
       "      <th>1</th>\n",
       "      <td>ACTO001</td>\n",
       "      <td>SU</td>\n",
       "      <td>780</td>\n",
       "      <td>Alinga St</td>\n",
       "      <td>1</td>\n",
       "      <td>3</td>\n",
       "      <td>1003</td>\n",
       "      <td>1</td>\n",
       "      <td>1</td>\n",
       "    </tr>\n",
       "    <tr>\n",
       "      <th>2</th>\n",
       "      <td>ACTO001</td>\n",
       "      <td>SU</td>\n",
       "      <td>718</td>\n",
       "      <td>Gungahlin Pl</td>\n",
       "      <td>0</td>\n",
       "      <td>3</td>\n",
       "      <td>1004</td>\n",
       "      <td>1</td>\n",
       "      <td>1</td>\n",
       "    </tr>\n",
       "    <tr>\n",
       "      <th>3</th>\n",
       "      <td>ACTO001</td>\n",
       "      <td>SU</td>\n",
       "      <td>784</td>\n",
       "      <td>Alinga St</td>\n",
       "      <td>1</td>\n",
       "      <td>3</td>\n",
       "      <td>1003</td>\n",
       "      <td>1</td>\n",
       "      <td>1</td>\n",
       "    </tr>\n",
       "    <tr>\n",
       "      <th>4</th>\n",
       "      <td>ACTO001</td>\n",
       "      <td>SU</td>\n",
       "      <td>722</td>\n",
       "      <td>Gungahlin Pl</td>\n",
       "      <td>0</td>\n",
       "      <td>3</td>\n",
       "      <td>1004</td>\n",
       "      <td>1</td>\n",
       "      <td>1</td>\n",
       "    </tr>\n",
       "  </tbody>\n",
       "</table>\n",
       "</div>"
      ],
      "text/plain": [
       "  route_id service_id  trip_id trip_headsign  direction_id block_id  shape_id  \\\n",
       "0      NIS         SU      712  Gungahlin Pl             0        3      1007   \n",
       "1  ACTO001         SU      780     Alinga St             1        3      1003   \n",
       "2  ACTO001         SU      718  Gungahlin Pl             0        3      1004   \n",
       "3  ACTO001         SU      784     Alinga St             1        3      1003   \n",
       "4  ACTO001         SU      722  Gungahlin Pl             0        3      1004   \n",
       "\n",
       "   wheelchair_accessible  bikes_allowed  \n",
       "0                      1              1  \n",
       "1                      1              1  \n",
       "2                      1              1  \n",
       "3                      1              1  \n",
       "4                      1              1  "
      ]
     },
     "execution_count": 6,
     "metadata": {},
     "output_type": "execute_result"
    }
   ],
   "source": [
    "trips.head()"
   ]
  },
  {
   "cell_type": "markdown",
   "metadata": {},
   "source": [
    "# Place in Elasticsearch"
   ]
  },
  {
   "cell_type": "code",
   "execution_count": 11,
   "metadata": {
    "ExecuteTime": {
     "end_time": "2019-06-15T04:04:09.349685Z",
     "start_time": "2019-06-15T04:04:09.345231Z"
    }
   },
   "outputs": [],
   "source": [
    "es=Elasticsearch([{'host':'localhost','port':9200, 'http_auth':('elastic', 'changeme')}])"
   ]
  },
  {
   "cell_type": "code",
   "execution_count": 12,
   "metadata": {
    "ExecuteTime": {
     "end_time": "2019-06-15T04:06:15.176056Z",
     "start_time": "2019-06-15T04:05:03.635930Z"
    }
   },
   "outputs": [],
   "source": [
    "for idx, record in enumerate(stop_times.to_dict(orient='records'), 1):\n",
    "    es.index(index='stoptimes',doc_type='lightrail',body=record, id=idx)"
   ]
  },
  {
   "cell_type": "code",
   "execution_count": 13,
   "metadata": {
    "ExecuteTime": {
     "end_time": "2019-06-15T04:06:36.257549Z",
     "start_time": "2019-06-15T04:06:30.944500Z"
    }
   },
   "outputs": [],
   "source": [
    "for idx, record in enumerate(trips.to_dict(orient='records'), 1):\n",
    "    es.index(index='trips',doc_type='lightrail',body=record, id=idx)"
   ]
  },
  {
   "cell_type": "code",
   "execution_count": null,
   "metadata": {},
   "outputs": [],
   "source": []
  }
 ],
 "metadata": {
  "kernelspec": {
   "display_name": "Python 3",
   "language": "python",
   "name": "python3"
  },
  "language_info": {
   "codemirror_mode": {
    "name": "ipython",
    "version": 3
   },
   "file_extension": ".py",
   "mimetype": "text/x-python",
   "name": "python",
   "nbconvert_exporter": "python",
   "pygments_lexer": "ipython3",
   "version": "3.6.8"
  },
  "toc": {
   "base_numbering": 1,
   "nav_menu": {},
   "number_sections": true,
   "sideBar": true,
   "skip_h1_title": false,
   "title_cell": "Table of Contents",
   "title_sidebar": "Contents",
   "toc_cell": false,
   "toc_position": {},
   "toc_section_display": true,
   "toc_window_display": false
  },
  "varInspector": {
   "cols": {
    "lenName": 16,
    "lenType": 16,
    "lenVar": 40
   },
   "kernels_config": {
    "python": {
     "delete_cmd_postfix": "",
     "delete_cmd_prefix": "del ",
     "library": "var_list.py",
     "varRefreshCmd": "print(var_dic_list())"
    },
    "r": {
     "delete_cmd_postfix": ") ",
     "delete_cmd_prefix": "rm(",
     "library": "var_list.r",
     "varRefreshCmd": "cat(var_dic_list()) "
    }
   },
   "types_to_exclude": [
    "module",
    "function",
    "builtin_function_or_method",
    "instance",
    "_Feature"
   ],
   "window_display": false
  }
 },
 "nbformat": 4,
 "nbformat_minor": 2
}
