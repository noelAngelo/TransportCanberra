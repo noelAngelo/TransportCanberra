{
 "cells": [
  {
   "cell_type": "markdown",
   "metadata": {},
   "source": [
    "# Transport Canberra\n",
    "---\n",
    "1. **Frequency of Light Rail services** - https://cmet.com.au/frequency-guide/\n",
    "\n",
    "    - Hypothesis 1: Light Rail must run at 6 min frequency during peak time\n",
    "\n",
    "    - Hypothesis 2 : Light Rail must run at 10 min frequency during off-peak time\n",
    "\n",
    "\n",
    "2. **Number of services that ran trend**\n",
    "\n",
    "    - Show the trends of no of trip (per day/week/month and so on)\n",
    "   \n",
    "    - Show the travel time of each trip\n",
    "    \n",
    "\n",
    "3. **Reliability**\n",
    "\n",
    "    - Number of scheduled trips / # of actual trips\n",
    "\n",
    "    - Convert reliability into % and show the trend per day/week/month\n",
    "\n",
    "\n",
    "4. **Puntuality**\n",
    "    - How punctual the Light Rail serives are?\n",
    "\n",
    "    - Come up with an algorithm to calculate it\n",
    "    \n",
    "---"
   ]
  },
  {
   "cell_type": "markdown",
   "metadata": {},
   "source": [
    "# Frequency of Light Rail Serivices\n",
    "\n",
    "The light rail services should operate frequently based on the following criteria:\n",
    "![title](img/frequencyGuide.png)\n",
    "\n",
    "This section will determine the frequency during peak time and off-peak time"
   ]
  },
  {
   "cell_type": "code",
   "execution_count": null,
   "metadata": {},
   "outputs": [],
   "source": []
  }
 ],
 "metadata": {
  "kernelspec": {
   "display_name": "Python 3",
   "language": "python",
   "name": "python3"
  },
  "language_info": {
   "codemirror_mode": {
    "name": "ipython",
    "version": 3
   },
   "file_extension": ".py",
   "mimetype": "text/x-python",
   "name": "python",
   "nbconvert_exporter": "python",
   "pygments_lexer": "ipython3",
   "version": "3.6.8"
  },
  "toc": {
   "base_numbering": 1,
   "nav_menu": {},
   "number_sections": true,
   "sideBar": true,
   "skip_h1_title": false,
   "title_cell": "Table of Contents",
   "title_sidebar": "Contents",
   "toc_cell": false,
   "toc_position": {},
   "toc_section_display": true,
   "toc_window_display": false
  },
  "varInspector": {
   "cols": {
    "lenName": 16,
    "lenType": 16,
    "lenVar": 40
   },
   "kernels_config": {
    "python": {
     "delete_cmd_postfix": "",
     "delete_cmd_prefix": "del ",
     "library": "var_list.py",
     "varRefreshCmd": "print(var_dic_list())"
    },
    "r": {
     "delete_cmd_postfix": ") ",
     "delete_cmd_prefix": "rm(",
     "library": "var_list.r",
     "varRefreshCmd": "cat(var_dic_list()) "
    }
   },
   "types_to_exclude": [
    "module",
    "function",
    "builtin_function_or_method",
    "instance",
    "_Feature"
   ],
   "window_display": false
  }
 },
 "nbformat": 4,
 "nbformat_minor": 2
}
