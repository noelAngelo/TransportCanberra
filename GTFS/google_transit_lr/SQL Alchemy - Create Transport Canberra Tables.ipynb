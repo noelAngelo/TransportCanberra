{
 "cells": [
  {
   "cell_type": "code",
   "execution_count": 1,
   "metadata": {
    "ExecuteTime": {
     "end_time": "2019-06-06T00:00:08.358525Z",
     "start_time": "2019-06-06T00:00:07.779536Z"
    }
   },
   "outputs": [],
   "source": [
    "from sqlalchemy import create_engine\n",
    "from sqlalchemy import MetaData\n",
    "from sqlalchemy import Table\n",
    "from sqlalchemy import Column\n",
    "from sqlalchemy import Integer, String, Time, DateTime\n",
    "import sqlalchemy as db\n",
    "\n",
    "import pandas as pd\n",
    "from datetime import datetime"
   ]
  },
  {
   "cell_type": "markdown",
   "metadata": {},
   "source": [
    "# GTFS Files"
   ]
  },
  {
   "cell_type": "markdown",
   "metadata": {},
   "source": [
    "## Trips: `trips.txt`"
   ]
  },
  {
   "cell_type": "code",
   "execution_count": 2,
   "metadata": {
    "ExecuteTime": {
     "end_time": "2019-06-06T00:00:11.108493Z",
     "start_time": "2019-06-06T00:00:11.079575Z"
    }
   },
   "outputs": [
    {
     "name": "stdout",
     "output_type": "stream",
     "text": [
      "<class 'pandas.core.frame.DataFrame'>\n",
      "RangeIndex: 847 entries, 0 to 846\n",
      "Data columns (total 9 columns):\n",
      "route_id                 847 non-null object\n",
      "service_id               847 non-null object\n",
      "trip_id                  847 non-null int64\n",
      "trip_headsign            847 non-null object\n",
      "direction_id             847 non-null int64\n",
      "block_id                 847 non-null object\n",
      "shape_id                 847 non-null int64\n",
      "wheelchair_accessible    847 non-null int64\n",
      "bikes_allowed            847 non-null int64\n",
      "dtypes: int64(5), object(4)\n",
      "memory usage: 59.6+ KB\n"
     ]
    }
   ],
   "source": [
    "trips = pd.read_csv('trips.txt')\n",
    "trips.info()"
   ]
  },
  {
   "cell_type": "code",
   "execution_count": 3,
   "metadata": {
    "ExecuteTime": {
     "end_time": "2019-06-06T00:00:12.703256Z",
     "start_time": "2019-06-06T00:00:12.682619Z"
    }
   },
   "outputs": [
    {
     "data": {
      "text/html": [
       "<div>\n",
       "<style scoped>\n",
       "    .dataframe tbody tr th:only-of-type {\n",
       "        vertical-align: middle;\n",
       "    }\n",
       "\n",
       "    .dataframe tbody tr th {\n",
       "        vertical-align: top;\n",
       "    }\n",
       "\n",
       "    .dataframe thead th {\n",
       "        text-align: right;\n",
       "    }\n",
       "</style>\n",
       "<table border=\"1\" class=\"dataframe\">\n",
       "  <thead>\n",
       "    <tr style=\"text-align: right;\">\n",
       "      <th></th>\n",
       "      <th>route_id</th>\n",
       "      <th>service_id</th>\n",
       "      <th>trip_id</th>\n",
       "      <th>trip_headsign</th>\n",
       "      <th>direction_id</th>\n",
       "      <th>block_id</th>\n",
       "      <th>shape_id</th>\n",
       "      <th>wheelchair_accessible</th>\n",
       "      <th>bikes_allowed</th>\n",
       "    </tr>\n",
       "  </thead>\n",
       "  <tbody>\n",
       "    <tr>\n",
       "      <th>0</th>\n",
       "      <td>NIS</td>\n",
       "      <td>SU</td>\n",
       "      <td>712</td>\n",
       "      <td>Gungahlin Pl</td>\n",
       "      <td>0</td>\n",
       "      <td>3</td>\n",
       "      <td>1007</td>\n",
       "      <td>1</td>\n",
       "      <td>1</td>\n",
       "    </tr>\n",
       "    <tr>\n",
       "      <th>1</th>\n",
       "      <td>ACTO001</td>\n",
       "      <td>SU</td>\n",
       "      <td>780</td>\n",
       "      <td>Alinga St</td>\n",
       "      <td>1</td>\n",
       "      <td>3</td>\n",
       "      <td>1003</td>\n",
       "      <td>1</td>\n",
       "      <td>1</td>\n",
       "    </tr>\n",
       "    <tr>\n",
       "      <th>2</th>\n",
       "      <td>ACTO001</td>\n",
       "      <td>SU</td>\n",
       "      <td>718</td>\n",
       "      <td>Gungahlin Pl</td>\n",
       "      <td>0</td>\n",
       "      <td>3</td>\n",
       "      <td>1004</td>\n",
       "      <td>1</td>\n",
       "      <td>1</td>\n",
       "    </tr>\n",
       "    <tr>\n",
       "      <th>3</th>\n",
       "      <td>ACTO001</td>\n",
       "      <td>SU</td>\n",
       "      <td>784</td>\n",
       "      <td>Alinga St</td>\n",
       "      <td>1</td>\n",
       "      <td>3</td>\n",
       "      <td>1003</td>\n",
       "      <td>1</td>\n",
       "      <td>1</td>\n",
       "    </tr>\n",
       "    <tr>\n",
       "      <th>4</th>\n",
       "      <td>ACTO001</td>\n",
       "      <td>SU</td>\n",
       "      <td>722</td>\n",
       "      <td>Gungahlin Pl</td>\n",
       "      <td>0</td>\n",
       "      <td>3</td>\n",
       "      <td>1004</td>\n",
       "      <td>1</td>\n",
       "      <td>1</td>\n",
       "    </tr>\n",
       "  </tbody>\n",
       "</table>\n",
       "</div>"
      ],
      "text/plain": [
       "  route_id service_id  trip_id trip_headsign  direction_id block_id  shape_id  \\\n",
       "0      NIS         SU      712  Gungahlin Pl             0        3      1007   \n",
       "1  ACTO001         SU      780     Alinga St             1        3      1003   \n",
       "2  ACTO001         SU      718  Gungahlin Pl             0        3      1004   \n",
       "3  ACTO001         SU      784     Alinga St             1        3      1003   \n",
       "4  ACTO001         SU      722  Gungahlin Pl             0        3      1004   \n",
       "\n",
       "   wheelchair_accessible  bikes_allowed  \n",
       "0                      1              1  \n",
       "1                      1              1  \n",
       "2                      1              1  \n",
       "3                      1              1  \n",
       "4                      1              1  "
      ]
     },
     "execution_count": 3,
     "metadata": {},
     "output_type": "execute_result"
    }
   ],
   "source": [
    "trips.head()"
   ]
  },
  {
   "cell_type": "markdown",
   "metadata": {},
   "source": [
    "### List of Routes"
   ]
  },
  {
   "cell_type": "code",
   "execution_count": 4,
   "metadata": {
    "ExecuteTime": {
     "end_time": "2019-06-06T00:00:14.228883Z",
     "start_time": "2019-06-06T00:00:14.222121Z"
    }
   },
   "outputs": [
    {
     "data": {
      "text/plain": [
       "array(['NIS', 'ACTO001', 'X1', 'X2'], dtype=object)"
      ]
     },
     "execution_count": 4,
     "metadata": {},
     "output_type": "execute_result"
    }
   ],
   "source": [
    "trips['route_id'].unique()"
   ]
  },
  {
   "cell_type": "code",
   "execution_count": 5,
   "metadata": {
    "ExecuteTime": {
     "end_time": "2019-06-06T00:00:14.396125Z",
     "start_time": "2019-06-06T00:00:14.389897Z"
    }
   },
   "outputs": [],
   "source": [
    "trips = trips[trips['route_id'] == 'ACTO001']"
   ]
  },
  {
   "cell_type": "markdown",
   "metadata": {},
   "source": [
    "### Keep Columns"
   ]
  },
  {
   "cell_type": "code",
   "execution_count": 6,
   "metadata": {
    "ExecuteTime": {
     "end_time": "2019-06-06T00:00:14.703402Z",
     "start_time": "2019-06-06T00:00:14.697373Z"
    }
   },
   "outputs": [],
   "source": [
    "trips = trips[['route_id' ,'service_id', 'trip_id', 'trip_headsign', 'direction_id']]"
   ]
  },
  {
   "cell_type": "markdown",
   "metadata": {},
   "source": [
    "## Stop Times: `stop_times.txt`"
   ]
  },
  {
   "cell_type": "code",
   "execution_count": 7,
   "metadata": {
    "ExecuteTime": {
     "end_time": "2019-06-06T00:00:15.053662Z",
     "start_time": "2019-06-06T00:00:15.009801Z"
    }
   },
   "outputs": [
    {
     "name": "stdout",
     "output_type": "stream",
     "text": [
      "<class 'pandas.core.frame.DataFrame'>\n",
      "RangeIndex: 9724 entries, 0 to 9723\n",
      "Data columns (total 9 columns):\n",
      "trip_id           9724 non-null int64\n",
      "arrival_time      9724 non-null object\n",
      "departure_time    9724 non-null object\n",
      "stop_id           9724 non-null int64\n",
      "stop_sequence     9724 non-null int64\n",
      "stop_headsign     9724 non-null object\n",
      "pickup_type       9724 non-null int64\n",
      "drop_off_type     9724 non-null int64\n",
      "timepoint         9724 non-null int64\n",
      "dtypes: int64(6), object(3)\n",
      "memory usage: 683.8+ KB\n"
     ]
    }
   ],
   "source": [
    "stop_times = pd.read_csv('stop_times.txt')\n",
    "stop_times.info()"
   ]
  },
  {
   "cell_type": "code",
   "execution_count": 8,
   "metadata": {
    "ExecuteTime": {
     "end_time": "2019-06-06T00:00:15.202543Z",
     "start_time": "2019-06-06T00:00:15.190001Z"
    }
   },
   "outputs": [
    {
     "data": {
      "text/html": [
       "<div>\n",
       "<style scoped>\n",
       "    .dataframe tbody tr th:only-of-type {\n",
       "        vertical-align: middle;\n",
       "    }\n",
       "\n",
       "    .dataframe tbody tr th {\n",
       "        vertical-align: top;\n",
       "    }\n",
       "\n",
       "    .dataframe thead th {\n",
       "        text-align: right;\n",
       "    }\n",
       "</style>\n",
       "<table border=\"1\" class=\"dataframe\">\n",
       "  <thead>\n",
       "    <tr style=\"text-align: right;\">\n",
       "      <th></th>\n",
       "      <th>trip_id</th>\n",
       "      <th>arrival_time</th>\n",
       "      <th>departure_time</th>\n",
       "      <th>stop_id</th>\n",
       "      <th>stop_sequence</th>\n",
       "      <th>stop_headsign</th>\n",
       "      <th>pickup_type</th>\n",
       "      <th>drop_off_type</th>\n",
       "      <th>timepoint</th>\n",
       "    </tr>\n",
       "  </thead>\n",
       "  <tbody>\n",
       "    <tr>\n",
       "      <th>0</th>\n",
       "      <td>712</td>\n",
       "      <td>07:36:16</td>\n",
       "      <td>07:36:36</td>\n",
       "      <td>8111</td>\n",
       "      <td>1</td>\n",
       "      <td>Well Station Drive</td>\n",
       "      <td>0</td>\n",
       "      <td>0</td>\n",
       "      <td>1</td>\n",
       "    </tr>\n",
       "    <tr>\n",
       "      <th>1</th>\n",
       "      <td>712</td>\n",
       "      <td>07:38:20</td>\n",
       "      <td>07:38:40</td>\n",
       "      <td>8109</td>\n",
       "      <td>2</td>\n",
       "      <td>Nullarbor Avenue</td>\n",
       "      <td>0</td>\n",
       "      <td>0</td>\n",
       "      <td>1</td>\n",
       "    </tr>\n",
       "    <tr>\n",
       "      <th>2</th>\n",
       "      <td>712</td>\n",
       "      <td>07:39:51</td>\n",
       "      <td>07:40:11</td>\n",
       "      <td>8107</td>\n",
       "      <td>3</td>\n",
       "      <td>Mapleton Avenue</td>\n",
       "      <td>0</td>\n",
       "      <td>0</td>\n",
       "      <td>1</td>\n",
       "    </tr>\n",
       "    <tr>\n",
       "      <th>3</th>\n",
       "      <td>712</td>\n",
       "      <td>07:41:45</td>\n",
       "      <td>07:42:05</td>\n",
       "      <td>8105</td>\n",
       "      <td>4</td>\n",
       "      <td>Manning Clark Crescent</td>\n",
       "      <td>0</td>\n",
       "      <td>0</td>\n",
       "      <td>1</td>\n",
       "    </tr>\n",
       "    <tr>\n",
       "      <th>4</th>\n",
       "      <td>712</td>\n",
       "      <td>07:43:43</td>\n",
       "      <td>07:43:43</td>\n",
       "      <td>8100</td>\n",
       "      <td>5</td>\n",
       "      <td>Gungahlin Place</td>\n",
       "      <td>0</td>\n",
       "      <td>0</td>\n",
       "      <td>1</td>\n",
       "    </tr>\n",
       "  </tbody>\n",
       "</table>\n",
       "</div>"
      ],
      "text/plain": [
       "   trip_id arrival_time departure_time  stop_id  stop_sequence  \\\n",
       "0      712     07:36:16       07:36:36     8111              1   \n",
       "1      712     07:38:20       07:38:40     8109              2   \n",
       "2      712     07:39:51       07:40:11     8107              3   \n",
       "3      712     07:41:45       07:42:05     8105              4   \n",
       "4      712     07:43:43       07:43:43     8100              5   \n",
       "\n",
       "            stop_headsign  pickup_type  drop_off_type  timepoint  \n",
       "0      Well Station Drive            0              0          1  \n",
       "1        Nullarbor Avenue            0              0          1  \n",
       "2         Mapleton Avenue            0              0          1  \n",
       "3  Manning Clark Crescent            0              0          1  \n",
       "4         Gungahlin Place            0              0          1  "
      ]
     },
     "execution_count": 8,
     "metadata": {},
     "output_type": "execute_result"
    }
   ],
   "source": [
    "stop_times.head()"
   ]
  },
  {
   "cell_type": "markdown",
   "metadata": {},
   "source": [
    "### Clean Arrival Time and Departure Time"
   ]
  },
  {
   "cell_type": "code",
   "execution_count": 9,
   "metadata": {
    "ExecuteTime": {
     "end_time": "2019-06-06T00:00:16.054676Z",
     "start_time": "2019-06-06T00:00:16.022897Z"
    }
   },
   "outputs": [],
   "source": [
    "stop_times['arrival_time'] = stop_times['arrival_time'].apply(lambda x: x.split(':'))\n",
    "stop_times['departure_time'] = stop_times['departure_time'].apply(lambda x: x.split(':'))"
   ]
  },
  {
   "cell_type": "code",
   "execution_count": 10,
   "metadata": {
    "ExecuteTime": {
     "end_time": "2019-06-06T00:00:16.472392Z",
     "start_time": "2019-06-06T00:00:16.463288Z"
    }
   },
   "outputs": [
    {
     "data": {
      "text/plain": [
       "trip_id                       540\n",
       "arrival_time         [25, 01, 04]\n",
       "departure_time       [25, 01, 24]\n",
       "stop_id                      8106\n",
       "stop_sequence                   3\n",
       "stop_headsign     Mapleton Avenue\n",
       "pickup_type                     0\n",
       "drop_off_type                   0\n",
       "timepoint                       1\n",
       "Name: 5095, dtype: object"
      ]
     },
     "execution_count": 10,
     "metadata": {},
     "output_type": "execute_result"
    }
   ],
   "source": [
    "stop_times.iloc[5095]"
   ]
  },
  {
   "cell_type": "code",
   "execution_count": 11,
   "metadata": {
    "ExecuteTime": {
     "end_time": "2019-06-06T00:00:21.701266Z",
     "start_time": "2019-06-06T00:00:20.030742Z"
    },
    "code_folding": [
     0,
     8
    ]
   },
   "outputs": [],
   "source": [
    "for idx, val in stop_times.iterrows():\n",
    "    if val['arrival_time'][0] == '24':\n",
    "        stop_times.loc[idx, 'arrival_time'][0] = '00'\n",
    "#         print(val['arrival_time'])\n",
    "    elif val['arrival_time'][0] == '25':\n",
    "        stop_times.loc[idx, 'arrival_time'][0] = '00'\n",
    "#         print(val['arrival_time'])\n",
    "        \n",
    "for idx, val in stop_times.iterrows():\n",
    "    if val['departure_time'][0] == '24':\n",
    "        stop_times.loc[idx, 'departure_time'][0] = '00'\n",
    "#         print(val['departure_time'])\n",
    "    elif val['departure_time'][0] == '25':\n",
    "        stop_times.loc[idx, 'departure_time'][0] = '01'\n",
    "#         print(val['departure_time'])"
   ]
  },
  {
   "cell_type": "code",
   "execution_count": 12,
   "metadata": {
    "ExecuteTime": {
     "end_time": "2019-06-06T00:00:21.818168Z",
     "start_time": "2019-06-06T00:00:21.799234Z"
    }
   },
   "outputs": [],
   "source": [
    "stop_times['arrival_time'] = stop_times['arrival_time'].apply(lambda x: ':'.join(x))\n",
    "stop_times['departure_time'] = stop_times['departure_time'].apply(lambda x: ':'.join(x))"
   ]
  },
  {
   "cell_type": "code",
   "execution_count": 13,
   "metadata": {
    "ExecuteTime": {
     "end_time": "2019-06-06T00:00:22.148823Z",
     "start_time": "2019-06-06T00:00:21.902978Z"
    }
   },
   "outputs": [],
   "source": [
    "stop_times['arrival_time'] = stop_times['arrival_time'].apply(lambda x: datetime.strptime(x, '%H:%M:%S').time())\n",
    "stop_times['departure_time'] = stop_times['departure_time'].apply(lambda x: datetime.strptime(x, '%H:%M:%S').time())"
   ]
  },
  {
   "cell_type": "markdown",
   "metadata": {},
   "source": [
    "### Keep Columns"
   ]
  },
  {
   "cell_type": "code",
   "execution_count": 14,
   "metadata": {
    "ExecuteTime": {
     "end_time": "2019-06-06T00:00:22.225338Z",
     "start_time": "2019-06-06T00:00:22.220389Z"
    }
   },
   "outputs": [],
   "source": [
    "stop_times = stop_times[['trip_id', 'arrival_time', 'departure_time', 'stop_id', 'stop_sequence', 'stop_headsign']]"
   ]
  },
  {
   "cell_type": "markdown",
   "metadata": {},
   "source": [
    "# PostgreSQL"
   ]
  },
  {
   "cell_type": "markdown",
   "metadata": {},
   "source": [
    "## Tables"
   ]
  },
  {
   "cell_type": "code",
   "execution_count": 15,
   "metadata": {
    "ExecuteTime": {
     "end_time": "2019-06-06T00:00:23.534431Z",
     "start_time": "2019-06-06T00:00:23.520226Z"
    },
    "code_folding": [
     0
    ]
   },
   "outputs": [
    {
     "data": {
      "text/html": [
       "<div>\n",
       "<style scoped>\n",
       "    .dataframe tbody tr th:only-of-type {\n",
       "        vertical-align: middle;\n",
       "    }\n",
       "\n",
       "    .dataframe tbody tr th {\n",
       "        vertical-align: top;\n",
       "    }\n",
       "\n",
       "    .dataframe thead th {\n",
       "        text-align: right;\n",
       "    }\n",
       "</style>\n",
       "<table border=\"1\" class=\"dataframe\">\n",
       "  <thead>\n",
       "    <tr style=\"text-align: right;\">\n",
       "      <th></th>\n",
       "      <th>route_id</th>\n",
       "      <th>service_id</th>\n",
       "      <th>trip_id</th>\n",
       "      <th>trip_headsign</th>\n",
       "      <th>direction_id</th>\n",
       "    </tr>\n",
       "  </thead>\n",
       "  <tbody>\n",
       "    <tr>\n",
       "      <th>1</th>\n",
       "      <td>ACTO001</td>\n",
       "      <td>SU</td>\n",
       "      <td>780</td>\n",
       "      <td>Alinga St</td>\n",
       "      <td>1</td>\n",
       "    </tr>\n",
       "    <tr>\n",
       "      <th>2</th>\n",
       "      <td>ACTO001</td>\n",
       "      <td>SU</td>\n",
       "      <td>718</td>\n",
       "      <td>Gungahlin Pl</td>\n",
       "      <td>0</td>\n",
       "    </tr>\n",
       "    <tr>\n",
       "      <th>3</th>\n",
       "      <td>ACTO001</td>\n",
       "      <td>SU</td>\n",
       "      <td>784</td>\n",
       "      <td>Alinga St</td>\n",
       "      <td>1</td>\n",
       "    </tr>\n",
       "    <tr>\n",
       "      <th>4</th>\n",
       "      <td>ACTO001</td>\n",
       "      <td>SU</td>\n",
       "      <td>722</td>\n",
       "      <td>Gungahlin Pl</td>\n",
       "      <td>0</td>\n",
       "    </tr>\n",
       "    <tr>\n",
       "      <th>5</th>\n",
       "      <td>ACTO001</td>\n",
       "      <td>SU</td>\n",
       "      <td>788</td>\n",
       "      <td>Alinga St</td>\n",
       "      <td>1</td>\n",
       "    </tr>\n",
       "  </tbody>\n",
       "</table>\n",
       "</div>"
      ],
      "text/plain": [
       "  route_id service_id  trip_id trip_headsign  direction_id\n",
       "1  ACTO001         SU      780     Alinga St             1\n",
       "2  ACTO001         SU      718  Gungahlin Pl             0\n",
       "3  ACTO001         SU      784     Alinga St             1\n",
       "4  ACTO001         SU      722  Gungahlin Pl             0\n",
       "5  ACTO001         SU      788     Alinga St             1"
      ]
     },
     "execution_count": 15,
     "metadata": {},
     "output_type": "execute_result"
    }
   ],
   "source": [
    "# check trips dataset\n",
    "trips.head()"
   ]
  },
  {
   "cell_type": "code",
   "execution_count": 16,
   "metadata": {
    "ExecuteTime": {
     "end_time": "2019-06-06T00:00:25.200439Z",
     "start_time": "2019-06-06T00:00:25.180884Z"
    },
    "code_folding": [
     0
    ]
   },
   "outputs": [
    {
     "data": {
      "text/html": [
       "<div>\n",
       "<style scoped>\n",
       "    .dataframe tbody tr th:only-of-type {\n",
       "        vertical-align: middle;\n",
       "    }\n",
       "\n",
       "    .dataframe tbody tr th {\n",
       "        vertical-align: top;\n",
       "    }\n",
       "\n",
       "    .dataframe thead th {\n",
       "        text-align: right;\n",
       "    }\n",
       "</style>\n",
       "<table border=\"1\" class=\"dataframe\">\n",
       "  <thead>\n",
       "    <tr style=\"text-align: right;\">\n",
       "      <th></th>\n",
       "      <th>trip_id</th>\n",
       "      <th>arrival_time</th>\n",
       "      <th>departure_time</th>\n",
       "      <th>stop_id</th>\n",
       "      <th>stop_sequence</th>\n",
       "      <th>stop_headsign</th>\n",
       "    </tr>\n",
       "  </thead>\n",
       "  <tbody>\n",
       "    <tr>\n",
       "      <th>0</th>\n",
       "      <td>712</td>\n",
       "      <td>07:36:16</td>\n",
       "      <td>07:36:36</td>\n",
       "      <td>8111</td>\n",
       "      <td>1</td>\n",
       "      <td>Well Station Drive</td>\n",
       "    </tr>\n",
       "    <tr>\n",
       "      <th>1</th>\n",
       "      <td>712</td>\n",
       "      <td>07:38:20</td>\n",
       "      <td>07:38:40</td>\n",
       "      <td>8109</td>\n",
       "      <td>2</td>\n",
       "      <td>Nullarbor Avenue</td>\n",
       "    </tr>\n",
       "    <tr>\n",
       "      <th>2</th>\n",
       "      <td>712</td>\n",
       "      <td>07:39:51</td>\n",
       "      <td>07:40:11</td>\n",
       "      <td>8107</td>\n",
       "      <td>3</td>\n",
       "      <td>Mapleton Avenue</td>\n",
       "    </tr>\n",
       "    <tr>\n",
       "      <th>3</th>\n",
       "      <td>712</td>\n",
       "      <td>07:41:45</td>\n",
       "      <td>07:42:05</td>\n",
       "      <td>8105</td>\n",
       "      <td>4</td>\n",
       "      <td>Manning Clark Crescent</td>\n",
       "    </tr>\n",
       "    <tr>\n",
       "      <th>4</th>\n",
       "      <td>712</td>\n",
       "      <td>07:43:43</td>\n",
       "      <td>07:43:43</td>\n",
       "      <td>8100</td>\n",
       "      <td>5</td>\n",
       "      <td>Gungahlin Place</td>\n",
       "    </tr>\n",
       "  </tbody>\n",
       "</table>\n",
       "</div>"
      ],
      "text/plain": [
       "   trip_id arrival_time departure_time  stop_id  stop_sequence  \\\n",
       "0      712     07:36:16       07:36:36     8111              1   \n",
       "1      712     07:38:20       07:38:40     8109              2   \n",
       "2      712     07:39:51       07:40:11     8107              3   \n",
       "3      712     07:41:45       07:42:05     8105              4   \n",
       "4      712     07:43:43       07:43:43     8100              5   \n",
       "\n",
       "            stop_headsign  \n",
       "0      Well Station Drive  \n",
       "1        Nullarbor Avenue  \n",
       "2         Mapleton Avenue  \n",
       "3  Manning Clark Crescent  \n",
       "4         Gungahlin Place  "
      ]
     },
     "execution_count": 16,
     "metadata": {},
     "output_type": "execute_result"
    }
   ],
   "source": [
    "# check stop_times dataset\n",
    "stop_times.head()"
   ]
  },
  {
   "cell_type": "code",
   "execution_count": 17,
   "metadata": {
    "ExecuteTime": {
     "end_time": "2019-06-06T00:00:28.513567Z",
     "start_time": "2019-06-06T00:00:28.456122Z"
    }
   },
   "outputs": [],
   "source": [
    "# SQL database information\n",
    "db_uri = 'postgresql://postgres@localhost:5432/noelangelo'\n",
    "engine = create_engine(db_uri)\n",
    "\n",
    "meta = MetaData(engine)"
   ]
  },
  {
   "cell_type": "markdown",
   "metadata": {},
   "source": [
    "### Trips Table"
   ]
  },
  {
   "cell_type": "code",
   "execution_count": 36,
   "metadata": {
    "ExecuteTime": {
     "end_time": "2019-06-02T23:00:38.728874Z",
     "start_time": "2019-06-02T23:00:38.724122Z"
    }
   },
   "outputs": [],
   "source": [
    "t1 = Table('sched_trips', meta,\n",
    "           Column('Route ID', String),\n",
    "           Column('Service ID',String),\n",
    "           Column('Trip ID',String, primary_key=True),\n",
    "           Column('Trip Headsign',String),\n",
    "           Column('Direction ID',Integer))\n",
    "\n",
    "# t1.create()"
   ]
  },
  {
   "cell_type": "markdown",
   "metadata": {},
   "source": [
    "### Stop Times Table"
   ]
  },
  {
   "cell_type": "code",
   "execution_count": 37,
   "metadata": {
    "ExecuteTime": {
     "end_time": "2019-06-02T23:00:40.681682Z",
     "start_time": "2019-06-02T23:00:40.677261Z"
    }
   },
   "outputs": [],
   "source": [
    "t2 = Table('sched_stop_times', meta,\n",
    "           Column('Trip ID', String),\n",
    "           Column('Arrival Time',Time),\n",
    "           Column('Departure Time',Time),\n",
    "           Column('Stop ID',String),\n",
    "           Column('Stop Sequence',Integer),\n",
    "           Column('Stop Headsign',String))"
   ]
  },
  {
   "cell_type": "markdown",
   "metadata": {},
   "source": [
    "### Real-time Table"
   ]
  },
  {
   "cell_type": "code",
   "execution_count": 18,
   "metadata": {
    "ExecuteTime": {
     "end_time": "2019-06-06T00:00:57.145623Z",
     "start_time": "2019-06-06T00:00:57.139486Z"
    }
   },
   "outputs": [],
   "source": [
    "t3 = Table('gtfsr_feed', meta,\n",
    "                 Column('Arrival Time', Integer),\n",
    "                 Column('Arrival Delay', DateTime),\n",
    "                 Column('Arrival Uncertainty', Integer),\n",
    "                 Column('Departure Delay', Integer),\n",
    "                 Column('Departure Time', DateTime),\n",
    "                 Column('Departure Uncertainty', Integer),\n",
    "                 Column('Schedule Relationship', String),\n",
    "                 Column('Stop ID', String),\n",
    "                 Column('Stop Sequence', Integer),\n",
    "                 Column('Trip ID', String),\n",
    "                 Column('Request Timestamp', DateTime),\n",
    "                 Column('Delay', Integer),\n",
    "                 Column('Feed ID', Integer))"
   ]
  },
  {
   "cell_type": "markdown",
   "metadata": {},
   "source": [
    "### Create Tables"
   ]
  },
  {
   "cell_type": "code",
   "execution_count": 38,
   "metadata": {
    "ExecuteTime": {
     "end_time": "2019-06-03T05:31:58.394863Z",
     "start_time": "2019-06-03T05:31:57.861111Z"
    }
   },
   "outputs": [],
   "source": [
    "t1.create() # create sched_trips table\n",
    "t2.create() # create sched_stop_times table"
   ]
  },
  {
   "cell_type": "code",
   "execution_count": 19,
   "metadata": {
    "ExecuteTime": {
     "end_time": "2019-06-06T00:00:59.561728Z",
     "start_time": "2019-06-06T00:00:59.522285Z"
    }
   },
   "outputs": [],
   "source": [
    "t3.create() # create realtime feed table"
   ]
  },
  {
   "cell_type": "code",
   "execution_count": 46,
   "metadata": {
    "ExecuteTime": {
     "end_time": "2019-06-03T06:43:02.868946Z",
     "start_time": "2019-06-03T06:43:02.861868Z"
    }
   },
   "outputs": [],
   "source": [
    "trips.columns = ['Route ID', 'Service ID', 'Trip ID', 'Trip Headsign', 'Direction ID']"
   ]
  },
  {
   "cell_type": "code",
   "execution_count": 45,
   "metadata": {
    "ExecuteTime": {
     "end_time": "2019-06-03T06:41:47.139045Z",
     "start_time": "2019-06-03T06:41:47.133900Z"
    }
   },
   "outputs": [],
   "source": [
    "stop_times.columns = ['Trip ID', 'Arrival Time', 'Departure Time', 'Stop ID', 'Stop Sequence', 'Stop Headsign']"
   ]
  },
  {
   "cell_type": "markdown",
   "metadata": {},
   "source": [
    "### Insert Records"
   ]
  },
  {
   "cell_type": "code",
   "execution_count": 48,
   "metadata": {
    "ExecuteTime": {
     "end_time": "2019-06-03T06:43:59.258595Z",
     "start_time": "2019-06-03T06:43:59.252523Z"
    }
   },
   "outputs": [],
   "source": [
    "conn = engine.connect()"
   ]
  },
  {
   "cell_type": "code",
   "execution_count": 50,
   "metadata": {
    "ExecuteTime": {
     "end_time": "2019-06-03T06:44:35.548601Z",
     "start_time": "2019-06-03T06:44:35.371890Z"
    }
   },
   "outputs": [
    {
     "data": {
      "text/plain": [
       "<sqlalchemy.engine.result.ResultProxy at 0x1201a0ba8>"
      ]
     },
     "execution_count": 50,
     "metadata": {},
     "output_type": "execute_result"
    }
   ],
   "source": [
    "conn.execute(t1.insert(trips.to_dict(orient='records')))"
   ]
  },
  {
   "cell_type": "code",
   "execution_count": 51,
   "metadata": {
    "ExecuteTime": {
     "end_time": "2019-06-03T06:45:43.813856Z",
     "start_time": "2019-06-03T06:45:42.028996Z"
    }
   },
   "outputs": [
    {
     "data": {
      "text/plain": [
       "<sqlalchemy.engine.result.ResultProxy at 0x122da3f98>"
      ]
     },
     "execution_count": 51,
     "metadata": {},
     "output_type": "execute_result"
    }
   ],
   "source": [
    "conn.execute(t2.insert(stop_times.to_dict(orient='records')))"
   ]
  },
  {
   "cell_type": "code",
   "execution_count": null,
   "metadata": {},
   "outputs": [],
   "source": []
  }
 ],
 "metadata": {
  "kernelspec": {
   "display_name": "Python 3",
   "language": "python",
   "name": "python3"
  },
  "language_info": {
   "codemirror_mode": {
    "name": "ipython",
    "version": 3
   },
   "file_extension": ".py",
   "mimetype": "text/x-python",
   "name": "python",
   "nbconvert_exporter": "python",
   "pygments_lexer": "ipython3",
   "version": "3.6.8"
  },
  "toc": {
   "base_numbering": 1,
   "nav_menu": {},
   "number_sections": true,
   "sideBar": true,
   "skip_h1_title": false,
   "title_cell": "Table of Contents",
   "title_sidebar": "Contents",
   "toc_cell": false,
   "toc_position": {
    "height": "calc(100% - 180px)",
    "left": "10px",
    "top": "150px",
    "width": "347.5px"
   },
   "toc_section_display": true,
   "toc_window_display": false
  },
  "varInspector": {
   "cols": {
    "lenName": 16,
    "lenType": 16,
    "lenVar": 40
   },
   "kernels_config": {
    "python": {
     "delete_cmd_postfix": "",
     "delete_cmd_prefix": "del ",
     "library": "var_list.py",
     "varRefreshCmd": "print(var_dic_list())"
    },
    "r": {
     "delete_cmd_postfix": ") ",
     "delete_cmd_prefix": "rm(",
     "library": "var_list.r",
     "varRefreshCmd": "cat(var_dic_list()) "
    }
   },
   "types_to_exclude": [
    "module",
    "function",
    "builtin_function_or_method",
    "instance",
    "_Feature"
   ],
   "window_display": false
  }
 },
 "nbformat": 4,
 "nbformat_minor": 2
}
