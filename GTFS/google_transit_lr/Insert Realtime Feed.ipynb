{
 "cells": [
  {
   "cell_type": "markdown",
   "metadata": {},
   "source": [
    "# Realtime Feed to PostgreSQL"
   ]
  },
  {
   "cell_type": "code",
   "execution_count": null,
   "metadata": {
    "ExecuteTime": {
     "end_time": "2019-06-05T00:44:38.857042Z",
     "start_time": "2019-06-05T00:44:38.853765Z"
    }
   },
   "outputs": [],
   "source": [
    "from sqlalchemy import inspect\n",
    "from sqlalchemy import MetaData\n",
    "from sqlalchemy import Table"
   ]
  },
  {
   "cell_type": "code",
   "execution_count": null,
   "metadata": {
    "ExecuteTime": {
     "end_time": "2019-06-05T00:44:39.540843Z",
     "start_time": "2019-06-05T00:44:39.537564Z"
    }
   },
   "outputs": [],
   "source": [
    "import sqlalchemy as db\n",
    "import pandas as pd"
   ]
  },
  {
   "cell_type": "code",
   "execution_count": null,
   "metadata": {
    "ExecuteTime": {
     "end_time": "2019-06-05T00:44:40.181047Z",
     "start_time": "2019-06-05T00:44:40.177453Z"
    }
   },
   "outputs": [],
   "source": [
    "import datetime"
   ]
  },
  {
   "cell_type": "markdown",
   "metadata": {},
   "source": [
    "## Pull PostgreSQL Database"
   ]
  },
  {
   "cell_type": "code",
   "execution_count": null,
   "metadata": {
    "ExecuteTime": {
     "end_time": "2019-06-05T00:44:42.482469Z",
     "start_time": "2019-06-05T00:44:42.476072Z"
    }
   },
   "outputs": [],
   "source": [
    "engine = db.create_engine('postgresql://postgres@localhost:5432/noelangelo')"
   ]
  },
  {
   "cell_type": "code",
   "execution_count": null,
   "metadata": {
    "ExecuteTime": {
     "end_time": "2019-06-05T00:44:43.440675Z",
     "start_time": "2019-06-05T00:44:43.377424Z"
    }
   },
   "outputs": [],
   "source": [
    "rt_feed = pd.read_sql_table('gtfsr_feed', engine)"
   ]
  },
  {
   "cell_type": "code",
   "execution_count": null,
   "metadata": {
    "ExecuteTime": {
     "end_time": "2019-06-05T00:44:43.882569Z",
     "start_time": "2019-06-05T00:44:43.869737Z"
    }
   },
   "outputs": [],
   "source": [
    "rt_feed.info()"
   ]
  },
  {
   "cell_type": "code",
   "execution_count": null,
   "metadata": {
    "ExecuteTime": {
     "end_time": "2019-06-05T00:44:51.252655Z",
     "start_time": "2019-06-05T00:44:51.185695Z"
    }
   },
   "outputs": [],
   "source": [
    "# Create MetaData instance\n",
    "metadata = MetaData(engine, reflect=True)\n",
    "\n",
    "# Get Table\n",
    "gtfsr_table = metadata.tables['gtfsr_feed']"
   ]
  },
  {
   "cell_type": "code",
   "execution_count": null,
   "metadata": {
    "ExecuteTime": {
     "end_time": "2019-06-05T00:44:52.633642Z",
     "start_time": "2019-06-05T00:44:52.620761Z"
    }
   },
   "outputs": [],
   "source": [
    "rt_feed"
   ]
  },
  {
   "cell_type": "markdown",
   "metadata": {},
   "source": [
    "---\n",
    "1. acquire last 10 rows from database\n",
    "2. acquire feed\n"
   ]
  },
  {
   "cell_type": "markdown",
   "metadata": {},
   "source": [
    "# Scratchpad"
   ]
  },
  {
   "cell_type": "code",
   "execution_count": null,
   "metadata": {
    "ExecuteTime": {
     "end_time": "2019-06-05T00:39:09.967994Z",
     "start_time": "2019-06-05T00:39:09.962734Z"
    }
   },
   "outputs": [],
   "source": [
    "datetime.datetime.now()"
   ]
  },
  {
   "cell_type": "code",
   "execution_count": null,
   "metadata": {
    "ExecuteTime": {
     "end_time": "2019-06-05T00:41:50.219980Z",
     "start_time": "2019-06-05T00:41:50.210896Z"
    }
   },
   "outputs": [],
   "source": [
    "rt_feed['Arrival Date'] = rt_feed['Arrival Time'].apply(lambda x: x.date())\n",
    "rt_feed['Arrival Time'] = rt_feed['Arrival Time'].apply(lambda x: x.time())"
   ]
  },
  {
   "cell_type": "code",
   "execution_count": null,
   "metadata": {
    "ExecuteTime": {
     "end_time": "2019-06-05T00:42:02.750411Z",
     "start_time": "2019-06-05T00:42:02.742912Z"
    }
   },
   "outputs": [],
   "source": [
    "rt_feed['Departure Date'] = rt_feed['Departure Time'].apply(lambda x: x.date())\n",
    "rt_feed['Departure Time'] = rt_feed['Departure Time'].apply(lambda x: x.time())"
   ]
  },
  {
   "cell_type": "code",
   "execution_count": null,
   "metadata": {
    "ExecuteTime": {
     "end_time": "2019-06-05T00:42:06.461041Z",
     "start_time": "2019-06-05T00:42:06.443446Z"
    }
   },
   "outputs": [],
   "source": [
    "rt_feed"
   ]
  },
  {
   "cell_type": "code",
   "execution_count": null,
   "metadata": {
    "ExecuteTime": {
     "end_time": "2019-06-05T17:15:02.827616Z",
     "start_time": "2019-06-05T17:15:02.629635Z"
    }
   },
   "outputs": [],
   "source": [
    "engine = db.create_engine('postgresql://postgres@localhost:5432/noelangelo')\n",
    "conn = engine.connect()\n",
    "\n",
    "# Create MetaData instance\n",
    "metadata = MetaData(engine, reflect=True)\n",
    "\n",
    "# Get Table\n",
    "gtfsr_table = metadata.tables['gtfsr_feed']"
   ]
  },
  {
   "cell_type": "code",
   "execution_count": null,
   "metadata": {},
   "outputs": [],
   "source": [
    "query = \"select * from TABLENAME\"\n",
    "past_query = pd.read_sql(query, engine)"
   ]
  }
 ],
 "metadata": {
  "kernelspec": {
   "display_name": "Python 3",
   "language": "python",
   "name": "python3"
  },
  "language_info": {
   "codemirror_mode": {
    "name": "ipython",
    "version": 3
   },
   "file_extension": ".py",
   "mimetype": "text/x-python",
   "name": "python",
   "nbconvert_exporter": "python",
   "pygments_lexer": "ipython3",
   "version": "3.6.8"
  },
  "toc": {
   "base_numbering": 1,
   "nav_menu": {},
   "number_sections": true,
   "sideBar": true,
   "skip_h1_title": false,
   "title_cell": "Table of Contents",
   "title_sidebar": "Contents",
   "toc_cell": false,
   "toc_position": {},
   "toc_section_display": true,
   "toc_window_display": false
  },
  "varInspector": {
   "cols": {
    "lenName": 16,
    "lenType": 16,
    "lenVar": 40
   },
   "kernels_config": {
    "python": {
     "delete_cmd_postfix": "",
     "delete_cmd_prefix": "del ",
     "library": "var_list.py",
     "varRefreshCmd": "print(var_dic_list())"
    },
    "r": {
     "delete_cmd_postfix": ") ",
     "delete_cmd_prefix": "rm(",
     "library": "var_list.r",
     "varRefreshCmd": "cat(var_dic_list()) "
    }
   },
   "types_to_exclude": [
    "module",
    "function",
    "builtin_function_or_method",
    "instance",
    "_Feature"
   ],
   "window_display": false
  }
 },
 "nbformat": 4,
 "nbformat_minor": 2
}
