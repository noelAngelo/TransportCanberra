{
 "cells": [
  {
   "cell_type": "markdown",
   "metadata": {
    "toc": true
   },
   "source": [
    "<h1>Table of Contents<span class=\"tocSkip\"></span></h1>\n",
    "<div class=\"toc\"><ul class=\"toc-item\"><li><span><a href=\"#Inserting-a-Document\" data-toc-modified-id=\"Inserting-a-Document-1\"><span class=\"toc-item-num\">1&nbsp;&nbsp;</span>Inserting a Document</a></span></li><li><span><a href=\"#Retrieving-a-Document\" data-toc-modified-id=\"Retrieving-a-Document-2\"><span class=\"toc-item-num\">2&nbsp;&nbsp;</span>Retrieving a Document</a></span></li><li><span><a href=\"#Deleting-a-Document\" data-toc-modified-id=\"Deleting-a-Document-3\"><span class=\"toc-item-num\">3&nbsp;&nbsp;</span>Deleting a Document</a></span></li><li><span><a href=\"#Search-Lite:\" data-toc-modified-id=\"Search-Lite:-4\"><span class=\"toc-item-num\">4&nbsp;&nbsp;</span>Search Lite:</a></span><ul class=\"toc-item\"><li><span><a href=\"#match-operator:\" data-toc-modified-id=\"match-operator:-4.1\"><span class=\"toc-item-num\">4.1&nbsp;&nbsp;</span><code>match operator:</code></a></span></li><li><span><a href=\"#bool-operator:\" data-toc-modified-id=\"bool-operator:-4.2\"><span class=\"toc-item-num\">4.2&nbsp;&nbsp;</span><code>bool operator:</code></a></span></li><li><span><a href=\"#Filter-operator:\" data-toc-modified-id=\"Filter-operator:-4.3\"><span class=\"toc-item-num\">4.3&nbsp;&nbsp;</span>Filter operator:</a></span></li></ul></li><li><span><a href=\"#Full-text-search\" data-toc-modified-id=\"Full-text-search-5\"><span class=\"toc-item-num\">5&nbsp;&nbsp;</span>Full text search</a></span></li><li><span><a href=\"#Phrase-Search\" data-toc-modified-id=\"Phrase-Search-6\"><span class=\"toc-item-num\">6&nbsp;&nbsp;</span>Phrase Search</a></span></li><li><span><a href=\"#Aggregations\" data-toc-modified-id=\"Aggregations-7\"><span class=\"toc-item-num\">7&nbsp;&nbsp;</span>Aggregations</a></span></li></ul></div>"
   ]
  },
  {
   "cell_type": "markdown",
   "metadata": {},
   "source": [
    "# Elasticsearch Using Python"
   ]
  },
  {
   "cell_type": "code",
   "execution_count": 2,
   "metadata": {
    "ExecuteTime": {
     "end_time": "2019-05-27T11:17:19.927449Z",
     "start_time": "2019-05-27T11:17:19.731683Z"
    }
   },
   "outputs": [],
   "source": [
    "# Import Elasticsearch package \n",
    "from elasticsearch import Elasticsearch "
   ]
  },
  {
   "cell_type": "code",
   "execution_count": 3,
   "metadata": {
    "ExecuteTime": {
     "end_time": "2019-05-27T11:17:34.555342Z",
     "start_time": "2019-05-27T11:17:34.544138Z"
    }
   },
   "outputs": [
    {
     "data": {
      "text/plain": [
       "<Elasticsearch([{'host': 'localhost', 'port': 9200}])>"
      ]
     },
     "execution_count": 3,
     "metadata": {},
     "output_type": "execute_result"
    }
   ],
   "source": [
    "# Connect to the elastic cluster\n",
    "es=Elasticsearch([{'host':'localhost','port':9200}])\n",
    "es"
   ]
  },
  {
   "cell_type": "markdown",
   "metadata": {},
   "source": [
    "`Elasticsearch` is document oriented, meaning that it stores entire object or documents. \n",
    "\n",
    "It not only stores them, but also indexes the content of each document in order to make them searchable. In Elasticsearch you `index`, `search`, `sort` and `filter` documents."
   ]
  },
  {
   "cell_type": "code",
   "execution_count": 4,
   "metadata": {
    "ExecuteTime": {
     "end_time": "2019-05-27T11:18:25.523882Z",
     "start_time": "2019-05-27T11:18:25.520371Z"
    }
   },
   "outputs": [],
   "source": [
    "e1={\n",
    "    \"first_name\":\"nitin\",\n",
    "    \"last_name\":\"panwar\",\n",
    "    \"age\": 27,\n",
    "    \"about\": \"Love to play cricket\",\n",
    "    \"interests\": ['sports','music'],\n",
    "}"
   ]
  },
  {
   "cell_type": "code",
   "execution_count": 5,
   "metadata": {
    "ExecuteTime": {
     "end_time": "2019-05-27T11:18:30.398398Z",
     "start_time": "2019-05-27T11:18:30.394820Z"
    }
   },
   "outputs": [
    {
     "name": "stdout",
     "output_type": "stream",
     "text": [
      "{'first_name': 'nitin', 'last_name': 'panwar', 'age': 27, 'about': 'Love to play cricket', 'interests': ['sports', 'music']}\n"
     ]
    }
   ],
   "source": [
    "print(e1)"
   ]
  },
  {
   "cell_type": "markdown",
   "metadata": {
    "heading_collapsed": true
   },
   "source": [
    "## Inserting a Document"
   ]
  },
  {
   "cell_type": "code",
   "execution_count": 6,
   "metadata": {
    "ExecuteTime": {
     "end_time": "2019-05-27T11:19:49.852309Z",
     "start_time": "2019-05-27T11:19:49.518873Z"
    },
    "hidden": true
   },
   "outputs": [],
   "source": [
    "#Now let's store this document in Elasticsearch \n",
    "res = es.index(index='megacorp',doc_type='employee',id=1,body=e1)"
   ]
  },
  {
   "cell_type": "markdown",
   "metadata": {
    "hidden": true
   },
   "source": [
    "Simple! There was no need to perform any administrative tasks first, like creating an index or specifying the type of data that each field contains. We could just index a document directly. Elasticsearch ships with defaults for everything, so all the necessary administration tasks were taken care of in the background, using default values."
   ]
  },
  {
   "cell_type": "code",
   "execution_count": 8,
   "metadata": {
    "ExecuteTime": {
     "end_time": "2019-05-27T11:21:10.809008Z",
     "start_time": "2019-05-27T11:21:10.710677Z"
    },
    "hidden": true
   },
   "outputs": [],
   "source": [
    "# Let's insert some more documents\n",
    "e2={\n",
    "    \"first_name\" :  \"Jane\",\n",
    "    \"last_name\" :   \"Smith\",\n",
    "    \"age\" :         32,\n",
    "    \"about\" :       \"I like to collect rock albums\",\n",
    "    \"interests\":  [ \"music\" ]\n",
    "}\n",
    "e3={\n",
    "    \"first_name\" :  \"Douglas\",\n",
    "    \"last_name\" :   \"Fir\",\n",
    "    \"age\" :         35,\n",
    "    \"about\":        \"I like to build cabinets\",\n",
    "    \"interests\":  [ \"forestry\" ]\n",
    "}\n",
    "\n",
    "res=es.index(index='megacorp',doc_type='employee',id=2,body=e2)\n",
    "print(res['result'])\n",
    "res=es.index(index='megacorp',doc_type='employee',id=3,body=e3)\n",
    "print(res['result'])"
   ]
  },
  {
   "cell_type": "markdown",
   "metadata": {},
   "source": [
    "## Retrieving a Document\n",
    "This is easy in Elasticsearch. We simply execute an HTTP GET request and specify the address of the document — the index, type, and ID. Using those three pieces of information, we can return the original JSON document"
   ]
  },
  {
   "cell_type": "code",
   "execution_count": 11,
   "metadata": {
    "ExecuteTime": {
     "end_time": "2019-05-27T11:22:38.926898Z",
     "start_time": "2019-05-27T11:22:38.883866Z"
    }
   },
   "outputs": [
    {
     "name": "stdout",
     "output_type": "stream",
     "text": [
      "{'_index': 'megacorp', '_type': 'employee', '_id': '3', '_version': 1, '_seq_no': 3, '_primary_term': 1, 'found': True, '_source': {'first_name': 'Douglas', 'last_name': 'Fir', 'age': 35, 'about': 'I like to build cabinets', 'interests': ['forestry']}}\n"
     ]
    }
   ],
   "source": [
    "res=es.get(index='megacorp',doc_type='employee',id=3)\n",
    "print(res)"
   ]
  },
  {
   "cell_type": "markdown",
   "metadata": {},
   "source": [
    "you will get the actual document in `_source` field"
   ]
  },
  {
   "cell_type": "code",
   "execution_count": 12,
   "metadata": {
    "ExecuteTime": {
     "end_time": "2019-05-27T11:23:24.587940Z",
     "start_time": "2019-05-27T11:23:24.583395Z"
    }
   },
   "outputs": [
    {
     "name": "stdout",
     "output_type": "stream",
     "text": [
      "{'first_name': 'Douglas', 'last_name': 'Fir', 'age': 35, 'about': 'I like to build cabinets', 'interests': ['forestry']}\n"
     ]
    }
   ],
   "source": [
    "print(res['_source'])"
   ]
  },
  {
   "cell_type": "markdown",
   "metadata": {
    "heading_collapsed": true
   },
   "source": [
    "## Deleting a Document"
   ]
  },
  {
   "cell_type": "code",
   "execution_count": 13,
   "metadata": {
    "ExecuteTime": {
     "end_time": "2019-05-27T11:23:51.952907Z",
     "start_time": "2019-05-27T11:23:51.932535Z"
    },
    "hidden": true
   },
   "outputs": [
    {
     "name": "stdout",
     "output_type": "stream",
     "text": [
      "deleted\n"
     ]
    }
   ],
   "source": [
    "res=es.delete(index='megacorp',doc_type='employee',id=3)\n",
    "print(res['result'])"
   ]
  },
  {
   "cell_type": "code",
   "execution_count": 16,
   "metadata": {
    "ExecuteTime": {
     "end_time": "2019-05-27T11:25:04.992226Z",
     "start_time": "2019-05-27T11:25:04.981877Z"
    },
    "hidden": true
   },
   "outputs": [
    {
     "name": "stdout",
     "output_type": "stream",
     "text": [
      "Got 2 hits:\n"
     ]
    }
   ],
   "source": [
    "# validate in Elasticsearch\n",
    "res= es.search(index='megacorp',body={'query':{'match_all':{}}})\n",
    "print('Got {} hits:'.format(res['hits']['total']['value']))"
   ]
  },
  {
   "cell_type": "markdown",
   "metadata": {},
   "source": [
    "## Search Lite:\n",
    "A GET is fairly simple — you get back the document that you ask for. Let’s try something a little more advanced, like a simple search!"
   ]
  },
  {
   "cell_type": "code",
   "execution_count": 49,
   "metadata": {
    "ExecuteTime": {
     "end_time": "2019-05-27T13:02:09.814368Z",
     "start_time": "2019-05-27T13:02:09.808080Z"
    }
   },
   "outputs": [],
   "source": [
    "res= es.search(index='megacorp')"
   ]
  },
  {
   "cell_type": "code",
   "execution_count": 50,
   "metadata": {
    "ExecuteTime": {
     "end_time": "2019-05-27T13:02:10.281220Z",
     "start_time": "2019-05-27T13:02:10.271613Z"
    }
   },
   "outputs": [
    {
     "data": {
      "text/plain": [
       "dict_keys(['took', 'timed_out', '_shards', 'hits'])"
      ]
     },
     "execution_count": 50,
     "metadata": {},
     "output_type": "execute_result"
    }
   ],
   "source": [
    "res.keys()"
   ]
  },
  {
   "cell_type": "code",
   "execution_count": 51,
   "metadata": {
    "ExecuteTime": {
     "end_time": "2019-05-27T13:02:11.626895Z",
     "start_time": "2019-05-27T13:02:11.620336Z"
    }
   },
   "outputs": [
    {
     "data": {
      "text/plain": [
       "[{'_index': 'megacorp',\n",
       "  '_type': 'employee',\n",
       "  '_id': '1',\n",
       "  '_score': 1.0,\n",
       "  '_source': {'first_name': 'nitin',\n",
       "   'last_name': 'panwar',\n",
       "   'age': 27,\n",
       "   'about': 'Love to play cricket',\n",
       "   'interests': ['sports', 'music']}},\n",
       " {'_index': 'megacorp',\n",
       "  '_type': 'employee',\n",
       "  '_id': '4',\n",
       "  '_score': 1.0,\n",
       "  '_source': {'first_name': 'asd',\n",
       "   'last_name': 'pafdfd',\n",
       "   'age': 27,\n",
       "   'about': 'Love to play football',\n",
       "   'interests': ['sports', 'music']}},\n",
       " {'_index': 'megacorp',\n",
       "  '_type': 'employee',\n",
       "  '_id': '2',\n",
       "  '_score': 1.0,\n",
       "  '_source': {'first_name': 'Jane',\n",
       "   'last_name': 'Smith',\n",
       "   'age': 32,\n",
       "   'about': 'I like to collect rock albums',\n",
       "   'interests': ['music']}}]"
      ]
     },
     "execution_count": 51,
     "metadata": {},
     "output_type": "execute_result"
    }
   ],
   "source": [
    "res['hits']['hits']"
   ]
  },
  {
   "cell_type": "markdown",
   "metadata": {},
   "source": [
    "### `match operator:`"
   ]
  },
  {
   "cell_type": "code",
   "execution_count": 27,
   "metadata": {
    "ExecuteTime": {
     "end_time": "2019-05-27T12:06:04.102250Z",
     "start_time": "2019-05-27T12:06:04.093592Z"
    }
   },
   "outputs": [
    {
     "data": {
      "text/plain": [
       "[{'_index': 'megacorp',\n",
       "  '_type': 'employee',\n",
       "  '_id': '1',\n",
       "  '_score': 1.2039728,\n",
       "  '_source': {'first_name': 'nitin',\n",
       "   'last_name': 'panwar',\n",
       "   'age': 27,\n",
       "   'about': 'Love to play cricket',\n",
       "   'interests': ['sports', 'music']}}]"
      ]
     },
     "execution_count": 27,
     "metadata": {},
     "output_type": "execute_result"
    }
   ],
   "source": [
    "res= es.search(index='megacorp',body={'query':{'match':{'first_name':'nitin'}}})\n",
    "res['hits']['hits']"
   ]
  },
  {
   "cell_type": "code",
   "execution_count": 37,
   "metadata": {
    "ExecuteTime": {
     "end_time": "2019-05-27T12:08:16.767085Z",
     "start_time": "2019-05-27T12:08:16.754995Z"
    }
   },
   "outputs": [
    {
     "data": {
      "text/html": [
       "<div>\n",
       "<style scoped>\n",
       "    .dataframe tbody tr th:only-of-type {\n",
       "        vertical-align: middle;\n",
       "    }\n",
       "\n",
       "    .dataframe tbody tr th {\n",
       "        vertical-align: top;\n",
       "    }\n",
       "\n",
       "    .dataframe thead th {\n",
       "        text-align: right;\n",
       "    }\n",
       "</style>\n",
       "<table border=\"1\" class=\"dataframe\">\n",
       "  <thead>\n",
       "    <tr style=\"text-align: right;\">\n",
       "      <th></th>\n",
       "      <th>first_name</th>\n",
       "      <th>last_name</th>\n",
       "      <th>age</th>\n",
       "      <th>about</th>\n",
       "      <th>interests</th>\n",
       "    </tr>\n",
       "  </thead>\n",
       "  <tbody>\n",
       "    <tr>\n",
       "      <th>0</th>\n",
       "      <td>nitin</td>\n",
       "      <td>panwar</td>\n",
       "      <td>27</td>\n",
       "      <td>Love to play cricket</td>\n",
       "      <td>sports</td>\n",
       "    </tr>\n",
       "    <tr>\n",
       "      <th>1</th>\n",
       "      <td>nitin</td>\n",
       "      <td>panwar</td>\n",
       "      <td>27</td>\n",
       "      <td>Love to play cricket</td>\n",
       "      <td>music</td>\n",
       "    </tr>\n",
       "  </tbody>\n",
       "</table>\n",
       "</div>"
      ],
      "text/plain": [
       "  first_name last_name  age                 about interests\n",
       "0      nitin    panwar   27  Love to play cricket    sports\n",
       "1      nitin    panwar   27  Love to play cricket     music"
      ]
     },
     "execution_count": 37,
     "metadata": {},
     "output_type": "execute_result"
    }
   ],
   "source": [
    "import pandas as pd\n",
    "pd.DataFrame.from_dict(res['hits']['hits'][0]['_source'])"
   ]
  },
  {
   "cell_type": "markdown",
   "metadata": {},
   "source": [
    "### `bool operator:`\n",
    "bool takes a dictionary containing at least one of must, should, and must_not, each of which takes a list of matches or other further search operators."
   ]
  },
  {
   "cell_type": "code",
   "execution_count": 38,
   "metadata": {
    "ExecuteTime": {
     "end_time": "2019-05-27T12:26:14.199393Z",
     "start_time": "2019-05-27T12:26:14.178975Z"
    }
   },
   "outputs": [
    {
     "name": "stdout",
     "output_type": "stream",
     "text": [
      "[{'_index': 'megacorp', '_type': 'employee', '_id': '1', '_score': 1.2039728, '_source': {'first_name': 'nitin', 'last_name': 'panwar', 'age': 27, 'about': 'Love to play cricket', 'interests': ['sports', 'music']}}]\n"
     ]
    }
   ],
   "source": [
    "res= es.search(index='megacorp',body={\n",
    "        'query':{\n",
    "            'bool':{\n",
    "                'must':[{\n",
    "                        'match':{\n",
    "                            'first_name':'nitin'\n",
    "                        }\n",
    "                    }]\n",
    "            }\n",
    "        }\n",
    "    })\n",
    "print(res['hits']['hits'])"
   ]
  },
  {
   "cell_type": "markdown",
   "metadata": {},
   "source": [
    "### Filter operator:\n",
    "\n",
    "We still want to find all employees with a first name of nitin, but we want only employees who are older than 30. Our query will change a little to accommodate a filter, which allows us to execute structured searches efficiently:"
   ]
  },
  {
   "cell_type": "code",
   "execution_count": 39,
   "metadata": {
    "ExecuteTime": {
     "end_time": "2019-05-27T12:48:24.266668Z",
     "start_time": "2019-05-27T12:48:24.233964Z"
    }
   },
   "outputs": [
    {
     "name": "stdout",
     "output_type": "stream",
     "text": [
      "[{'_index': 'megacorp', '_type': 'employee', '_id': '1', '_score': 1.2039728, '_source': {'first_name': 'nitin', 'last_name': 'panwar', 'age': 27, 'about': 'Love to play cricket', 'interests': ['sports', 'music']}}]\n"
     ]
    }
   ],
   "source": [
    "res= es.search(index='megacorp',body={\n",
    "        'query':{\n",
    "            'bool':{\n",
    "                'must':{\n",
    "                    'match':{\n",
    "                        'first_name':'nitin'\n",
    "                    }\n",
    "                },\n",
    "                \"filter\":{\n",
    "                    \"range\":{\n",
    "                        \"age\":{\n",
    "                            \"gt\":25\n",
    "                        }\n",
    "                    }\n",
    "                }\n",
    "            }\n",
    "        }\n",
    "    })\n",
    "print(res['hits']['hits'])"
   ]
  },
  {
   "cell_type": "code",
   "execution_count": 40,
   "metadata": {
    "ExecuteTime": {
     "end_time": "2019-05-27T12:49:07.879180Z",
     "start_time": "2019-05-27T12:49:07.870587Z"
    }
   },
   "outputs": [
    {
     "name": "stdout",
     "output_type": "stream",
     "text": [
      "[]\n"
     ]
    }
   ],
   "source": [
    "res= es.search(index='megacorp',body={\n",
    "        'query':{\n",
    "            'bool':{\n",
    "                'must':{\n",
    "                    'match':{\n",
    "                        'first_name':'nitin'\n",
    "                    }\n",
    "                },\n",
    "                \"filter\":{\n",
    "                    \"range\":{\n",
    "                        \"age\":{\n",
    "                            \"gt\":27\n",
    "                        }\n",
    "                    }\n",
    "                }\n",
    "            }\n",
    "        }\n",
    "    })\n",
    "print(res['hits']['hits'])"
   ]
  },
  {
   "cell_type": "markdown",
   "metadata": {},
   "source": [
    "## Full text search"
   ]
  },
  {
   "cell_type": "code",
   "execution_count": 41,
   "metadata": {
    "ExecuteTime": {
     "end_time": "2019-05-27T12:54:18.610343Z",
     "start_time": "2019-05-27T12:54:18.569862Z"
    }
   },
   "outputs": [],
   "source": [
    "# Before starting this next type of search let me insert one more documnt.\n",
    "e4={\n",
    "    \"first_name\":\"asd\",\n",
    "    \"last_name\":\"pafdfd\",\n",
    "    \"age\": 27,\n",
    "    \"about\": \"Love to play football\",\n",
    "    \"interests\": ['sports','music'],\n",
    "}\n",
    "res=es.index(index='megacorp',doc_type='employee',id=4,body=e4)"
   ]
  },
  {
   "cell_type": "code",
   "execution_count": 43,
   "metadata": {
    "ExecuteTime": {
     "end_time": "2019-05-27T12:55:03.008833Z",
     "start_time": "2019-05-27T12:55:02.135361Z"
    }
   },
   "outputs": [],
   "source": [
    "res= es.search(index='megacorp',body={\n",
    "        'query':{\n",
    "            'match':{\n",
    "                \"about\":\"play cricket\"\n",
    "            }\n",
    "        }\n",
    "})"
   ]
  },
  {
   "cell_type": "code",
   "execution_count": 44,
   "metadata": {
    "ExecuteTime": {
     "end_time": "2019-05-27T12:55:20.322651Z",
     "start_time": "2019-05-27T12:55:20.316935Z"
    }
   },
   "outputs": [
    {
     "name": "stdout",
     "output_type": "stream",
     "text": [
      "Love to play cricket\n",
      "2.4633062\n",
      "**********************\n",
      "Love to play football\n",
      "0.9534808\n",
      "**********************\n"
     ]
    }
   ],
   "source": [
    "for hit in res['hits']['hits']:\n",
    "    print( hit['_source']['about'] )\n",
    "    print( hit['_score'])\n",
    "    print( '**********************')"
   ]
  },
  {
   "cell_type": "markdown",
   "metadata": {},
   "source": [
    "In above example it is returning two records but scores are differnt."
   ]
  },
  {
   "cell_type": "markdown",
   "metadata": {},
   "source": [
    "## Phrase Search\n",
    "Finding individual words in a field is all well and good, but sometimes you want to match exact sequence of words of phrases."
   ]
  },
  {
   "cell_type": "code",
   "execution_count": 46,
   "metadata": {
    "ExecuteTime": {
     "end_time": "2019-05-27T12:57:56.355551Z",
     "start_time": "2019-05-27T12:57:56.333281Z"
    }
   },
   "outputs": [
    {
     "name": "stdout",
     "output_type": "stream",
     "text": [
      "Love to play cricket\n",
      "1.5408845\n",
      "**********************\n"
     ]
    }
   ],
   "source": [
    "res= es.search(index='megacorp',body={\n",
    "        'query':{\n",
    "            'match_phrase':{\n",
    "                \"about\":\"play cricket\"\n",
    "            }\n",
    "        }\n",
    "    })\n",
    "for hit in res['hits']['hits']:\n",
    "    print( hit['_source']['about'] )\n",
    "    print( hit['_score'])\n",
    "    print( '**********************')"
   ]
  },
  {
   "cell_type": "markdown",
   "metadata": {},
   "source": [
    "## Aggregations"
   ]
  },
  {
   "cell_type": "code",
   "execution_count": null,
   "metadata": {},
   "outputs": [],
   "source": []
  }
 ],
 "metadata": {
  "kernelspec": {
   "display_name": "Python 3",
   "language": "python",
   "name": "python3"
  },
  "language_info": {
   "codemirror_mode": {
    "name": "ipython",
    "version": 3
   },
   "file_extension": ".py",
   "mimetype": "text/x-python",
   "name": "python",
   "nbconvert_exporter": "python",
   "pygments_lexer": "ipython3",
   "version": "3.7.3"
  },
  "toc": {
   "base_numbering": 1,
   "nav_menu": {},
   "number_sections": true,
   "sideBar": true,
   "skip_h1_title": true,
   "title_cell": "Table of Contents",
   "title_sidebar": "Contents",
   "toc_cell": true,
   "toc_position": {},
   "toc_section_display": true,
   "toc_window_display": false
  },
  "varInspector": {
   "cols": {
    "lenName": 16,
    "lenType": 16,
    "lenVar": 40
   },
   "kernels_config": {
    "python": {
     "delete_cmd_postfix": "",
     "delete_cmd_prefix": "del ",
     "library": "var_list.py",
     "varRefreshCmd": "print(var_dic_list())"
    },
    "r": {
     "delete_cmd_postfix": ") ",
     "delete_cmd_prefix": "rm(",
     "library": "var_list.r",
     "varRefreshCmd": "cat(var_dic_list()) "
    }
   },
   "types_to_exclude": [
    "module",
    "function",
    "builtin_function_or_method",
    "instance",
    "_Feature"
   ],
   "window_display": false
  }
 },
 "nbformat": 4,
 "nbformat_minor": 2
}
