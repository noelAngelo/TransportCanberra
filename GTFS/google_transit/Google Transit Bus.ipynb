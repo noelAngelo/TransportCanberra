{
 "cells": [
  {
   "cell_type": "code",
   "execution_count": 1,
   "metadata": {
    "ExecuteTime": {
     "end_time": "2019-05-18T11:50:52.783160Z",
     "start_time": "2019-05-18T11:50:52.261919Z"
    }
   },
   "outputs": [],
   "source": [
    "import numpy as np\n",
    "import pandas as pd\n",
    "import qgrid"
   ]
  },
  {
   "cell_type": "markdown",
   "metadata": {},
   "source": [
    "# Bus -Transport Canberra & City Services\n",
    "\n",
    "The GTFS (general transit feed specification) feed provides static timetabling information about a transit\n",
    "network, including stops, routes, trip schedules and other information like a trip’s geometry and information\n",
    "about the transit agency running the trips. "
   ]
  },
  {
   "cell_type": "markdown",
   "metadata": {
    "heading_collapsed": true
   },
   "source": [
    "## Agency\n",
    "One or more transit agencies that provide the data in this feed."
   ]
  },
  {
   "cell_type": "code",
   "execution_count": 2,
   "metadata": {
    "ExecuteTime": {
     "end_time": "2019-05-18T11:50:54.434180Z",
     "start_time": "2019-05-18T11:50:54.397668Z"
    },
    "hidden": true
   },
   "outputs": [
    {
     "data": {
      "text/html": [
       "<div>\n",
       "<style scoped>\n",
       "    .dataframe tbody tr th:only-of-type {\n",
       "        vertical-align: middle;\n",
       "    }\n",
       "\n",
       "    .dataframe tbody tr th {\n",
       "        vertical-align: top;\n",
       "    }\n",
       "\n",
       "    .dataframe thead th {\n",
       "        text-align: right;\n",
       "    }\n",
       "</style>\n",
       "<table border=\"1\" class=\"dataframe\">\n",
       "  <thead>\n",
       "    <tr style=\"text-align: right;\">\n",
       "      <th></th>\n",
       "      <th>agency_id</th>\n",
       "      <th>agency_name</th>\n",
       "      <th>agency_url</th>\n",
       "      <th>agency_timezone</th>\n",
       "      <th>agency_lang</th>\n",
       "      <th>agency_phone</th>\n",
       "    </tr>\n",
       "  </thead>\n",
       "  <tbody>\n",
       "    <tr>\n",
       "      <th>0</th>\n",
       "      <td>TC</td>\n",
       "      <td>Transport Canberra</td>\n",
       "      <td>https://www.transport.act.gov.au</td>\n",
       "      <td>Australia/Sydney</td>\n",
       "      <td>en</td>\n",
       "      <td>131710</td>\n",
       "    </tr>\n",
       "  </tbody>\n",
       "</table>\n",
       "</div>"
      ],
      "text/plain": [
       "  agency_id         agency_name                        agency_url  \\\n",
       "0        TC  Transport Canberra  https://www.transport.act.gov.au   \n",
       "\n",
       "    agency_timezone agency_lang  agency_phone  \n",
       "0  Australia/Sydney          en        131710  "
      ]
     },
     "execution_count": 2,
     "metadata": {},
     "output_type": "execute_result"
    }
   ],
   "source": [
    "agency = pd.read_csv('agency.txt')\n",
    "agency"
   ]
  },
  {
   "cell_type": "markdown",
   "metadata": {
    "heading_collapsed": true
   },
   "source": [
    "## Stops\n",
    "Individual locations where vehicles pick up or drop off passengers."
   ]
  },
  {
   "cell_type": "code",
   "execution_count": 3,
   "metadata": {
    "ExecuteTime": {
     "end_time": "2019-05-18T11:50:55.986075Z",
     "start_time": "2019-05-18T11:50:55.970914Z"
    },
    "hidden": true
   },
   "outputs": [],
   "source": [
    "stops = pd.read_csv('stops.txt')"
   ]
  },
  {
   "cell_type": "code",
   "execution_count": 4,
   "metadata": {
    "ExecuteTime": {
     "end_time": "2019-05-18T11:50:56.776727Z",
     "start_time": "2019-05-18T11:50:56.771182Z"
    },
    "hidden": true
   },
   "outputs": [
    {
     "data": {
      "text/plain": [
       "2359"
      ]
     },
     "execution_count": 4,
     "metadata": {},
     "output_type": "execute_result"
    }
   ],
   "source": [
    "len(stops)"
   ]
  },
  {
   "cell_type": "code",
   "execution_count": 5,
   "metadata": {
    "ExecuteTime": {
     "end_time": "2019-05-18T11:50:58.350025Z",
     "start_time": "2019-05-18T11:50:58.235607Z"
    },
    "hidden": true
   },
   "outputs": [
    {
     "data": {
      "application/vnd.jupyter.widget-view+json": {
       "model_id": "fd5b204677d44ac09e9e2cfe23263140",
       "version_major": 2,
       "version_minor": 0
      },
      "text/plain": [
       "QgridWidget(grid_options={'fullWidthRows': True, 'syncColumnCellResize': True, 'forceFitColumns': True, 'defau…"
      ]
     },
     "metadata": {},
     "output_type": "display_data"
    }
   ],
   "source": [
    "qgrid_stops = qgrid.show_grid(stops, show_toolbar=True)\n",
    "qgrid_stops"
   ]
  },
  {
   "cell_type": "markdown",
   "metadata": {
    "heading_collapsed": true
   },
   "source": [
    "## Routes\n",
    "Transit routes. A route is a group of trips that are displayed to\n",
    "riders as a single service."
   ]
  },
  {
   "cell_type": "code",
   "execution_count": 15,
   "metadata": {
    "ExecuteTime": {
     "end_time": "2019-05-18T11:52:38.682983Z",
     "start_time": "2019-05-18T11:52:38.675160Z"
    },
    "hidden": true
   },
   "outputs": [],
   "source": [
    "routes = pd.read_csv('routes.txt')"
   ]
  },
  {
   "cell_type": "code",
   "execution_count": 16,
   "metadata": {
    "ExecuteTime": {
     "end_time": "2019-05-18T11:52:53.610000Z",
     "start_time": "2019-05-18T11:52:53.472638Z"
    },
    "hidden": true
   },
   "outputs": [
    {
     "data": {
      "application/vnd.jupyter.widget-view+json": {
       "model_id": "c478e69c7b12491f809249ed43b571f3",
       "version_major": 2,
       "version_minor": 0
      },
      "text/plain": [
       "QgridWidget(grid_options={'fullWidthRows': True, 'syncColumnCellResize': True, 'forceFitColumns': True, 'defau…"
      ]
     },
     "metadata": {},
     "output_type": "display_data"
    }
   ],
   "source": [
    "qgrid_routes = qgrid.show_grid(routes, show_toolbar=True)\n",
    "qgrid_routes"
   ]
  },
  {
   "cell_type": "markdown",
   "metadata": {
    "heading_collapsed": true
   },
   "source": [
    "## Trips\n",
    "Trips for each route. A trip is a sequence of two or more stops that\n",
    "occurs at specific time\n",
    "\n",
    "The **service_id** contains an ID that uniquely identifies a set of dates when service is available for one or more routes. This value is referenced from the `calendar.txt` or `calendar_dates.txt` file."
   ]
  },
  {
   "cell_type": "code",
   "execution_count": 7,
   "metadata": {
    "ExecuteTime": {
     "end_time": "2019-05-18T11:51:27.116928Z",
     "start_time": "2019-05-18T11:51:27.083622Z"
    },
    "hidden": true
   },
   "outputs": [],
   "source": [
    "trips = pd.read_csv('trips.txt')"
   ]
  },
  {
   "cell_type": "code",
   "execution_count": 8,
   "metadata": {
    "ExecuteTime": {
     "end_time": "2019-05-18T11:51:27.843574Z",
     "start_time": "2019-05-18T11:51:27.735018Z"
    },
    "hidden": true,
    "scrolled": false
   },
   "outputs": [
    {
     "data": {
      "application/vnd.jupyter.widget-view+json": {
       "model_id": "60756eec91ec428b98ff08b3b1f09363",
       "version_major": 2,
       "version_minor": 0
      },
      "text/plain": [
       "QgridWidget(grid_options={'fullWidthRows': True, 'syncColumnCellResize': True, 'forceFitColumns': True, 'defau…"
      ]
     },
     "metadata": {},
     "output_type": "display_data"
    }
   ],
   "source": [
    "qgrid_trips = qgrid.show_grid(trips, show_toolbar=True)\n",
    "qgrid_trips"
   ]
  },
  {
   "cell_type": "markdown",
   "metadata": {
    "heading_collapsed": true
   },
   "source": [
    "## Stop Times\n",
    "Times that a vehicle arrives at and departs from individual stops\n",
    "for each trip."
   ]
  },
  {
   "cell_type": "code",
   "execution_count": 9,
   "metadata": {
    "ExecuteTime": {
     "end_time": "2019-05-18T11:51:34.568634Z",
     "start_time": "2019-05-18T11:51:34.196814Z"
    },
    "hidden": true
   },
   "outputs": [],
   "source": [
    "stop_times = pd.read_csv('stop_times.txt')"
   ]
  },
  {
   "cell_type": "code",
   "execution_count": 10,
   "metadata": {
    "ExecuteTime": {
     "end_time": "2019-05-18T11:51:35.936127Z",
     "start_time": "2019-05-18T11:51:35.271498Z"
    },
    "hidden": true
   },
   "outputs": [
    {
     "data": {
      "application/vnd.jupyter.widget-view+json": {
       "model_id": "3c833ee93d3d4572b299b553f56d4335",
       "version_major": 2,
       "version_minor": 0
      },
      "text/plain": [
       "QgridWidget(grid_options={'fullWidthRows': True, 'syncColumnCellResize': True, 'forceFitColumns': True, 'defau…"
      ]
     },
     "metadata": {},
     "output_type": "display_data"
    }
   ],
   "source": [
    "qgrid_stop_times = qgrid.show_grid(stop_times, show_toolbar=True)\n",
    "qgrid_stop_times"
   ]
  },
  {
   "cell_type": "markdown",
   "metadata": {
    "heading_collapsed": true
   },
   "source": [
    "## Calendar\n",
    "Dates for service IDs using a weekly schedule. Specify when\n",
    "service starts and ends, as well as days of the week where service\n",
    "is available"
   ]
  },
  {
   "cell_type": "code",
   "execution_count": 11,
   "metadata": {
    "ExecuteTime": {
     "end_time": "2019-05-18T11:51:40.227065Z",
     "start_time": "2019-05-18T11:51:40.209477Z"
    },
    "hidden": true
   },
   "outputs": [
    {
     "data": {
      "text/html": [
       "<div>\n",
       "<style scoped>\n",
       "    .dataframe tbody tr th:only-of-type {\n",
       "        vertical-align: middle;\n",
       "    }\n",
       "\n",
       "    .dataframe tbody tr th {\n",
       "        vertical-align: top;\n",
       "    }\n",
       "\n",
       "    .dataframe thead th {\n",
       "        text-align: right;\n",
       "    }\n",
       "</style>\n",
       "<table border=\"1\" class=\"dataframe\">\n",
       "  <thead>\n",
       "    <tr style=\"text-align: right;\">\n",
       "      <th></th>\n",
       "      <th>service_id</th>\n",
       "      <th>monday</th>\n",
       "      <th>tuesday</th>\n",
       "      <th>wednesday</th>\n",
       "      <th>thursday</th>\n",
       "      <th>friday</th>\n",
       "      <th>saturday</th>\n",
       "      <th>sunday</th>\n",
       "      <th>start_date</th>\n",
       "      <th>end_date</th>\n",
       "    </tr>\n",
       "  </thead>\n",
       "  <tbody>\n",
       "    <tr>\n",
       "      <th>0</th>\n",
       "      <td>2019-COMBNXT-Weekday-01</td>\n",
       "      <td>1</td>\n",
       "      <td>1</td>\n",
       "      <td>1</td>\n",
       "      <td>1</td>\n",
       "      <td>1</td>\n",
       "      <td>0</td>\n",
       "      <td>0</td>\n",
       "      <td>20190509</td>\n",
       "      <td>20190705</td>\n",
       "    </tr>\n",
       "    <tr>\n",
       "      <th>1</th>\n",
       "      <td>2019-COMBNXT-Saturday-01</td>\n",
       "      <td>0</td>\n",
       "      <td>0</td>\n",
       "      <td>0</td>\n",
       "      <td>0</td>\n",
       "      <td>0</td>\n",
       "      <td>1</td>\n",
       "      <td>0</td>\n",
       "      <td>20190511</td>\n",
       "      <td>20190629</td>\n",
       "    </tr>\n",
       "    <tr>\n",
       "      <th>2</th>\n",
       "      <td>2019-COMBNXT-Sunday-01</td>\n",
       "      <td>0</td>\n",
       "      <td>0</td>\n",
       "      <td>0</td>\n",
       "      <td>0</td>\n",
       "      <td>0</td>\n",
       "      <td>0</td>\n",
       "      <td>1</td>\n",
       "      <td>20190512</td>\n",
       "      <td>20190630</td>\n",
       "    </tr>\n",
       "  </tbody>\n",
       "</table>\n",
       "</div>"
      ],
      "text/plain": [
       "                 service_id  monday  tuesday  wednesday  thursday  friday  \\\n",
       "0   2019-COMBNXT-Weekday-01       1        1          1         1       1   \n",
       "1  2019-COMBNXT-Saturday-01       0        0          0         0       0   \n",
       "2    2019-COMBNXT-Sunday-01       0        0          0         0       0   \n",
       "\n",
       "   saturday  sunday  start_date  end_date  \n",
       "0         0       0    20190509  20190705  \n",
       "1         1       0    20190511  20190629  \n",
       "2         0       1    20190512  20190630  "
      ]
     },
     "execution_count": 11,
     "metadata": {},
     "output_type": "execute_result"
    }
   ],
   "source": [
    "calendar = pd.read_csv('calendar.txt')\n",
    "calendar"
   ]
  },
  {
   "cell_type": "markdown",
   "metadata": {
    "hidden": true
   },
   "source": [
    "**START DATE:** 09/05/2019\n",
    "\n",
    "**END DATE:** 05/07/2019"
   ]
  },
  {
   "cell_type": "markdown",
   "metadata": {
    "heading_collapsed": true
   },
   "source": [
    "## Calendar Dates\n",
    "The Calendar dates file provides the ability to define service exceptions for one or more of the provided routes. This mechanism is commonly used to override standard timetables defined in the Calendar.txt file e.g. when a particular service will not be running on a specific day for a limited period of time.\n",
    "\n",
    "Exceptions for the service IDs defined in the calendar.txt file. If\n",
    "calendar_dates.txt includes ALL dates of service, this file may be\n",
    "specified instead of `calendar.txt`."
   ]
  },
  {
   "cell_type": "code",
   "execution_count": 12,
   "metadata": {
    "ExecuteTime": {
     "end_time": "2019-05-18T11:52:15.885514Z",
     "start_time": "2019-05-18T11:52:15.871651Z"
    },
    "hidden": true
   },
   "outputs": [
    {
     "data": {
      "text/html": [
       "<div>\n",
       "<style scoped>\n",
       "    .dataframe tbody tr th:only-of-type {\n",
       "        vertical-align: middle;\n",
       "    }\n",
       "\n",
       "    .dataframe tbody tr th {\n",
       "        vertical-align: top;\n",
       "    }\n",
       "\n",
       "    .dataframe thead th {\n",
       "        text-align: right;\n",
       "    }\n",
       "</style>\n",
       "<table border=\"1\" class=\"dataframe\">\n",
       "  <thead>\n",
       "    <tr style=\"text-align: right;\">\n",
       "      <th></th>\n",
       "      <th>service_id</th>\n",
       "      <th>date</th>\n",
       "      <th>exception_type</th>\n",
       "    </tr>\n",
       "  </thead>\n",
       "  <tbody>\n",
       "    <tr>\n",
       "      <th>0</th>\n",
       "      <td>2019-COMBNXT-Weekday-01</td>\n",
       "      <td>20190527</td>\n",
       "      <td>2</td>\n",
       "    </tr>\n",
       "    <tr>\n",
       "      <th>1</th>\n",
       "      <td>2019-COMBNXT-Weekday-01</td>\n",
       "      <td>20190610</td>\n",
       "      <td>2</td>\n",
       "    </tr>\n",
       "    <tr>\n",
       "      <th>2</th>\n",
       "      <td>2019-COMBNXT-Sunday-01</td>\n",
       "      <td>20190527</td>\n",
       "      <td>1</td>\n",
       "    </tr>\n",
       "    <tr>\n",
       "      <th>3</th>\n",
       "      <td>2019-COMBNXT-Sunday-01</td>\n",
       "      <td>20190610</td>\n",
       "      <td>1</td>\n",
       "    </tr>\n",
       "  </tbody>\n",
       "</table>\n",
       "</div>"
      ],
      "text/plain": [
       "                service_id      date  exception_type\n",
       "0  2019-COMBNXT-Weekday-01  20190527               2\n",
       "1  2019-COMBNXT-Weekday-01  20190610               2\n",
       "2   2019-COMBNXT-Sunday-01  20190527               1\n",
       "3   2019-COMBNXT-Sunday-01  20190610               1"
      ]
     },
     "execution_count": 12,
     "metadata": {},
     "output_type": "execute_result"
    }
   ],
   "source": [
    "calendar_dates = pd.read_csv('calendar_dates.txt')\n",
    "calendar_dates"
   ]
  },
  {
   "cell_type": "markdown",
   "metadata": {
    "heading_collapsed": true
   },
   "source": [
    "## Shapes\n",
    "The Shapes file contains data to enable visual representation of a trip's path based on the route paths points. "
   ]
  },
  {
   "cell_type": "code",
   "execution_count": 13,
   "metadata": {
    "ExecuteTime": {
     "end_time": "2019-05-18T11:52:19.272515Z",
     "start_time": "2019-05-18T11:52:19.196037Z"
    },
    "hidden": true
   },
   "outputs": [
    {
     "data": {
      "text/html": [
       "<div>\n",
       "<style scoped>\n",
       "    .dataframe tbody tr th:only-of-type {\n",
       "        vertical-align: middle;\n",
       "    }\n",
       "\n",
       "    .dataframe tbody tr th {\n",
       "        vertical-align: top;\n",
       "    }\n",
       "\n",
       "    .dataframe thead th {\n",
       "        text-align: right;\n",
       "    }\n",
       "</style>\n",
       "<table border=\"1\" class=\"dataframe\">\n",
       "  <thead>\n",
       "    <tr style=\"text-align: right;\">\n",
       "      <th></th>\n",
       "      <th>shape_id</th>\n",
       "      <th>shape_pt_lat</th>\n",
       "      <th>shape_pt_lon</th>\n",
       "      <th>shape_pt_sequence</th>\n",
       "    </tr>\n",
       "  </thead>\n",
       "  <tbody>\n",
       "    <tr>\n",
       "      <th>0</th>\n",
       "      <td>20183</td>\n",
       "      <td>-35.190616</td>\n",
       "      <td>149.036028</td>\n",
       "      <td>10001</td>\n",
       "    </tr>\n",
       "    <tr>\n",
       "      <th>1</th>\n",
       "      <td>20183</td>\n",
       "      <td>-35.190650</td>\n",
       "      <td>149.036269</td>\n",
       "      <td>10002</td>\n",
       "    </tr>\n",
       "    <tr>\n",
       "      <th>2</th>\n",
       "      <td>20183</td>\n",
       "      <td>-35.190676</td>\n",
       "      <td>149.036336</td>\n",
       "      <td>10003</td>\n",
       "    </tr>\n",
       "    <tr>\n",
       "      <th>3</th>\n",
       "      <td>20183</td>\n",
       "      <td>-35.190744</td>\n",
       "      <td>149.036382</td>\n",
       "      <td>10004</td>\n",
       "    </tr>\n",
       "    <tr>\n",
       "      <th>4</th>\n",
       "      <td>20183</td>\n",
       "      <td>-35.190910</td>\n",
       "      <td>149.036355</td>\n",
       "      <td>10005</td>\n",
       "    </tr>\n",
       "  </tbody>\n",
       "</table>\n",
       "</div>"
      ],
      "text/plain": [
       "   shape_id  shape_pt_lat  shape_pt_lon  shape_pt_sequence\n",
       "0     20183    -35.190616    149.036028              10001\n",
       "1     20183    -35.190650    149.036269              10002\n",
       "2     20183    -35.190676    149.036336              10003\n",
       "3     20183    -35.190744    149.036382              10004\n",
       "4     20183    -35.190910    149.036355              10005"
      ]
     },
     "execution_count": 13,
     "metadata": {},
     "output_type": "execute_result"
    }
   ],
   "source": [
    "shapes = pd.read_csv('shapes.txt')\n",
    "shapes.head()"
   ]
  },
  {
   "cell_type": "code",
   "execution_count": 14,
   "metadata": {
    "ExecuteTime": {
     "end_time": "2019-05-18T11:52:21.395547Z",
     "start_time": "2019-05-18T11:52:21.384111Z"
    },
    "hidden": true
   },
   "outputs": [
    {
     "data": {
      "text/html": [
       "<div>\n",
       "<style scoped>\n",
       "    .dataframe tbody tr th:only-of-type {\n",
       "        vertical-align: middle;\n",
       "    }\n",
       "\n",
       "    .dataframe tbody tr th {\n",
       "        vertical-align: top;\n",
       "    }\n",
       "\n",
       "    .dataframe thead th {\n",
       "        text-align: right;\n",
       "    }\n",
       "</style>\n",
       "<table border=\"1\" class=\"dataframe\">\n",
       "  <thead>\n",
       "    <tr style=\"text-align: right;\">\n",
       "      <th></th>\n",
       "      <th>shape_id</th>\n",
       "      <th>shape_pt_lat</th>\n",
       "      <th>shape_pt_lon</th>\n",
       "      <th>shape_pt_sequence</th>\n",
       "    </tr>\n",
       "  </thead>\n",
       "  <tbody>\n",
       "    <tr>\n",
       "      <th>73765</th>\n",
       "      <td>1820148</td>\n",
       "      <td>-35.278434</td>\n",
       "      <td>149.129428</td>\n",
       "      <td>210004</td>\n",
       "    </tr>\n",
       "    <tr>\n",
       "      <th>73766</th>\n",
       "      <td>1820148</td>\n",
       "      <td>-35.278396</td>\n",
       "      <td>149.129074</td>\n",
       "      <td>210005</td>\n",
       "    </tr>\n",
       "    <tr>\n",
       "      <th>73767</th>\n",
       "      <td>1820148</td>\n",
       "      <td>-35.278328</td>\n",
       "      <td>149.128449</td>\n",
       "      <td>210006</td>\n",
       "    </tr>\n",
       "    <tr>\n",
       "      <th>73768</th>\n",
       "      <td>1820148</td>\n",
       "      <td>-35.278265</td>\n",
       "      <td>149.127868</td>\n",
       "      <td>210007</td>\n",
       "    </tr>\n",
       "    <tr>\n",
       "      <th>73769</th>\n",
       "      <td>1820148</td>\n",
       "      <td>-35.278176</td>\n",
       "      <td>149.127048</td>\n",
       "      <td>210008</td>\n",
       "    </tr>\n",
       "  </tbody>\n",
       "</table>\n",
       "</div>"
      ],
      "text/plain": [
       "       shape_id  shape_pt_lat  shape_pt_lon  shape_pt_sequence\n",
       "73765   1820148    -35.278434    149.129428             210004\n",
       "73766   1820148    -35.278396    149.129074             210005\n",
       "73767   1820148    -35.278328    149.128449             210006\n",
       "73768   1820148    -35.278265    149.127868             210007\n",
       "73769   1820148    -35.278176    149.127048             210008"
      ]
     },
     "execution_count": 14,
     "metadata": {},
     "output_type": "execute_result"
    }
   ],
   "source": [
    "shapes.tail()"
   ]
  },
  {
   "cell_type": "code",
   "execution_count": null,
   "metadata": {
    "hidden": true
   },
   "outputs": [],
   "source": []
  }
 ],
 "metadata": {
  "kernelspec": {
   "display_name": "Python 3",
   "language": "python",
   "name": "python3"
  },
  "language_info": {
   "codemirror_mode": {
    "name": "ipython",
    "version": 3
   },
   "file_extension": ".py",
   "mimetype": "text/x-python",
   "name": "python",
   "nbconvert_exporter": "python",
   "pygments_lexer": "ipython3",
   "version": "3.7.3"
  },
  "toc": {
   "base_numbering": 1,
   "nav_menu": {
    "height": "301px",
    "width": "163px"
   },
   "number_sections": true,
   "sideBar": true,
   "skip_h1_title": false,
   "title_cell": "Table of Contents",
   "title_sidebar": "Contents",
   "toc_cell": false,
   "toc_position": {},
   "toc_section_display": true,
   "toc_window_display": true
  },
  "varInspector": {
   "cols": {
    "lenName": 16,
    "lenType": 16,
    "lenVar": 40
   },
   "kernels_config": {
    "python": {
     "delete_cmd_postfix": "",
     "delete_cmd_prefix": "del ",
     "library": "var_list.py",
     "varRefreshCmd": "print(var_dic_list())"
    },
    "r": {
     "delete_cmd_postfix": ") ",
     "delete_cmd_prefix": "rm(",
     "library": "var_list.r",
     "varRefreshCmd": "cat(var_dic_list()) "
    }
   },
   "types_to_exclude": [
    "module",
    "function",
    "builtin_function_or_method",
    "instance",
    "_Feature"
   ],
   "window_display": false
  }
 },
 "nbformat": 4,
 "nbformat_minor": 2
}
