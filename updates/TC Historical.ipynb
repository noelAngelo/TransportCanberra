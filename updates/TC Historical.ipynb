{
 "cells": [
  {
   "cell_type": "markdown",
   "metadata": {},
   "source": [
    "# Historical Records"
   ]
  },
  {
   "cell_type": "code",
   "execution_count": 9,
   "metadata": {
    "ExecuteTime": {
     "end_time": "2019-06-24T06:21:48.599553Z",
     "start_time": "2019-06-24T06:21:46.205529Z"
    }
   },
   "outputs": [
    {
     "name": "stderr",
     "output_type": "stream",
     "text": [
      "WARNING:root:Requests made without an app_token will be subject to strict throttling limits.\n"
     ]
    }
   ],
   "source": [
    "# make sure to install these packages before running:\n",
    "# pip install pandas\n",
    "# pip install sodapy\n",
    "\n",
    "import pandas as pd\n",
    "from sodapy import Socrata\n",
    "\n",
    "# Unauthenticated client only works with public data sets. Note 'None'\n",
    "# in place of application token, and no username or password:\n",
    "client = Socrata(\"www.data.act.gov.au\", None)\n",
    "\n",
    "# Example authenticated client (needed for non-public datasets):\n",
    "# client = Socrata(www.data.act.gov.au,\n",
    "#                  MyAppToken,\n",
    "#                  userame=\"user@example.com\",\n",
    "#                  password=\"AFakePassword\")\n",
    "\n",
    "# First 2000 results, returned as JSON from API / converted to Python list of\n",
    "# dictionaries by sodapy.\n",
    "results = client.get(\"jxpp-4iiz\", limit=7000)\n",
    "\n",
    "# Convert to pandas DataFrame\n",
    "results_df = pd.DataFrame.from_records(results)"
   ]
  },
  {
   "cell_type": "code",
   "execution_count": 10,
   "metadata": {
    "ExecuteTime": {
     "end_time": "2019-06-24T06:21:48.803535Z",
     "start_time": "2019-06-24T06:21:48.776873Z"
    }
   },
   "outputs": [
    {
     "data": {
      "text/html": [
       "<div>\n",
       "<style scoped>\n",
       "    .dataframe tbody tr th:only-of-type {\n",
       "        vertical-align: middle;\n",
       "    }\n",
       "\n",
       "    .dataframe tbody tr th {\n",
       "        vertical-align: top;\n",
       "    }\n",
       "\n",
       "    .dataframe thead th {\n",
       "        text-align: right;\n",
       "    }\n",
       "</style>\n",
       "<table border=\"1\" class=\"dataframe\">\n",
       "  <thead>\n",
       "    <tr style=\"text-align: right;\">\n",
       "      <th></th>\n",
       "      <th>arrival_delay</th>\n",
       "      <th>arrival_time</th>\n",
       "      <th>arrivaluncertainty</th>\n",
       "      <th>depature_delay</th>\n",
       "      <th>depature_time</th>\n",
       "      <th>depatureuncertainty</th>\n",
       "      <th>gtfsrupdateid</th>\n",
       "      <th>stop_id</th>\n",
       "      <th>stop_sequence</th>\n",
       "      <th>timestamp</th>\n",
       "      <th>trip_id</th>\n",
       "      <th>tripschedulerelationship</th>\n",
       "      <th>tripupdateschedulerelationship</th>\n",
       "      <th>updatedeleted</th>\n",
       "    </tr>\n",
       "  </thead>\n",
       "  <tbody>\n",
       "    <tr>\n",
       "      <th>0</th>\n",
       "      <td>150</td>\n",
       "      <td>2019-06-19T16:18:04.000</td>\n",
       "      <td>0</td>\n",
       "      <td>150</td>\n",
       "      <td>2019-06-19T16:18:24.000</td>\n",
       "      <td>0</td>\n",
       "      <td>2042486</td>\n",
       "      <td>8118</td>\n",
       "      <td>8</td>\n",
       "      <td>2019-06-19T16:18:15.000</td>\n",
       "      <td>211</td>\n",
       "      <td>SCHEDULED</td>\n",
       "      <td>SCHEDULED</td>\n",
       "      <td>None</td>\n",
       "    </tr>\n",
       "    <tr>\n",
       "      <th>1</th>\n",
       "      <td>-34</td>\n",
       "      <td>2019-06-20T07:01:30.000</td>\n",
       "      <td>0</td>\n",
       "      <td>-34</td>\n",
       "      <td>2019-06-20T07:01:50.000</td>\n",
       "      <td>0</td>\n",
       "      <td>2903942</td>\n",
       "      <td>8104</td>\n",
       "      <td>2</td>\n",
       "      <td>2019-06-20T07:02:45.000</td>\n",
       "      <td>141</td>\n",
       "      <td>SCHEDULED</td>\n",
       "      <td>SCHEDULED</td>\n",
       "      <td>None</td>\n",
       "    </tr>\n",
       "    <tr>\n",
       "      <th>2</th>\n",
       "      <td>81</td>\n",
       "      <td>2019-06-21T08:40:02.000</td>\n",
       "      <td>0</td>\n",
       "      <td>81</td>\n",
       "      <td>2019-06-21T08:40:22.000</td>\n",
       "      <td>0</td>\n",
       "      <td>4183373</td>\n",
       "      <td>8119</td>\n",
       "      <td>6</td>\n",
       "      <td>2019-06-21T08:40:30.000</td>\n",
       "      <td>298</td>\n",
       "      <td>SCHEDULED</td>\n",
       "      <td>SCHEDULED</td>\n",
       "      <td>None</td>\n",
       "    </tr>\n",
       "    <tr>\n",
       "      <th>3</th>\n",
       "      <td>-10</td>\n",
       "      <td>2019-06-22T08:36:34.000</td>\n",
       "      <td>0</td>\n",
       "      <td>-10</td>\n",
       "      <td>2019-06-22T08:36:54.000</td>\n",
       "      <td>0</td>\n",
       "      <td>178952</td>\n",
       "      <td>8121</td>\n",
       "      <td>5</td>\n",
       "      <td>2019-06-22T08:37:00.000</td>\n",
       "      <td>559</td>\n",
       "      <td>SCHEDULED</td>\n",
       "      <td>SCHEDULED</td>\n",
       "      <td>None</td>\n",
       "    </tr>\n",
       "    <tr>\n",
       "      <th>4</th>\n",
       "      <td>-10</td>\n",
       "      <td>2019-06-19T14:13:15.000</td>\n",
       "      <td>0</td>\n",
       "      <td>-10</td>\n",
       "      <td>2019-06-19T14:13:35.000</td>\n",
       "      <td>0</td>\n",
       "      <td>1918784</td>\n",
       "      <td>8116</td>\n",
       "      <td>7</td>\n",
       "      <td>2019-06-19T14:13:00.000</td>\n",
       "      <td>195</td>\n",
       "      <td>SCHEDULED</td>\n",
       "      <td>SCHEDULED</td>\n",
       "      <td>None</td>\n",
       "    </tr>\n",
       "  </tbody>\n",
       "</table>\n",
       "</div>"
      ],
      "text/plain": [
       "  arrival_delay             arrival_time arrivaluncertainty depature_delay  \\\n",
       "0           150  2019-06-19T16:18:04.000                  0            150   \n",
       "1           -34  2019-06-20T07:01:30.000                  0            -34   \n",
       "2            81  2019-06-21T08:40:02.000                  0             81   \n",
       "3           -10  2019-06-22T08:36:34.000                  0            -10   \n",
       "4           -10  2019-06-19T14:13:15.000                  0            -10   \n",
       "\n",
       "             depature_time depatureuncertainty gtfsrupdateid stop_id  \\\n",
       "0  2019-06-19T16:18:24.000                   0       2042486    8118   \n",
       "1  2019-06-20T07:01:50.000                   0       2903942    8104   \n",
       "2  2019-06-21T08:40:22.000                   0       4183373    8119   \n",
       "3  2019-06-22T08:36:54.000                   0        178952    8121   \n",
       "4  2019-06-19T14:13:35.000                   0       1918784    8116   \n",
       "\n",
       "  stop_sequence                timestamp trip_id tripschedulerelationship  \\\n",
       "0             8  2019-06-19T16:18:15.000     211                SCHEDULED   \n",
       "1             2  2019-06-20T07:02:45.000     141                SCHEDULED   \n",
       "2             6  2019-06-21T08:40:30.000     298                SCHEDULED   \n",
       "3             5  2019-06-22T08:37:00.000     559                SCHEDULED   \n",
       "4             7  2019-06-19T14:13:00.000     195                SCHEDULED   \n",
       "\n",
       "  tripupdateschedulerelationship updatedeleted  \n",
       "0                      SCHEDULED          None  \n",
       "1                      SCHEDULED          None  \n",
       "2                      SCHEDULED          None  \n",
       "3                      SCHEDULED          None  \n",
       "4                      SCHEDULED          None  "
      ]
     },
     "execution_count": 10,
     "metadata": {},
     "output_type": "execute_result"
    }
   ],
   "source": [
    "results_df.head()"
   ]
  },
  {
   "cell_type": "code",
   "execution_count": 11,
   "metadata": {
    "ExecuteTime": {
     "end_time": "2019-06-24T06:21:49.032455Z",
     "start_time": "2019-06-24T06:21:49.001784Z"
    }
   },
   "outputs": [
    {
     "data": {
      "text/html": [
       "<div>\n",
       "<style scoped>\n",
       "    .dataframe tbody tr th:only-of-type {\n",
       "        vertical-align: middle;\n",
       "    }\n",
       "\n",
       "    .dataframe tbody tr th {\n",
       "        vertical-align: top;\n",
       "    }\n",
       "\n",
       "    .dataframe thead th {\n",
       "        text-align: right;\n",
       "    }\n",
       "</style>\n",
       "<table border=\"1\" class=\"dataframe\">\n",
       "  <thead>\n",
       "    <tr style=\"text-align: right;\">\n",
       "      <th></th>\n",
       "      <th>arrival_delay</th>\n",
       "      <th>arrival_time</th>\n",
       "      <th>arrivaluncertainty</th>\n",
       "      <th>depature_delay</th>\n",
       "      <th>depature_time</th>\n",
       "      <th>depatureuncertainty</th>\n",
       "      <th>gtfsrupdateid</th>\n",
       "      <th>stop_id</th>\n",
       "      <th>stop_sequence</th>\n",
       "      <th>timestamp</th>\n",
       "      <th>trip_id</th>\n",
       "      <th>tripschedulerelationship</th>\n",
       "      <th>tripupdateschedulerelationship</th>\n",
       "      <th>updatedeleted</th>\n",
       "    </tr>\n",
       "  </thead>\n",
       "  <tbody>\n",
       "    <tr>\n",
       "      <th>6995</th>\n",
       "      <td>-15</td>\n",
       "      <td>2019-06-23T16:35:25.000</td>\n",
       "      <td>0</td>\n",
       "      <td>-15</td>\n",
       "      <td>2019-06-23T16:35:45.000</td>\n",
       "      <td>0</td>\n",
       "      <td>1325898</td>\n",
       "      <td>8108</td>\n",
       "      <td>4</td>\n",
       "      <td>2019-06-23T16:35:45.000</td>\n",
       "      <td>814</td>\n",
       "      <td>SCHEDULED</td>\n",
       "      <td>SCHEDULED</td>\n",
       "      <td>None</td>\n",
       "    </tr>\n",
       "    <tr>\n",
       "      <th>6996</th>\n",
       "      <td>45</td>\n",
       "      <td>2019-06-20T06:34:22.000</td>\n",
       "      <td>0</td>\n",
       "      <td>45</td>\n",
       "      <td>2019-06-20T06:34:42.000</td>\n",
       "      <td>0</td>\n",
       "      <td>2876116</td>\n",
       "      <td>8109</td>\n",
       "      <td>10</td>\n",
       "      <td>2019-06-20T06:34:00.000</td>\n",
       "      <td>6</td>\n",
       "      <td>SCHEDULED</td>\n",
       "      <td>SCHEDULED</td>\n",
       "      <td>None</td>\n",
       "    </tr>\n",
       "    <tr>\n",
       "      <th>6997</th>\n",
       "      <td>-32</td>\n",
       "      <td>2019-06-19T14:50:13.000</td>\n",
       "      <td>0</td>\n",
       "      <td>-32</td>\n",
       "      <td>2019-06-19T14:50:33.000</td>\n",
       "      <td>0</td>\n",
       "      <td>1955640</td>\n",
       "      <td>8117</td>\n",
       "      <td>7</td>\n",
       "      <td>2019-06-19T14:50:30.000</td>\n",
       "      <td>75</td>\n",
       "      <td>SCHEDULED</td>\n",
       "      <td>SCHEDULED</td>\n",
       "      <td>None</td>\n",
       "    </tr>\n",
       "    <tr>\n",
       "      <th>6998</th>\n",
       "      <td>-7</td>\n",
       "      <td>2019-06-24T06:33:30.000</td>\n",
       "      <td>0</td>\n",
       "      <td>-7</td>\n",
       "      <td>2019-06-24T06:33:50.000</td>\n",
       "      <td>0</td>\n",
       "      <td>1832653</td>\n",
       "      <td>8109</td>\n",
       "      <td>10</td>\n",
       "      <td>2019-06-24T06:34:00.000</td>\n",
       "      <td>6</td>\n",
       "      <td>SCHEDULED</td>\n",
       "      <td>SCHEDULED</td>\n",
       "      <td>None</td>\n",
       "    </tr>\n",
       "    <tr>\n",
       "      <th>6999</th>\n",
       "      <td>30</td>\n",
       "      <td>2019-06-21T07:21:05.000</td>\n",
       "      <td>0</td>\n",
       "      <td>30</td>\n",
       "      <td>2019-06-21T07:21:25.000</td>\n",
       "      <td>0</td>\n",
       "      <td>4151795</td>\n",
       "      <td>8124</td>\n",
       "      <td>11</td>\n",
       "      <td>2019-06-21T07:21:00.000</td>\n",
       "      <td>413</td>\n",
       "      <td>SCHEDULED</td>\n",
       "      <td>SCHEDULED</td>\n",
       "      <td>None</td>\n",
       "    </tr>\n",
       "  </tbody>\n",
       "</table>\n",
       "</div>"
      ],
      "text/plain": [
       "     arrival_delay             arrival_time arrivaluncertainty depature_delay  \\\n",
       "6995           -15  2019-06-23T16:35:25.000                  0            -15   \n",
       "6996            45  2019-06-20T06:34:22.000                  0             45   \n",
       "6997           -32  2019-06-19T14:50:13.000                  0            -32   \n",
       "6998            -7  2019-06-24T06:33:30.000                  0             -7   \n",
       "6999            30  2019-06-21T07:21:05.000                  0             30   \n",
       "\n",
       "                depature_time depatureuncertainty gtfsrupdateid stop_id  \\\n",
       "6995  2019-06-23T16:35:45.000                   0       1325898    8108   \n",
       "6996  2019-06-20T06:34:42.000                   0       2876116    8109   \n",
       "6997  2019-06-19T14:50:33.000                   0       1955640    8117   \n",
       "6998  2019-06-24T06:33:50.000                   0       1832653    8109   \n",
       "6999  2019-06-21T07:21:25.000                   0       4151795    8124   \n",
       "\n",
       "     stop_sequence                timestamp trip_id tripschedulerelationship  \\\n",
       "6995             4  2019-06-23T16:35:45.000     814                SCHEDULED   \n",
       "6996            10  2019-06-20T06:34:00.000       6                SCHEDULED   \n",
       "6997             7  2019-06-19T14:50:30.000      75                SCHEDULED   \n",
       "6998            10  2019-06-24T06:34:00.000       6                SCHEDULED   \n",
       "6999            11  2019-06-21T07:21:00.000     413                SCHEDULED   \n",
       "\n",
       "     tripupdateschedulerelationship updatedeleted  \n",
       "6995                      SCHEDULED          None  \n",
       "6996                      SCHEDULED          None  \n",
       "6997                      SCHEDULED          None  \n",
       "6998                      SCHEDULED          None  \n",
       "6999                      SCHEDULED          None  "
      ]
     },
     "execution_count": 11,
     "metadata": {},
     "output_type": "execute_result"
    }
   ],
   "source": [
    "results_df.tail()"
   ]
  },
  {
   "cell_type": "code",
   "execution_count": 12,
   "metadata": {
    "ExecuteTime": {
     "end_time": "2019-06-24T06:21:49.235598Z",
     "start_time": "2019-06-24T06:21:49.209791Z"
    }
   },
   "outputs": [
    {
     "name": "stdout",
     "output_type": "stream",
     "text": [
      "<class 'pandas.core.frame.DataFrame'>\n",
      "RangeIndex: 7000 entries, 0 to 6999\n",
      "Data columns (total 14 columns):\n",
      "arrival_delay                     7000 non-null object\n",
      "arrival_time                      7000 non-null object\n",
      "arrivaluncertainty                7000 non-null object\n",
      "depature_delay                    7000 non-null object\n",
      "depature_time                     7000 non-null object\n",
      "depatureuncertainty               7000 non-null object\n",
      "gtfsrupdateid                     7000 non-null object\n",
      "stop_id                           7000 non-null object\n",
      "stop_sequence                     7000 non-null object\n",
      "timestamp                         7000 non-null object\n",
      "trip_id                           7000 non-null object\n",
      "tripschedulerelationship          7000 non-null object\n",
      "tripupdateschedulerelationship    7000 non-null object\n",
      "updatedeleted                     7000 non-null object\n",
      "dtypes: object(14)\n",
      "memory usage: 765.7+ KB\n"
     ]
    }
   ],
   "source": [
    "results_df.info()"
   ]
  },
  {
   "cell_type": "code",
   "execution_count": 15,
   "metadata": {
    "ExecuteTime": {
     "end_time": "2019-06-24T06:24:02.536283Z",
     "start_time": "2019-06-24T06:24:02.499250Z"
    }
   },
   "outputs": [],
   "source": [
    "results_df['arrival_time'] = pd.to_datetime(results_df['arrival_time'])\n",
    "results_df['depature_time'] = pd.to_datetime(results_df['depature_time'])\n",
    "results_df['timestamp'] = pd.to_datetime(results_df['timestamp'])"
   ]
  },
  {
   "cell_type": "code",
   "execution_count": 18,
   "metadata": {
    "ExecuteTime": {
     "end_time": "2019-06-24T06:25:10.138215Z",
     "start_time": "2019-06-24T06:25:10.129494Z"
    }
   },
   "outputs": [],
   "source": [
    "results_df = results_df.sort_values(by='arrival_time',ascending=True)"
   ]
  },
  {
   "cell_type": "code",
   "execution_count": 20,
   "metadata": {
    "ExecuteTime": {
     "end_time": "2019-06-24T06:27:35.967904Z",
     "start_time": "2019-06-24T06:27:35.963050Z"
    }
   },
   "outputs": [],
   "source": [
    "results_df.set_index('arrival_time', inplace=True)"
   ]
  },
  {
   "cell_type": "code",
   "execution_count": 21,
   "metadata": {
    "ExecuteTime": {
     "end_time": "2019-06-24T06:27:56.802133Z",
     "start_time": "2019-06-24T06:27:56.775256Z"
    }
   },
   "outputs": [
    {
     "data": {
      "text/html": [
       "<div>\n",
       "<style scoped>\n",
       "    .dataframe tbody tr th:only-of-type {\n",
       "        vertical-align: middle;\n",
       "    }\n",
       "\n",
       "    .dataframe tbody tr th {\n",
       "        vertical-align: top;\n",
       "    }\n",
       "\n",
       "    .dataframe thead th {\n",
       "        text-align: right;\n",
       "    }\n",
       "</style>\n",
       "<table border=\"1\" class=\"dataframe\">\n",
       "  <thead>\n",
       "    <tr style=\"text-align: right;\">\n",
       "      <th></th>\n",
       "      <th>arrival_delay</th>\n",
       "      <th>arrivaluncertainty</th>\n",
       "      <th>depature_delay</th>\n",
       "      <th>depature_time</th>\n",
       "      <th>depatureuncertainty</th>\n",
       "      <th>gtfsrupdateid</th>\n",
       "      <th>stop_id</th>\n",
       "      <th>stop_sequence</th>\n",
       "      <th>timestamp</th>\n",
       "      <th>trip_id</th>\n",
       "      <th>tripschedulerelationship</th>\n",
       "      <th>tripupdateschedulerelationship</th>\n",
       "      <th>updatedeleted</th>\n",
       "    </tr>\n",
       "    <tr>\n",
       "      <th>arrival_time</th>\n",
       "      <th></th>\n",
       "      <th></th>\n",
       "      <th></th>\n",
       "      <th></th>\n",
       "      <th></th>\n",
       "      <th></th>\n",
       "      <th></th>\n",
       "      <th></th>\n",
       "      <th></th>\n",
       "      <th></th>\n",
       "      <th></th>\n",
       "      <th></th>\n",
       "      <th></th>\n",
       "    </tr>\n",
       "  </thead>\n",
       "  <tbody>\n",
       "    <tr>\n",
       "      <th>2019-06-19 10:23:24</th>\n",
       "      <td>-1</td>\n",
       "      <td>0</td>\n",
       "      <td>-1</td>\n",
       "      <td>2019-06-19 10:23:44</td>\n",
       "      <td>0</td>\n",
       "      <td>1694654</td>\n",
       "      <td>8116</td>\n",
       "      <td>7</td>\n",
       "      <td>2019-06-19 10:22:45</td>\n",
       "      <td>172</td>\n",
       "      <td>SCHEDULED</td>\n",
       "      <td>SCHEDULED</td>\n",
       "      <td>None</td>\n",
       "    </tr>\n",
       "    <tr>\n",
       "      <th>2019-06-19 10:23:41</th>\n",
       "      <td>17</td>\n",
       "      <td>0</td>\n",
       "      <td>17</td>\n",
       "      <td>2019-06-19 10:24:01</td>\n",
       "      <td>0</td>\n",
       "      <td>1694727</td>\n",
       "      <td>8125</td>\n",
       "      <td>3</td>\n",
       "      <td>2019-06-19 10:22:45</td>\n",
       "      <td>49</td>\n",
       "      <td>SCHEDULED</td>\n",
       "      <td>SCHEDULED</td>\n",
       "      <td>None</td>\n",
       "    </tr>\n",
       "    <tr>\n",
       "      <th>2019-06-19 10:23:57</th>\n",
       "      <td>104</td>\n",
       "      <td>0</td>\n",
       "      <td>104</td>\n",
       "      <td>2019-06-19 10:24:17</td>\n",
       "      <td>0</td>\n",
       "      <td>1694548</td>\n",
       "      <td>8126</td>\n",
       "      <td>12</td>\n",
       "      <td>2019-06-19 10:22:45</td>\n",
       "      <td>171</td>\n",
       "      <td>SCHEDULED</td>\n",
       "      <td>SCHEDULED</td>\n",
       "      <td>None</td>\n",
       "    </tr>\n",
       "    <tr>\n",
       "      <th>2019-06-19 10:24:04</th>\n",
       "      <td>0</td>\n",
       "      <td>0</td>\n",
       "      <td>0</td>\n",
       "      <td>2019-06-19 10:24:24</td>\n",
       "      <td>0</td>\n",
       "      <td>1694586</td>\n",
       "      <td>8106</td>\n",
       "      <td>3</td>\n",
       "      <td>2019-06-19 10:22:45</td>\n",
       "      <td>173</td>\n",
       "      <td>SCHEDULED</td>\n",
       "      <td>SCHEDULED</td>\n",
       "      <td>None</td>\n",
       "    </tr>\n",
       "    <tr>\n",
       "      <th>2019-06-19 10:25:12</th>\n",
       "      <td>27</td>\n",
       "      <td>0</td>\n",
       "      <td>27</td>\n",
       "      <td>2019-06-19 10:25:32</td>\n",
       "      <td>0</td>\n",
       "      <td>1697649</td>\n",
       "      <td>8123</td>\n",
       "      <td>4</td>\n",
       "      <td>2019-06-19 10:25:45</td>\n",
       "      <td>49</td>\n",
       "      <td>SCHEDULED</td>\n",
       "      <td>SCHEDULED</td>\n",
       "      <td>None</td>\n",
       "    </tr>\n",
       "  </tbody>\n",
       "</table>\n",
       "</div>"
      ],
      "text/plain": [
       "                    arrival_delay arrivaluncertainty depature_delay  \\\n",
       "arrival_time                                                          \n",
       "2019-06-19 10:23:24            -1                  0             -1   \n",
       "2019-06-19 10:23:41            17                  0             17   \n",
       "2019-06-19 10:23:57           104                  0            104   \n",
       "2019-06-19 10:24:04             0                  0              0   \n",
       "2019-06-19 10:25:12            27                  0             27   \n",
       "\n",
       "                          depature_time depatureuncertainty gtfsrupdateid  \\\n",
       "arrival_time                                                                \n",
       "2019-06-19 10:23:24 2019-06-19 10:23:44                   0       1694654   \n",
       "2019-06-19 10:23:41 2019-06-19 10:24:01                   0       1694727   \n",
       "2019-06-19 10:23:57 2019-06-19 10:24:17                   0       1694548   \n",
       "2019-06-19 10:24:04 2019-06-19 10:24:24                   0       1694586   \n",
       "2019-06-19 10:25:12 2019-06-19 10:25:32                   0       1697649   \n",
       "\n",
       "                    stop_id stop_sequence           timestamp trip_id  \\\n",
       "arrival_time                                                            \n",
       "2019-06-19 10:23:24    8116             7 2019-06-19 10:22:45     172   \n",
       "2019-06-19 10:23:41    8125             3 2019-06-19 10:22:45      49   \n",
       "2019-06-19 10:23:57    8126            12 2019-06-19 10:22:45     171   \n",
       "2019-06-19 10:24:04    8106             3 2019-06-19 10:22:45     173   \n",
       "2019-06-19 10:25:12    8123             4 2019-06-19 10:25:45      49   \n",
       "\n",
       "                    tripschedulerelationship tripupdateschedulerelationship  \\\n",
       "arrival_time                                                                  \n",
       "2019-06-19 10:23:24                SCHEDULED                      SCHEDULED   \n",
       "2019-06-19 10:23:41                SCHEDULED                      SCHEDULED   \n",
       "2019-06-19 10:23:57                SCHEDULED                      SCHEDULED   \n",
       "2019-06-19 10:24:04                SCHEDULED                      SCHEDULED   \n",
       "2019-06-19 10:25:12                SCHEDULED                      SCHEDULED   \n",
       "\n",
       "                    updatedeleted  \n",
       "arrival_time                       \n",
       "2019-06-19 10:23:24          None  \n",
       "2019-06-19 10:23:41          None  \n",
       "2019-06-19 10:23:57          None  \n",
       "2019-06-19 10:24:04          None  \n",
       "2019-06-19 10:25:12          None  "
      ]
     },
     "execution_count": 21,
     "metadata": {},
     "output_type": "execute_result"
    }
   ],
   "source": [
    "results_df.head()"
   ]
  },
  {
   "cell_type": "code",
   "execution_count": 23,
   "metadata": {
    "ExecuteTime": {
     "end_time": "2019-06-24T06:28:31.032925Z",
     "start_time": "2019-06-24T06:28:30.971354Z"
    }
   },
   "outputs": [],
   "source": [
    "df_06_20 = results_df.loc['2019-06-20']"
   ]
  },
  {
   "cell_type": "code",
   "execution_count": 24,
   "metadata": {
    "ExecuteTime": {
     "end_time": "2019-06-24T06:28:47.352158Z",
     "start_time": "2019-06-24T06:28:47.345790Z"
    }
   },
   "outputs": [],
   "source": [
    "df_06_20.reset_index(inplace=True)"
   ]
  },
  {
   "cell_type": "code",
   "execution_count": 32,
   "metadata": {
    "ExecuteTime": {
     "end_time": "2019-06-24T06:40:28.708749Z",
     "start_time": "2019-06-24T06:40:28.081723Z"
    }
   },
   "outputs": [
    {
     "name": "stderr",
     "output_type": "stream",
     "text": [
      "/anaconda3/envs/data-science/lib/python3.6/site-packages/ipykernel_launcher.py:1: SettingWithCopyWarning: \n",
      "A value is trying to be set on a copy of a slice from a DataFrame.\n",
      "Try using .loc[row_indexer,col_indexer] = value instead\n",
      "\n",
      "See the caveats in the documentation: http://pandas.pydata.org/pandas-docs/stable/indexing.html#indexing-view-versus-copy\n",
      "  \"\"\"Entry point for launching an IPython kernel.\n"
     ]
    }
   ],
   "source": [
    "df_06_20['trip_id'] = df_06_20['trip_id'].astype(int)"
   ]
  },
  {
   "cell_type": "markdown",
   "metadata": {
    "ExecuteTime": {
     "end_time": "2019-06-24T06:28:50.445520Z",
     "start_time": "2019-06-24T06:28:50.366934Z"
    }
   },
   "source": [
    "# June 20, 2019 - Thursday\n",
    "---\n",
    "\n",
    "Expected Trips: (GTFS)\n",
    "- Full (13 stop sequences): 212 full trips\n",
    "- NIS: 28 trips are not in service\n",
    "- X1: 19 Partial Light rail service from Well Station to Gungahlin Place\n",
    "- X2: 7 Partial Light rail service from EPIC to Alinga Street"
   ]
  },
  {
   "cell_type": "code",
   "execution_count": 27,
   "metadata": {
    "ExecuteTime": {
     "end_time": "2019-06-24T06:36:12.392237Z",
     "start_time": "2019-06-24T06:36:12.362747Z"
    }
   },
   "outputs": [],
   "source": [
    "trips = pd.read_csv('./GTFS/google_transit_lr/trips.csv')"
   ]
  },
  {
   "cell_type": "code",
   "execution_count": 28,
   "metadata": {
    "ExecuteTime": {
     "end_time": "2019-06-24T06:39:12.277492Z",
     "start_time": "2019-06-24T06:39:12.243267Z"
    }
   },
   "outputs": [
    {
     "data": {
      "text/html": [
       "<div>\n",
       "<style scoped>\n",
       "    .dataframe tbody tr th:only-of-type {\n",
       "        vertical-align: middle;\n",
       "    }\n",
       "\n",
       "    .dataframe tbody tr th {\n",
       "        vertical-align: top;\n",
       "    }\n",
       "\n",
       "    .dataframe thead th {\n",
       "        text-align: right;\n",
       "    }\n",
       "</style>\n",
       "<table border=\"1\" class=\"dataframe\">\n",
       "  <thead>\n",
       "    <tr style=\"text-align: right;\">\n",
       "      <th></th>\n",
       "      <th>route_id</th>\n",
       "      <th>service_id</th>\n",
       "      <th>trip_id</th>\n",
       "      <th>trip_headsign</th>\n",
       "      <th>direction_id</th>\n",
       "      <th>block_id</th>\n",
       "      <th>shape_id</th>\n",
       "      <th>wheelchair_accessible</th>\n",
       "      <th>bikes_allowed</th>\n",
       "    </tr>\n",
       "  </thead>\n",
       "  <tbody>\n",
       "    <tr>\n",
       "      <th>0</th>\n",
       "      <td>NIS</td>\n",
       "      <td>SU</td>\n",
       "      <td>712</td>\n",
       "      <td>Gungahlin Pl</td>\n",
       "      <td>0</td>\n",
       "      <td>3</td>\n",
       "      <td>1007</td>\n",
       "      <td>1</td>\n",
       "      <td>1</td>\n",
       "    </tr>\n",
       "    <tr>\n",
       "      <th>1</th>\n",
       "      <td>ACTO001</td>\n",
       "      <td>SU</td>\n",
       "      <td>780</td>\n",
       "      <td>Alinga St</td>\n",
       "      <td>1</td>\n",
       "      <td>3</td>\n",
       "      <td>1003</td>\n",
       "      <td>1</td>\n",
       "      <td>1</td>\n",
       "    </tr>\n",
       "    <tr>\n",
       "      <th>2</th>\n",
       "      <td>ACTO001</td>\n",
       "      <td>SU</td>\n",
       "      <td>718</td>\n",
       "      <td>Gungahlin Pl</td>\n",
       "      <td>0</td>\n",
       "      <td>3</td>\n",
       "      <td>1004</td>\n",
       "      <td>1</td>\n",
       "      <td>1</td>\n",
       "    </tr>\n",
       "    <tr>\n",
       "      <th>3</th>\n",
       "      <td>ACTO001</td>\n",
       "      <td>SU</td>\n",
       "      <td>784</td>\n",
       "      <td>Alinga St</td>\n",
       "      <td>1</td>\n",
       "      <td>3</td>\n",
       "      <td>1003</td>\n",
       "      <td>1</td>\n",
       "      <td>1</td>\n",
       "    </tr>\n",
       "    <tr>\n",
       "      <th>4</th>\n",
       "      <td>ACTO001</td>\n",
       "      <td>SU</td>\n",
       "      <td>722</td>\n",
       "      <td>Gungahlin Pl</td>\n",
       "      <td>0</td>\n",
       "      <td>3</td>\n",
       "      <td>1004</td>\n",
       "      <td>1</td>\n",
       "      <td>1</td>\n",
       "    </tr>\n",
       "  </tbody>\n",
       "</table>\n",
       "</div>"
      ],
      "text/plain": [
       "  route_id service_id  trip_id trip_headsign  direction_id block_id  shape_id  \\\n",
       "0      NIS         SU      712  Gungahlin Pl             0        3      1007   \n",
       "1  ACTO001         SU      780     Alinga St             1        3      1003   \n",
       "2  ACTO001         SU      718  Gungahlin Pl             0        3      1004   \n",
       "3  ACTO001         SU      784     Alinga St             1        3      1003   \n",
       "4  ACTO001         SU      722  Gungahlin Pl             0        3      1004   \n",
       "\n",
       "   wheelchair_accessible  bikes_allowed  \n",
       "0                      1              1  \n",
       "1                      1              1  \n",
       "2                      1              1  \n",
       "3                      1              1  \n",
       "4                      1              1  "
      ]
     },
     "execution_count": 28,
     "metadata": {},
     "output_type": "execute_result"
    }
   ],
   "source": [
    "trips.head()"
   ]
  },
  {
   "cell_type": "code",
   "execution_count": 30,
   "metadata": {
    "ExecuteTime": {
     "end_time": "2019-06-24T06:39:46.580956Z",
     "start_time": "2019-06-24T06:39:46.567212Z"
    }
   },
   "outputs": [
    {
     "name": "stdout",
     "output_type": "stream",
     "text": [
      "<class 'pandas.core.frame.DataFrame'>\n",
      "RangeIndex: 847 entries, 0 to 846\n",
      "Data columns (total 9 columns):\n",
      "route_id                 847 non-null object\n",
      "service_id               847 non-null object\n",
      "trip_id                  847 non-null int64\n",
      "trip_headsign            847 non-null object\n",
      "direction_id             847 non-null int64\n",
      "block_id                 847 non-null object\n",
      "shape_id                 847 non-null int64\n",
      "wheelchair_accessible    847 non-null int64\n",
      "bikes_allowed            847 non-null int64\n",
      "dtypes: int64(5), object(4)\n",
      "memory usage: 59.6+ KB\n"
     ]
    }
   ],
   "source": [
    "trips.info()"
   ]
  },
  {
   "cell_type": "code",
   "execution_count": 35,
   "metadata": {
    "ExecuteTime": {
     "end_time": "2019-06-24T06:53:26.120036Z",
     "start_time": "2019-06-24T06:53:26.031803Z"
    }
   },
   "outputs": [],
   "source": [
    "df = pd.merge(left=df_06_20, left_on='trip_id', right=trips, right_on='trip_id', how='left')"
   ]
  },
  {
   "cell_type": "code",
   "execution_count": 36,
   "metadata": {
    "ExecuteTime": {
     "end_time": "2019-06-24T06:53:33.818387Z",
     "start_time": "2019-06-24T06:53:33.783501Z"
    }
   },
   "outputs": [
    {
     "name": "stdout",
     "output_type": "stream",
     "text": [
      "<class 'pandas.core.frame.DataFrame'>\n",
      "Int64Index: 1764 entries, 0 to 1763\n",
      "Data columns (total 22 columns):\n",
      "arrival_time                      1764 non-null datetime64[ns]\n",
      "arrival_delay                     1764 non-null object\n",
      "arrivaluncertainty                1764 non-null object\n",
      "depature_delay                    1764 non-null object\n",
      "depature_time                     1764 non-null datetime64[ns]\n",
      "depatureuncertainty               1764 non-null object\n",
      "gtfsrupdateid                     1764 non-null object\n",
      "stop_id                           1764 non-null object\n",
      "stop_sequence                     1764 non-null object\n",
      "timestamp                         1764 non-null datetime64[ns]\n",
      "trip_id                           1764 non-null int64\n",
      "tripschedulerelationship          1764 non-null object\n",
      "tripupdateschedulerelationship    1764 non-null object\n",
      "updatedeleted                     1764 non-null object\n",
      "route_id                          1764 non-null object\n",
      "service_id                        1764 non-null object\n",
      "trip_headsign                     1764 non-null object\n",
      "direction_id                      1764 non-null int64\n",
      "block_id                          1764 non-null object\n",
      "shape_id                          1764 non-null int64\n",
      "wheelchair_accessible             1764 non-null int64\n",
      "bikes_allowed                     1764 non-null int64\n",
      "dtypes: datetime64[ns](3), int64(5), object(14)\n",
      "memory usage: 317.0+ KB\n"
     ]
    }
   ],
   "source": [
    "df.info()"
   ]
  },
  {
   "cell_type": "code",
   "execution_count": 50,
   "metadata": {
    "ExecuteTime": {
     "end_time": "2019-06-24T06:56:54.863350Z",
     "start_time": "2019-06-24T06:56:54.857049Z"
    }
   },
   "outputs": [],
   "source": [
    "df = df[df.columns[:-4]]"
   ]
  },
  {
   "cell_type": "code",
   "execution_count": 59,
   "metadata": {
    "ExecuteTime": {
     "end_time": "2019-06-24T07:00:08.280605Z",
     "start_time": "2019-06-24T07:00:08.273442Z"
    }
   },
   "outputs": [],
   "source": [
    "grouped = df.groupby('route_id')"
   ]
  },
  {
   "cell_type": "markdown",
   "metadata": {},
   "source": [
    "## Full Service"
   ]
  },
  {
   "cell_type": "code",
   "execution_count": 60,
   "metadata": {
    "ExecuteTime": {
     "end_time": "2019-06-24T07:00:15.113251Z",
     "start_time": "2019-06-24T07:00:15.102477Z"
    }
   },
   "outputs": [],
   "source": [
    "full_service = grouped.get_group('ACTO001')"
   ]
  },
  {
   "cell_type": "code",
   "execution_count": 63,
   "metadata": {
    "ExecuteTime": {
     "end_time": "2019-06-24T07:00:37.563120Z",
     "start_time": "2019-06-24T07:00:37.553074Z"
    }
   },
   "outputs": [
    {
     "data": {
      "text/plain": [
       "212"
      ]
     },
     "execution_count": 63,
     "metadata": {},
     "output_type": "execute_result"
    }
   ],
   "source": [
    "len(full_service.trip_id.unique())"
   ]
  },
  {
   "cell_type": "markdown",
   "metadata": {},
   "source": [
    "## X1"
   ]
  },
  {
   "cell_type": "code",
   "execution_count": 65,
   "metadata": {
    "ExecuteTime": {
     "end_time": "2019-06-24T07:04:12.732399Z",
     "start_time": "2019-06-24T07:04:12.718565Z"
    }
   },
   "outputs": [
    {
     "data": {
      "text/plain": [
       "19"
      ]
     },
     "execution_count": 65,
     "metadata": {},
     "output_type": "execute_result"
    }
   ],
   "source": [
    "x1 = grouped.get_group('X1')\n",
    "len(x1.trip_id.unique())"
   ]
  },
  {
   "cell_type": "markdown",
   "metadata": {},
   "source": [
    "## X2"
   ]
  },
  {
   "cell_type": "code",
   "execution_count": 66,
   "metadata": {
    "ExecuteTime": {
     "end_time": "2019-06-24T07:04:36.547224Z",
     "start_time": "2019-06-24T07:04:36.528404Z"
    }
   },
   "outputs": [
    {
     "data": {
      "text/plain": [
       "7"
      ]
     },
     "execution_count": 66,
     "metadata": {},
     "output_type": "execute_result"
    }
   ],
   "source": [
    "x2 = grouped.get_group('X2')\n",
    "len(x2.trip_id.unique())"
   ]
  },
  {
   "cell_type": "code",
   "execution_count": null,
   "metadata": {},
   "outputs": [],
   "source": []
  }
 ],
 "metadata": {
  "kernelspec": {
   "display_name": "Python 3",
   "language": "python",
   "name": "python3"
  },
  "language_info": {
   "codemirror_mode": {
    "name": "ipython",
    "version": 3
   },
   "file_extension": ".py",
   "mimetype": "text/x-python",
   "name": "python",
   "nbconvert_exporter": "python",
   "pygments_lexer": "ipython3",
   "version": "3.6.8"
  },
  "toc": {
   "base_numbering": 1,
   "nav_menu": {},
   "number_sections": true,
   "sideBar": true,
   "skip_h1_title": false,
   "title_cell": "Table of Contents",
   "title_sidebar": "Contents",
   "toc_cell": false,
   "toc_position": {},
   "toc_section_display": true,
   "toc_window_display": false
  },
  "varInspector": {
   "cols": {
    "lenName": 16,
    "lenType": 16,
    "lenVar": 40
   },
   "kernels_config": {
    "python": {
     "delete_cmd_postfix": "",
     "delete_cmd_prefix": "del ",
     "library": "var_list.py",
     "varRefreshCmd": "print(var_dic_list())"
    },
    "r": {
     "delete_cmd_postfix": ") ",
     "delete_cmd_prefix": "rm(",
     "library": "var_list.r",
     "varRefreshCmd": "cat(var_dic_list()) "
    }
   },
   "types_to_exclude": [
    "module",
    "function",
    "builtin_function_or_method",
    "instance",
    "_Feature"
   ],
   "window_display": false
  }
 },
 "nbformat": 4,
 "nbformat_minor": 2
}
