{
 "cells": [
  {
   "cell_type": "code",
   "execution_count": 1,
   "metadata": {
    "ExecuteTime": {
     "end_time": "2019-06-16T01:50:10.542901Z",
     "start_time": "2019-06-16T01:50:09.499593Z"
    }
   },
   "outputs": [],
   "source": [
    "from google.transit import gtfs_realtime_pb2\n",
    "from google.protobuf.json_format import MessageToDict\n",
    "from pandas.io.json import json_normalize\n",
    "\n",
    "import json\n",
    "import requests\n",
    "import numpy as np\n",
    "import pandas as pd\n",
    "import datetime\n",
    "from datetime import timedelta \n",
    "import os, time\n",
    "import pytz\n",
    "\n",
    "from elasticsearch import Elasticsearch"
   ]
  },
  {
   "cell_type": "markdown",
   "metadata": {},
   "source": [
    "# Trial 2 - Adding ElasticSearch Functionality"
   ]
  },
  {
   "cell_type": "markdown",
   "metadata": {
    "heading_collapsed": true
   },
   "source": [
    "## Helper Functions"
   ]
  },
  {
   "cell_type": "code",
   "execution_count": 2,
   "metadata": {
    "ExecuteTime": {
     "end_time": "2019-06-16T01:50:12.444665Z",
     "start_time": "2019-06-16T01:50:12.440596Z"
    },
    "hidden": true
   },
   "outputs": [],
   "source": [
    "def get_feed():\n",
    "    # initialise the feed message parser from Google\n",
    "    feed = gtfs_realtime_pb2.FeedMessage()\n",
    "    \n",
    "    # get the response from the api\n",
    "    response = requests.get('http://files.transport.act.gov.au/feeds/lightrail.pb', allow_redirects=True)\n",
    "\n",
    "    # pass the response to the Parser\n",
    "    feed.ParseFromString(response.content)\n",
    "\n",
    "    # convert to dict from our original protobuf feed\n",
    "    dict_obj = MessageToDict(feed)\n",
    "\n",
    "    return dict_obj"
   ]
  },
  {
   "cell_type": "code",
   "execution_count": 3,
   "metadata": {
    "ExecuteTime": {
     "end_time": "2019-06-16T01:50:13.117632Z",
     "start_time": "2019-06-16T01:50:13.113453Z"
    },
    "hidden": true
   },
   "outputs": [],
   "source": [
    "def get_vehicles(feed_obj):\n",
    "    # check if empty\n",
    "    if len(feed_obj) > 0:\n",
    "        # get the trip updates listed on the feed\n",
    "        vehicles = [vehicle for vehicle in feed_obj['entity'] if 'vehicle' in vehicle]\n",
    "        return vehicles\n",
    "    else:\n",
    "        return None"
   ]
  },
  {
   "cell_type": "code",
   "execution_count": 4,
   "metadata": {
    "ExecuteTime": {
     "end_time": "2019-06-16T01:50:14.126136Z",
     "start_time": "2019-06-16T01:50:14.121991Z"
    },
    "hidden": true
   },
   "outputs": [],
   "source": [
    "def get_updates(feed_obj):\n",
    "    # check if empty\n",
    "    if len(feed_obj) > 0:\n",
    "        # get the trip updates listed on the feed\n",
    "        updates = [update for update in feed_obj['entity'] if 'tripUpdate' in update]\n",
    "        return updates\n",
    "    else:\n",
    "        return None"
   ]
  },
  {
   "cell_type": "code",
   "execution_count": 5,
   "metadata": {
    "ExecuteTime": {
     "end_time": "2019-06-16T01:50:14.630616Z",
     "start_time": "2019-06-16T01:50:14.618845Z"
    },
    "hidden": true
   },
   "outputs": [],
   "source": [
    "def updates_to_dataframe(updates):\n",
    "    # transform feed to a dataframe \n",
    "    df = json_normalize(updates)\n",
    "    df['tripUpdate.stopTimeUpdate'] = df['tripUpdate.stopTimeUpdate'].apply(lambda x: x[0])\n",
    "    print(\"length of updates: {}\".format(len(updates))) # debug: print number of updates in the feed\n",
    "    \n",
    "    # format feed\n",
    "    x = json_normalize(df['tripUpdate.stopTimeUpdate'])\n",
    "    x['tripUpdate.trip.tripId'] = df['tripUpdate.trip.tripId']\n",
    "    x['tripUpdate.timestamp'] = df['tripUpdate.timestamp']\n",
    "    x['tripUpdate.delay'] = df['tripUpdate.delay']\n",
    "    x['id'] = df['id']\n",
    "\n",
    "    # format date time\n",
    "    x['arrival.time'] = x['arrival.time'].apply(lambda xx: datetime.datetime.fromtimestamp(int(xx)))\n",
    "    x['departure.time'] = x['departure.time'].apply(lambda xx: datetime.datetime.fromtimestamp(int(xx)))\n",
    "    x['tripUpdate.timestamp'] = x['tripUpdate.timestamp'].apply(lambda xx: datetime.datetime.fromtimestamp(int(xx)))\n",
    "\n",
    "    # transform to datetime\n",
    "    x['arrival.time'] = pd.to_datetime(x['arrival.time'])\n",
    "    x['departure.time'] = pd.to_datetime(x['departure.time'])\n",
    "    x['tripUpdate.timestamp'] = pd.to_datetime(x['tripUpdate.timestamp'])\n",
    "\n",
    "    return x"
   ]
  },
  {
   "cell_type": "code",
   "execution_count": 6,
   "metadata": {
    "ExecuteTime": {
     "end_time": "2019-06-16T01:50:15.468292Z",
     "start_time": "2019-06-16T01:50:15.462788Z"
    },
    "hidden": true
   },
   "outputs": [],
   "source": [
    "def validate(updates):\n",
    "    if updates is None:\n",
    "        print('Feed is empty')\n",
    "        return False\n",
    "\n",
    "    else:\n",
    "        return True"
   ]
  },
  {
   "cell_type": "markdown",
   "metadata": {},
   "source": [
    "## Get API Response"
   ]
  },
  {
   "cell_type": "code",
   "execution_count": 7,
   "metadata": {
    "ExecuteTime": {
     "end_time": "2019-06-16T01:50:19.654365Z",
     "start_time": "2019-06-16T01:50:19.330279Z"
    }
   },
   "outputs": [
    {
     "name": "stdout",
     "output_type": "stream",
     "text": [
      "length of updates: 129\n"
     ]
    },
    {
     "data": {
      "text/html": [
       "<div>\n",
       "<style scoped>\n",
       "    .dataframe tbody tr th:only-of-type {\n",
       "        vertical-align: middle;\n",
       "    }\n",
       "\n",
       "    .dataframe tbody tr th {\n",
       "        vertical-align: top;\n",
       "    }\n",
       "\n",
       "    .dataframe thead th {\n",
       "        text-align: right;\n",
       "    }\n",
       "</style>\n",
       "<table border=\"1\" class=\"dataframe\">\n",
       "  <thead>\n",
       "    <tr style=\"text-align: right;\">\n",
       "      <th></th>\n",
       "      <th>arrival.delay</th>\n",
       "      <th>arrival.time</th>\n",
       "      <th>arrival.uncertainty</th>\n",
       "      <th>departure.delay</th>\n",
       "      <th>departure.time</th>\n",
       "      <th>departure.uncertainty</th>\n",
       "      <th>scheduleRelationship</th>\n",
       "      <th>stopId</th>\n",
       "      <th>stopSequence</th>\n",
       "      <th>tripUpdate.trip.tripId</th>\n",
       "      <th>tripUpdate.timestamp</th>\n",
       "      <th>tripUpdate.delay</th>\n",
       "      <th>id</th>\n",
       "    </tr>\n",
       "  </thead>\n",
       "  <tbody>\n",
       "    <tr>\n",
       "      <th>0</th>\n",
       "      <td>179</td>\n",
       "      <td>2019-06-16 08:26:59</td>\n",
       "      <td>0</td>\n",
       "      <td>179</td>\n",
       "      <td>2019-06-16 08:26:59</td>\n",
       "      <td>0</td>\n",
       "      <td>SCHEDULED</td>\n",
       "      <td>8129</td>\n",
       "      <td>13</td>\n",
       "      <td>780</td>\n",
       "      <td>2019-06-16 11:50:15</td>\n",
       "      <td>0</td>\n",
       "      <td>16218343</td>\n",
       "    </tr>\n",
       "    <tr>\n",
       "      <th>1</th>\n",
       "      <td>26</td>\n",
       "      <td>2019-06-16 08:54:26</td>\n",
       "      <td>0</td>\n",
       "      <td>26</td>\n",
       "      <td>2019-06-16 08:54:26</td>\n",
       "      <td>0</td>\n",
       "      <td>SCHEDULED</td>\n",
       "      <td>8100</td>\n",
       "      <td>13</td>\n",
       "      <td>718</td>\n",
       "      <td>2019-06-16 11:50:15</td>\n",
       "      <td>0</td>\n",
       "      <td>16218344</td>\n",
       "    </tr>\n",
       "    <tr>\n",
       "      <th>2</th>\n",
       "      <td>49</td>\n",
       "      <td>2019-06-16 09:24:49</td>\n",
       "      <td>0</td>\n",
       "      <td>49</td>\n",
       "      <td>2019-06-16 09:24:49</td>\n",
       "      <td>0</td>\n",
       "      <td>SCHEDULED</td>\n",
       "      <td>8129</td>\n",
       "      <td>13</td>\n",
       "      <td>784</td>\n",
       "      <td>2019-06-16 11:50:15</td>\n",
       "      <td>0</td>\n",
       "      <td>16218345</td>\n",
       "    </tr>\n",
       "    <tr>\n",
       "      <th>3</th>\n",
       "      <td>22</td>\n",
       "      <td>2019-06-16 09:54:22</td>\n",
       "      <td>0</td>\n",
       "      <td>22</td>\n",
       "      <td>2019-06-16 09:54:22</td>\n",
       "      <td>0</td>\n",
       "      <td>SCHEDULED</td>\n",
       "      <td>8100</td>\n",
       "      <td>13</td>\n",
       "      <td>722</td>\n",
       "      <td>2019-06-16 11:50:15</td>\n",
       "      <td>0</td>\n",
       "      <td>16218346</td>\n",
       "    </tr>\n",
       "    <tr>\n",
       "      <th>4</th>\n",
       "      <td>23</td>\n",
       "      <td>2019-06-16 10:24:23</td>\n",
       "      <td>0</td>\n",
       "      <td>23</td>\n",
       "      <td>2019-06-16 10:24:23</td>\n",
       "      <td>0</td>\n",
       "      <td>SCHEDULED</td>\n",
       "      <td>8129</td>\n",
       "      <td>13</td>\n",
       "      <td>788</td>\n",
       "      <td>2019-06-16 11:50:15</td>\n",
       "      <td>0</td>\n",
       "      <td>16218347</td>\n",
       "    </tr>\n",
       "  </tbody>\n",
       "</table>\n",
       "</div>"
      ],
      "text/plain": [
       "   arrival.delay        arrival.time  arrival.uncertainty  departure.delay  \\\n",
       "0            179 2019-06-16 08:26:59                    0              179   \n",
       "1             26 2019-06-16 08:54:26                    0               26   \n",
       "2             49 2019-06-16 09:24:49                    0               49   \n",
       "3             22 2019-06-16 09:54:22                    0               22   \n",
       "4             23 2019-06-16 10:24:23                    0               23   \n",
       "\n",
       "       departure.time  departure.uncertainty scheduleRelationship stopId  \\\n",
       "0 2019-06-16 08:26:59                      0            SCHEDULED   8129   \n",
       "1 2019-06-16 08:54:26                      0            SCHEDULED   8100   \n",
       "2 2019-06-16 09:24:49                      0            SCHEDULED   8129   \n",
       "3 2019-06-16 09:54:22                      0            SCHEDULED   8100   \n",
       "4 2019-06-16 10:24:23                      0            SCHEDULED   8129   \n",
       "\n",
       "   stopSequence tripUpdate.trip.tripId tripUpdate.timestamp  tripUpdate.delay  \\\n",
       "0            13                    780  2019-06-16 11:50:15                 0   \n",
       "1            13                    718  2019-06-16 11:50:15                 0   \n",
       "2            13                    784  2019-06-16 11:50:15                 0   \n",
       "3            13                    722  2019-06-16 11:50:15                 0   \n",
       "4            13                    788  2019-06-16 11:50:15                 0   \n",
       "\n",
       "         id  \n",
       "0  16218343  \n",
       "1  16218344  \n",
       "2  16218345  \n",
       "3  16218346  \n",
       "4  16218347  "
      ]
     },
     "execution_count": 7,
     "metadata": {},
     "output_type": "execute_result"
    }
   ],
   "source": [
    "df = updates_to_dataframe(get_updates(get_feed()))\n",
    "df.head()"
   ]
  },
  {
   "cell_type": "code",
   "execution_count": 8,
   "metadata": {
    "ExecuteTime": {
     "end_time": "2019-06-16T01:50:22.676911Z",
     "start_time": "2019-06-16T01:50:22.672797Z"
    }
   },
   "outputs": [],
   "source": [
    "df.columns = ['Arrival Delay', 'Arrival Time', 'Arrival Uncertainty',\n",
    "       'Departure Delay', 'Departure Time', 'Departure Uncertainty',\n",
    "       'Schedule Relationship', 'Stop ID', 'Stop Sequence', 'Trip ID',\n",
    "       'Request Timestamp', 'Delay', 'Feed ID']"
   ]
  },
  {
   "cell_type": "markdown",
   "metadata": {},
   "source": [
    "## Set Index to `Arrival Time`"
   ]
  },
  {
   "cell_type": "code",
   "execution_count": 9,
   "metadata": {
    "ExecuteTime": {
     "end_time": "2019-06-16T01:50:25.943176Z",
     "start_time": "2019-06-16T01:50:25.939289Z"
    }
   },
   "outputs": [],
   "source": [
    "start = datetime.datetime.now() - datetime.timedelta(minutes=1) \n",
    "end = datetime.datetime.now() + datetime.timedelta(minutes=1)"
   ]
  },
  {
   "cell_type": "code",
   "execution_count": 10,
   "metadata": {
    "ExecuteTime": {
     "end_time": "2019-06-16T01:50:26.271644Z",
     "start_time": "2019-06-16T01:50:26.267139Z"
    }
   },
   "outputs": [],
   "source": [
    "start = datetime.datetime.strftime(start, '%H:%M')\n",
    "end = datetime.datetime.strftime(end, '%H:%M')"
   ]
  },
  {
   "cell_type": "code",
   "execution_count": 11,
   "metadata": {
    "ExecuteTime": {
     "end_time": "2019-06-16T01:50:27.026531Z",
     "start_time": "2019-06-16T01:50:27.009992Z"
    }
   },
   "outputs": [
    {
     "data": {
      "text/html": [
       "<div>\n",
       "<style scoped>\n",
       "    .dataframe tbody tr th:only-of-type {\n",
       "        vertical-align: middle;\n",
       "    }\n",
       "\n",
       "    .dataframe tbody tr th {\n",
       "        vertical-align: top;\n",
       "    }\n",
       "\n",
       "    .dataframe thead th {\n",
       "        text-align: right;\n",
       "    }\n",
       "</style>\n",
       "<table border=\"1\" class=\"dataframe\">\n",
       "  <thead>\n",
       "    <tr style=\"text-align: right;\">\n",
       "      <th></th>\n",
       "      <th>Arrival Delay</th>\n",
       "      <th>Arrival Time</th>\n",
       "      <th>Arrival Uncertainty</th>\n",
       "      <th>Departure Delay</th>\n",
       "      <th>Departure Time</th>\n",
       "      <th>Departure Uncertainty</th>\n",
       "      <th>Schedule Relationship</th>\n",
       "      <th>Stop ID</th>\n",
       "      <th>Stop Sequence</th>\n",
       "      <th>Trip ID</th>\n",
       "      <th>Request Timestamp</th>\n",
       "      <th>Delay</th>\n",
       "      <th>Feed ID</th>\n",
       "    </tr>\n",
       "  </thead>\n",
       "  <tbody>\n",
       "    <tr>\n",
       "      <th>0</th>\n",
       "      <td>179</td>\n",
       "      <td>2019-06-16 08:26:59</td>\n",
       "      <td>0</td>\n",
       "      <td>179</td>\n",
       "      <td>2019-06-16 08:26:59</td>\n",
       "      <td>0</td>\n",
       "      <td>SCHEDULED</td>\n",
       "      <td>8129</td>\n",
       "      <td>13</td>\n",
       "      <td>780</td>\n",
       "      <td>2019-06-16 11:50:15</td>\n",
       "      <td>0</td>\n",
       "      <td>16218343</td>\n",
       "    </tr>\n",
       "    <tr>\n",
       "      <th>1</th>\n",
       "      <td>26</td>\n",
       "      <td>2019-06-16 08:54:26</td>\n",
       "      <td>0</td>\n",
       "      <td>26</td>\n",
       "      <td>2019-06-16 08:54:26</td>\n",
       "      <td>0</td>\n",
       "      <td>SCHEDULED</td>\n",
       "      <td>8100</td>\n",
       "      <td>13</td>\n",
       "      <td>718</td>\n",
       "      <td>2019-06-16 11:50:15</td>\n",
       "      <td>0</td>\n",
       "      <td>16218344</td>\n",
       "    </tr>\n",
       "    <tr>\n",
       "      <th>2</th>\n",
       "      <td>49</td>\n",
       "      <td>2019-06-16 09:24:49</td>\n",
       "      <td>0</td>\n",
       "      <td>49</td>\n",
       "      <td>2019-06-16 09:24:49</td>\n",
       "      <td>0</td>\n",
       "      <td>SCHEDULED</td>\n",
       "      <td>8129</td>\n",
       "      <td>13</td>\n",
       "      <td>784</td>\n",
       "      <td>2019-06-16 11:50:15</td>\n",
       "      <td>0</td>\n",
       "      <td>16218345</td>\n",
       "    </tr>\n",
       "    <tr>\n",
       "      <th>3</th>\n",
       "      <td>22</td>\n",
       "      <td>2019-06-16 09:54:22</td>\n",
       "      <td>0</td>\n",
       "      <td>22</td>\n",
       "      <td>2019-06-16 09:54:22</td>\n",
       "      <td>0</td>\n",
       "      <td>SCHEDULED</td>\n",
       "      <td>8100</td>\n",
       "      <td>13</td>\n",
       "      <td>722</td>\n",
       "      <td>2019-06-16 11:50:15</td>\n",
       "      <td>0</td>\n",
       "      <td>16218346</td>\n",
       "    </tr>\n",
       "    <tr>\n",
       "      <th>4</th>\n",
       "      <td>23</td>\n",
       "      <td>2019-06-16 10:24:23</td>\n",
       "      <td>0</td>\n",
       "      <td>23</td>\n",
       "      <td>2019-06-16 10:24:23</td>\n",
       "      <td>0</td>\n",
       "      <td>SCHEDULED</td>\n",
       "      <td>8129</td>\n",
       "      <td>13</td>\n",
       "      <td>788</td>\n",
       "      <td>2019-06-16 11:50:15</td>\n",
       "      <td>0</td>\n",
       "      <td>16218347</td>\n",
       "    </tr>\n",
       "  </tbody>\n",
       "</table>\n",
       "</div>"
      ],
      "text/plain": [
       "   Arrival Delay        Arrival Time  Arrival Uncertainty  Departure Delay  \\\n",
       "0            179 2019-06-16 08:26:59                    0              179   \n",
       "1             26 2019-06-16 08:54:26                    0               26   \n",
       "2             49 2019-06-16 09:24:49                    0               49   \n",
       "3             22 2019-06-16 09:54:22                    0               22   \n",
       "4             23 2019-06-16 10:24:23                    0               23   \n",
       "\n",
       "       Departure Time  Departure Uncertainty Schedule Relationship Stop ID  \\\n",
       "0 2019-06-16 08:26:59                      0             SCHEDULED    8129   \n",
       "1 2019-06-16 08:54:26                      0             SCHEDULED    8100   \n",
       "2 2019-06-16 09:24:49                      0             SCHEDULED    8129   \n",
       "3 2019-06-16 09:54:22                      0             SCHEDULED    8100   \n",
       "4 2019-06-16 10:24:23                      0             SCHEDULED    8129   \n",
       "\n",
       "   Stop Sequence Trip ID   Request Timestamp  Delay   Feed ID  \n",
       "0             13     780 2019-06-16 11:50:15      0  16218343  \n",
       "1             13     718 2019-06-16 11:50:15      0  16218344  \n",
       "2             13     784 2019-06-16 11:50:15      0  16218345  \n",
       "3             13     722 2019-06-16 11:50:15      0  16218346  \n",
       "4             13     788 2019-06-16 11:50:15      0  16218347  "
      ]
     },
     "execution_count": 11,
     "metadata": {},
     "output_type": "execute_result"
    }
   ],
   "source": [
    "df.head()"
   ]
  },
  {
   "cell_type": "code",
   "execution_count": 12,
   "metadata": {
    "ExecuteTime": {
     "end_time": "2019-06-16T01:50:29.972392Z",
     "start_time": "2019-06-16T01:50:29.967829Z"
    }
   },
   "outputs": [
    {
     "data": {
      "text/plain": [
       "'11:49'"
      ]
     },
     "execution_count": 12,
     "metadata": {},
     "output_type": "execute_result"
    }
   ],
   "source": [
    "start"
   ]
  },
  {
   "cell_type": "code",
   "execution_count": 13,
   "metadata": {
    "ExecuteTime": {
     "end_time": "2019-06-16T01:50:32.720739Z",
     "start_time": "2019-06-16T01:50:32.698119Z"
    }
   },
   "outputs": [
    {
     "name": "stdout",
     "output_type": "stream",
     "text": [
      "11:49 11:51\n"
     ]
    },
    {
     "data": {
      "text/html": [
       "<div>\n",
       "<style scoped>\n",
       "    .dataframe tbody tr th:only-of-type {\n",
       "        vertical-align: middle;\n",
       "    }\n",
       "\n",
       "    .dataframe tbody tr th {\n",
       "        vertical-align: top;\n",
       "    }\n",
       "\n",
       "    .dataframe thead th {\n",
       "        text-align: right;\n",
       "    }\n",
       "</style>\n",
       "<table border=\"1\" class=\"dataframe\">\n",
       "  <thead>\n",
       "    <tr style=\"text-align: right;\">\n",
       "      <th></th>\n",
       "      <th>Arrival Time</th>\n",
       "      <th>Arrival Delay</th>\n",
       "      <th>Arrival Uncertainty</th>\n",
       "      <th>Departure Delay</th>\n",
       "      <th>Departure Time</th>\n",
       "      <th>Departure Uncertainty</th>\n",
       "      <th>Schedule Relationship</th>\n",
       "      <th>Stop ID</th>\n",
       "      <th>Stop Sequence</th>\n",
       "      <th>Trip ID</th>\n",
       "      <th>Request Timestamp</th>\n",
       "      <th>Delay</th>\n",
       "      <th>Feed ID</th>\n",
       "    </tr>\n",
       "  </thead>\n",
       "  <tbody>\n",
       "    <tr>\n",
       "      <th>0</th>\n",
       "      <td>2019-06-16 11:49:51</td>\n",
       "      <td>74</td>\n",
       "      <td>0</td>\n",
       "      <td>74</td>\n",
       "      <td>2019-06-16 11:50:11</td>\n",
       "      <td>0</td>\n",
       "      <td>SCHEDULED</td>\n",
       "      <td>8109</td>\n",
       "      <td>10</td>\n",
       "      <td>730</td>\n",
       "      <td>2019-06-16 11:50:15</td>\n",
       "      <td>0</td>\n",
       "      <td>16218350</td>\n",
       "    </tr>\n",
       "    <tr>\n",
       "      <th>1</th>\n",
       "      <td>2019-06-16 11:50:11</td>\n",
       "      <td>54</td>\n",
       "      <td>0</td>\n",
       "      <td>54</td>\n",
       "      <td>2019-06-16 11:50:31</td>\n",
       "      <td>0</td>\n",
       "      <td>SCHEDULED</td>\n",
       "      <td>8122</td>\n",
       "      <td>10</td>\n",
       "      <td>794</td>\n",
       "      <td>2019-06-16 11:50:15</td>\n",
       "      <td>0</td>\n",
       "      <td>16218415</td>\n",
       "    </tr>\n",
       "    <tr>\n",
       "      <th>2</th>\n",
       "      <td>2019-06-16 11:50:36</td>\n",
       "      <td>-4</td>\n",
       "      <td>0</td>\n",
       "      <td>-4</td>\n",
       "      <td>2019-06-16 11:50:56</td>\n",
       "      <td>0</td>\n",
       "      <td>SCHEDULED</td>\n",
       "      <td>8108</td>\n",
       "      <td>4</td>\n",
       "      <td>795</td>\n",
       "      <td>2019-06-16 11:50:15</td>\n",
       "      <td>0</td>\n",
       "      <td>16218447</td>\n",
       "    </tr>\n",
       "  </tbody>\n",
       "</table>\n",
       "</div>"
      ],
      "text/plain": [
       "         Arrival Time  Arrival Delay  Arrival Uncertainty  Departure Delay  \\\n",
       "0 2019-06-16 11:49:51             74                    0               74   \n",
       "1 2019-06-16 11:50:11             54                    0               54   \n",
       "2 2019-06-16 11:50:36             -4                    0               -4   \n",
       "\n",
       "       Departure Time  Departure Uncertainty Schedule Relationship Stop ID  \\\n",
       "0 2019-06-16 11:50:11                      0             SCHEDULED    8109   \n",
       "1 2019-06-16 11:50:31                      0             SCHEDULED    8122   \n",
       "2 2019-06-16 11:50:56                      0             SCHEDULED    8108   \n",
       "\n",
       "   Stop Sequence Trip ID   Request Timestamp  Delay   Feed ID  \n",
       "0             10     730 2019-06-16 11:50:15      0  16218350  \n",
       "1             10     794 2019-06-16 11:50:15      0  16218415  \n",
       "2              4     795 2019-06-16 11:50:15      0  16218447  "
      ]
     },
     "execution_count": 13,
     "metadata": {},
     "output_type": "execute_result"
    }
   ],
   "source": [
    "print( start, end )\n",
    "records = df.set_index('Arrival Time')\n",
    "records = records.between_time(start, end)\n",
    "records.reset_index(inplace=True)\n",
    "records"
   ]
  },
  {
   "cell_type": "markdown",
   "metadata": {
    "ExecuteTime": {
     "end_time": "2019-06-14T02:52:54.377773Z",
     "start_time": "2019-06-14T02:52:54.373461Z"
    }
   },
   "source": [
    "## Elasticsearch"
   ]
  },
  {
   "cell_type": "code",
   "execution_count": 14,
   "metadata": {
    "ExecuteTime": {
     "end_time": "2019-06-16T01:51:10.542410Z",
     "start_time": "2019-06-16T01:51:10.478333Z"
    }
   },
   "outputs": [],
   "source": [
    "records['Arrival Time'] = records['Arrival Time'].apply(lambda x: int(time.mktime(x.timetuple())))\n",
    "records['Departure Time'] = records['Departure Time'].apply(lambda x: int(time.mktime(x.timetuple())))\n",
    "records['Request Timestamp'] = records['Request Timestamp'].apply(lambda x: int(time.mktime(x.timetuple())))"
   ]
  },
  {
   "cell_type": "code",
   "execution_count": 17,
   "metadata": {
    "ExecuteTime": {
     "end_time": "2019-06-16T01:53:21.975802Z",
     "start_time": "2019-06-16T01:53:21.970752Z"
    }
   },
   "outputs": [],
   "source": [
    "records['Record ID'] = records['Arrival Time'].astype(str)+records['Stop Sequence'].astype(str)+records['Trip ID'].astype(str)"
   ]
  },
  {
   "cell_type": "code",
   "execution_count": 18,
   "metadata": {
    "ExecuteTime": {
     "end_time": "2019-06-16T01:53:25.376848Z",
     "start_time": "2019-06-16T01:53:25.369648Z"
    }
   },
   "outputs": [],
   "source": [
    "records['Arrival Time'] = pd.to_datetime(records['Arrival Time'], unit='s')\n",
    "records['Departure Time'] = pd.to_datetime(records['Departure Time'], unit='s')\n",
    "records['Request Timestamp'] = pd.to_datetime(records['Request Timestamp'], unit='s')"
   ]
  },
  {
   "cell_type": "code",
   "execution_count": 15,
   "metadata": {
    "ExecuteTime": {
     "end_time": "2019-06-14T05:15:08.899379Z",
     "start_time": "2019-06-14T05:15:08.894545Z"
    }
   },
   "outputs": [],
   "source": [
    "es=Elasticsearch([{'host':'localhost','port':9200, 'http_auth':('elastic', 'changeme')}])"
   ]
  },
  {
   "cell_type": "code",
   "execution_count": 16,
   "metadata": {
    "ExecuteTime": {
     "end_time": "2019-06-14T05:15:10.486463Z",
     "start_time": "2019-06-14T05:15:10.286882Z"
    }
   },
   "outputs": [],
   "source": [
    "for idx, record in enumerate(records.to_dict(orient='records'), 1):\n",
    "    es.index(index='tripupdates',doc_type='lightrail',body=record, id=record['Record ID'])"
   ]
  },
  {
   "cell_type": "code",
   "execution_count": 17,
   "metadata": {
    "ExecuteTime": {
     "end_time": "2019-06-14T05:15:11.697312Z",
     "start_time": "2019-06-14T05:15:11.686652Z"
    }
   },
   "outputs": [
    {
     "name": "stdout",
     "output_type": "stream",
     "text": [
      "<class 'pandas.core.frame.DataFrame'>\n",
      "RangeIndex: 5 entries, 0 to 4\n",
      "Data columns (total 13 columns):\n",
      "Arrival Time             5 non-null datetime64[ns]\n",
      "Arrival Delay            5 non-null int64\n",
      "Arrival Uncertainty      5 non-null int64\n",
      "Departure Delay          5 non-null int64\n",
      "Departure Time           5 non-null datetime64[ns]\n",
      "Departure Uncertainty    5 non-null int64\n",
      "Schedule Relationship    5 non-null object\n",
      "Stop ID                  5 non-null object\n",
      "Stop Sequence            5 non-null int64\n",
      "Trip ID                  5 non-null object\n",
      "Request Timestamp        5 non-null datetime64[ns]\n",
      "Delay                    5 non-null int64\n",
      "Feed ID                  5 non-null object\n",
      "dtypes: datetime64[ns](3), int64(6), object(4)\n",
      "memory usage: 600.0+ bytes\n"
     ]
    }
   ],
   "source": [
    "records.info()"
   ]
  },
  {
   "cell_type": "markdown",
   "metadata": {},
   "source": [
    "---"
   ]
  },
  {
   "cell_type": "markdown",
   "metadata": {},
   "source": [
    "### Scratch Pad"
   ]
  },
  {
   "cell_type": "code",
   "execution_count": 7,
   "metadata": {
    "ExecuteTime": {
     "end_time": "2019-06-15T14:48:18.437022Z",
     "start_time": "2019-06-15T14:48:17.275406Z"
    }
   },
   "outputs": [],
   "source": [
    "vehicles = json_normalize(get_vehicles(get_feed()))"
   ]
  },
  {
   "cell_type": "code",
   "execution_count": 8,
   "metadata": {
    "ExecuteTime": {
     "end_time": "2019-06-15T14:48:18.665148Z",
     "start_time": "2019-06-15T14:48:18.539143Z"
    }
   },
   "outputs": [
    {
     "data": {
      "text/html": [
       "<div>\n",
       "<style scoped>\n",
       "    .dataframe tbody tr th:only-of-type {\n",
       "        vertical-align: middle;\n",
       "    }\n",
       "\n",
       "    .dataframe tbody tr th {\n",
       "        vertical-align: top;\n",
       "    }\n",
       "\n",
       "    .dataframe thead th {\n",
       "        text-align: right;\n",
       "    }\n",
       "</style>\n",
       "<table border=\"1\" class=\"dataframe\">\n",
       "  <thead>\n",
       "    <tr style=\"text-align: right;\">\n",
       "      <th></th>\n",
       "      <th>id</th>\n",
       "      <th>isDeleted</th>\n",
       "      <th>vehicle.congestionLevel</th>\n",
       "      <th>vehicle.currentStatus</th>\n",
       "      <th>vehicle.currentStopSequence</th>\n",
       "      <th>vehicle.occupancyStatus</th>\n",
       "      <th>vehicle.position.bearing</th>\n",
       "      <th>vehicle.position.latitude</th>\n",
       "      <th>vehicle.position.longitude</th>\n",
       "      <th>vehicle.position.odometer</th>\n",
       "      <th>vehicle.position.speed</th>\n",
       "      <th>vehicle.stopId</th>\n",
       "      <th>vehicle.timestamp</th>\n",
       "      <th>vehicle.trip.tripId</th>\n",
       "      <th>vehicle.vehicle.id</th>\n",
       "      <th>vehicle.vehicle.label</th>\n",
       "      <th>vehicle.vehicle.licensePlate</th>\n",
       "    </tr>\n",
       "  </thead>\n",
       "  <tbody>\n",
       "    <tr>\n",
       "      <th>0</th>\n",
       "      <td>15850704</td>\n",
       "      <td>False</td>\n",
       "      <td>RUNNING_SMOOTHLY</td>\n",
       "      <td>IN_TRANSIT_TO</td>\n",
       "      <td>10</td>\n",
       "      <td>EMPTY</td>\n",
       "      <td>0.0</td>\n",
       "      <td>-35.252193</td>\n",
       "      <td>149.133484</td>\n",
       "      <td>17008941.0</td>\n",
       "      <td>11.136111</td>\n",
       "      <td></td>\n",
       "      <td>1560610095</td>\n",
       "      <td>703</td>\n",
       "      <td>2</td>\n",
       "      <td>LRV2</td>\n",
       "      <td>LRV2</td>\n",
       "    </tr>\n",
       "    <tr>\n",
       "      <th>1</th>\n",
       "      <td>15850705</td>\n",
       "      <td>False</td>\n",
       "      <td>RUNNING_SMOOTHLY</td>\n",
       "      <td>STOPPED_AT</td>\n",
       "      <td>4</td>\n",
       "      <td>EMPTY</td>\n",
       "      <td>0.0</td>\n",
       "      <td>-35.265896</td>\n",
       "      <td>149.131241</td>\n",
       "      <td>19017609.0</td>\n",
       "      <td>0.322222</td>\n",
       "      <td></td>\n",
       "      <td>1560610095</td>\n",
       "      <td>624</td>\n",
       "      <td>6</td>\n",
       "      <td>LRV6</td>\n",
       "      <td>LRV6</td>\n",
       "    </tr>\n",
       "    <tr>\n",
       "      <th>2</th>\n",
       "      <td>15850706</td>\n",
       "      <td>False</td>\n",
       "      <td>RUNNING_SMOOTHLY</td>\n",
       "      <td>IN_TRANSIT_TO</td>\n",
       "      <td>10</td>\n",
       "      <td>EMPTY</td>\n",
       "      <td>0.0</td>\n",
       "      <td>-35.206329</td>\n",
       "      <td>149.147903</td>\n",
       "      <td>16735492.0</td>\n",
       "      <td>18.058332</td>\n",
       "      <td></td>\n",
       "      <td>1560610095</td>\n",
       "      <td>623</td>\n",
       "      <td>8</td>\n",
       "      <td>LRV8</td>\n",
       "      <td>LRV8</td>\n",
       "    </tr>\n",
       "    <tr>\n",
       "      <th>3</th>\n",
       "      <td>15850707</td>\n",
       "      <td>False</td>\n",
       "      <td>RUNNING_SMOOTHLY</td>\n",
       "      <td>IN_TRANSIT_TO</td>\n",
       "      <td>5</td>\n",
       "      <td>EMPTY</td>\n",
       "      <td>0.0</td>\n",
       "      <td>-35.205772</td>\n",
       "      <td>149.148087</td>\n",
       "      <td>20612069.0</td>\n",
       "      <td>16.466667</td>\n",
       "      <td></td>\n",
       "      <td>1560610095</td>\n",
       "      <td>704</td>\n",
       "      <td>12</td>\n",
       "      <td>LRV12</td>\n",
       "      <td>LRV12</td>\n",
       "    </tr>\n",
       "  </tbody>\n",
       "</table>\n",
       "</div>"
      ],
      "text/plain": [
       "         id  isDeleted vehicle.congestionLevel vehicle.currentStatus  \\\n",
       "0  15850704      False        RUNNING_SMOOTHLY         IN_TRANSIT_TO   \n",
       "1  15850705      False        RUNNING_SMOOTHLY            STOPPED_AT   \n",
       "2  15850706      False        RUNNING_SMOOTHLY         IN_TRANSIT_TO   \n",
       "3  15850707      False        RUNNING_SMOOTHLY         IN_TRANSIT_TO   \n",
       "\n",
       "   vehicle.currentStopSequence vehicle.occupancyStatus  \\\n",
       "0                           10                   EMPTY   \n",
       "1                            4                   EMPTY   \n",
       "2                           10                   EMPTY   \n",
       "3                            5                   EMPTY   \n",
       "\n",
       "   vehicle.position.bearing  vehicle.position.latitude  \\\n",
       "0                       0.0                 -35.252193   \n",
       "1                       0.0                 -35.265896   \n",
       "2                       0.0                 -35.206329   \n",
       "3                       0.0                 -35.205772   \n",
       "\n",
       "   vehicle.position.longitude  vehicle.position.odometer  \\\n",
       "0                  149.133484                 17008941.0   \n",
       "1                  149.131241                 19017609.0   \n",
       "2                  149.147903                 16735492.0   \n",
       "3                  149.148087                 20612069.0   \n",
       "\n",
       "   vehicle.position.speed vehicle.stopId vehicle.timestamp  \\\n",
       "0               11.136111                       1560610095   \n",
       "1                0.322222                       1560610095   \n",
       "2               18.058332                       1560610095   \n",
       "3               16.466667                       1560610095   \n",
       "\n",
       "  vehicle.trip.tripId vehicle.vehicle.id vehicle.vehicle.label  \\\n",
       "0                 703                  2                  LRV2   \n",
       "1                 624                  6                  LRV6   \n",
       "2                 623                  8                  LRV8   \n",
       "3                 704                 12                 LRV12   \n",
       "\n",
       "  vehicle.vehicle.licensePlate  \n",
       "0                         LRV2  \n",
       "1                         LRV6  \n",
       "2                         LRV8  \n",
       "3                        LRV12  "
      ]
     },
     "execution_count": 8,
     "metadata": {},
     "output_type": "execute_result"
    }
   ],
   "source": [
    "vehicles"
   ]
  },
  {
   "cell_type": "code",
   "execution_count": 9,
   "metadata": {
    "ExecuteTime": {
     "end_time": "2019-06-15T14:48:22.130367Z",
     "start_time": "2019-06-15T14:48:22.123906Z"
    }
   },
   "outputs": [
    {
     "data": {
      "text/plain": [
       "Index(['id', 'isDeleted', 'vehicle.congestionLevel', 'vehicle.currentStatus',\n",
       "       'vehicle.currentStopSequence', 'vehicle.occupancyStatus',\n",
       "       'vehicle.position.bearing', 'vehicle.position.latitude',\n",
       "       'vehicle.position.longitude', 'vehicle.position.odometer',\n",
       "       'vehicle.position.speed', 'vehicle.stopId', 'vehicle.timestamp',\n",
       "       'vehicle.trip.tripId', 'vehicle.vehicle.id', 'vehicle.vehicle.label',\n",
       "       'vehicle.vehicle.licensePlate'],\n",
       "      dtype='object')"
      ]
     },
     "execution_count": 9,
     "metadata": {},
     "output_type": "execute_result"
    }
   ],
   "source": [
    "vehicles.columns"
   ]
  },
  {
   "cell_type": "code",
   "execution_count": 10,
   "metadata": {
    "ExecuteTime": {
     "end_time": "2019-06-15T14:48:23.151440Z",
     "start_time": "2019-06-15T14:48:23.146899Z"
    }
   },
   "outputs": [],
   "source": [
    "vehicles.columns = ['Feed Id', 'isDeleted', 'Congestion Level', 'Current Status', 'Current Stop Sequence', 'Occupancy Status', 'Bearing', 'Latitude', 'Longitude', 'Odometer', 'Speed', 'Stop Id', 'Timestamp', 'Trip Id', 'Vehicle Id', 'Vehicle Label', 'Vehicle License Plate']"
   ]
  },
  {
   "cell_type": "code",
   "execution_count": 11,
   "metadata": {
    "ExecuteTime": {
     "end_time": "2019-06-15T14:48:24.920821Z",
     "start_time": "2019-06-15T14:48:24.915854Z"
    }
   },
   "outputs": [],
   "source": [
    "vehicles.drop(columns='Stop Id', axis=1, inplace=True)"
   ]
  },
  {
   "cell_type": "code",
   "execution_count": 12,
   "metadata": {
    "ExecuteTime": {
     "end_time": "2019-06-15T14:48:25.974917Z",
     "start_time": "2019-06-15T14:48:25.955680Z"
    }
   },
   "outputs": [
    {
     "data": {
      "text/html": [
       "<div>\n",
       "<style scoped>\n",
       "    .dataframe tbody tr th:only-of-type {\n",
       "        vertical-align: middle;\n",
       "    }\n",
       "\n",
       "    .dataframe tbody tr th {\n",
       "        vertical-align: top;\n",
       "    }\n",
       "\n",
       "    .dataframe thead th {\n",
       "        text-align: right;\n",
       "    }\n",
       "</style>\n",
       "<table border=\"1\" class=\"dataframe\">\n",
       "  <thead>\n",
       "    <tr style=\"text-align: right;\">\n",
       "      <th></th>\n",
       "      <th>Feed Id</th>\n",
       "      <th>isDeleted</th>\n",
       "      <th>Congestion Level</th>\n",
       "      <th>Current Status</th>\n",
       "      <th>Current Stop Sequence</th>\n",
       "      <th>Occupancy Status</th>\n",
       "      <th>Bearing</th>\n",
       "      <th>Latitude</th>\n",
       "      <th>Longitude</th>\n",
       "      <th>Odometer</th>\n",
       "      <th>Speed</th>\n",
       "      <th>Timestamp</th>\n",
       "      <th>Trip Id</th>\n",
       "      <th>Vehicle Id</th>\n",
       "      <th>Vehicle Label</th>\n",
       "      <th>Vehicle License Plate</th>\n",
       "    </tr>\n",
       "  </thead>\n",
       "  <tbody>\n",
       "    <tr>\n",
       "      <th>0</th>\n",
       "      <td>15850704</td>\n",
       "      <td>False</td>\n",
       "      <td>RUNNING_SMOOTHLY</td>\n",
       "      <td>IN_TRANSIT_TO</td>\n",
       "      <td>10</td>\n",
       "      <td>EMPTY</td>\n",
       "      <td>0.0</td>\n",
       "      <td>-35.252193</td>\n",
       "      <td>149.133484</td>\n",
       "      <td>17008941.0</td>\n",
       "      <td>11.136111</td>\n",
       "      <td>1560610095</td>\n",
       "      <td>703</td>\n",
       "      <td>2</td>\n",
       "      <td>LRV2</td>\n",
       "      <td>LRV2</td>\n",
       "    </tr>\n",
       "    <tr>\n",
       "      <th>1</th>\n",
       "      <td>15850705</td>\n",
       "      <td>False</td>\n",
       "      <td>RUNNING_SMOOTHLY</td>\n",
       "      <td>STOPPED_AT</td>\n",
       "      <td>4</td>\n",
       "      <td>EMPTY</td>\n",
       "      <td>0.0</td>\n",
       "      <td>-35.265896</td>\n",
       "      <td>149.131241</td>\n",
       "      <td>19017609.0</td>\n",
       "      <td>0.322222</td>\n",
       "      <td>1560610095</td>\n",
       "      <td>624</td>\n",
       "      <td>6</td>\n",
       "      <td>LRV6</td>\n",
       "      <td>LRV6</td>\n",
       "    </tr>\n",
       "    <tr>\n",
       "      <th>2</th>\n",
       "      <td>15850706</td>\n",
       "      <td>False</td>\n",
       "      <td>RUNNING_SMOOTHLY</td>\n",
       "      <td>IN_TRANSIT_TO</td>\n",
       "      <td>10</td>\n",
       "      <td>EMPTY</td>\n",
       "      <td>0.0</td>\n",
       "      <td>-35.206329</td>\n",
       "      <td>149.147903</td>\n",
       "      <td>16735492.0</td>\n",
       "      <td>18.058332</td>\n",
       "      <td>1560610095</td>\n",
       "      <td>623</td>\n",
       "      <td>8</td>\n",
       "      <td>LRV8</td>\n",
       "      <td>LRV8</td>\n",
       "    </tr>\n",
       "    <tr>\n",
       "      <th>3</th>\n",
       "      <td>15850707</td>\n",
       "      <td>False</td>\n",
       "      <td>RUNNING_SMOOTHLY</td>\n",
       "      <td>IN_TRANSIT_TO</td>\n",
       "      <td>5</td>\n",
       "      <td>EMPTY</td>\n",
       "      <td>0.0</td>\n",
       "      <td>-35.205772</td>\n",
       "      <td>149.148087</td>\n",
       "      <td>20612069.0</td>\n",
       "      <td>16.466667</td>\n",
       "      <td>1560610095</td>\n",
       "      <td>704</td>\n",
       "      <td>12</td>\n",
       "      <td>LRV12</td>\n",
       "      <td>LRV12</td>\n",
       "    </tr>\n",
       "  </tbody>\n",
       "</table>\n",
       "</div>"
      ],
      "text/plain": [
       "    Feed Id  isDeleted  Congestion Level Current Status  \\\n",
       "0  15850704      False  RUNNING_SMOOTHLY  IN_TRANSIT_TO   \n",
       "1  15850705      False  RUNNING_SMOOTHLY     STOPPED_AT   \n",
       "2  15850706      False  RUNNING_SMOOTHLY  IN_TRANSIT_TO   \n",
       "3  15850707      False  RUNNING_SMOOTHLY  IN_TRANSIT_TO   \n",
       "\n",
       "   Current Stop Sequence Occupancy Status  Bearing   Latitude   Longitude  \\\n",
       "0                     10            EMPTY      0.0 -35.252193  149.133484   \n",
       "1                      4            EMPTY      0.0 -35.265896  149.131241   \n",
       "2                     10            EMPTY      0.0 -35.206329  149.147903   \n",
       "3                      5            EMPTY      0.0 -35.205772  149.148087   \n",
       "\n",
       "     Odometer      Speed   Timestamp Trip Id Vehicle Id Vehicle Label  \\\n",
       "0  17008941.0  11.136111  1560610095     703          2          LRV2   \n",
       "1  19017609.0   0.322222  1560610095     624          6          LRV6   \n",
       "2  16735492.0  18.058332  1560610095     623          8          LRV8   \n",
       "3  20612069.0  16.466667  1560610095     704         12         LRV12   \n",
       "\n",
       "  Vehicle License Plate  \n",
       "0                  LRV2  \n",
       "1                  LRV6  \n",
       "2                  LRV8  \n",
       "3                 LRV12  "
      ]
     },
     "execution_count": 12,
     "metadata": {},
     "output_type": "execute_result"
    }
   ],
   "source": [
    "vehicles"
   ]
  },
  {
   "cell_type": "code",
   "execution_count": 16,
   "metadata": {
    "ExecuteTime": {
     "end_time": "2019-06-15T14:49:30.178061Z",
     "start_time": "2019-06-15T14:49:30.173130Z"
    }
   },
   "outputs": [],
   "source": [
    "vehicles['Timestamp'] = pd.to_datetime(vehicles['Timestamp'], unit='s')"
   ]
  },
  {
   "cell_type": "code",
   "execution_count": 55,
   "metadata": {
    "ExecuteTime": {
     "end_time": "2019-06-15T11:44:59.258618Z",
     "start_time": "2019-06-15T11:44:58.639244Z"
    }
   },
   "outputs": [],
   "source": [
    "for idx, record in enumerate(vehicles.to_dict(orient='records'), 1):\n",
    "    es.index(index='vehicles',doc_type='lightrail',body=record, id=record['Feed Id'])"
   ]
  },
  {
   "cell_type": "code",
   "execution_count": null,
   "metadata": {},
   "outputs": [],
   "source": []
  }
 ],
 "metadata": {
  "kernelspec": {
   "display_name": "Python 3",
   "language": "python",
   "name": "python3"
  },
  "language_info": {
   "codemirror_mode": {
    "name": "ipython",
    "version": 3
   },
   "file_extension": ".py",
   "mimetype": "text/x-python",
   "name": "python",
   "nbconvert_exporter": "python",
   "pygments_lexer": "ipython3",
   "version": "3.6.8"
  },
  "toc": {
   "base_numbering": 1,
   "nav_menu": {},
   "number_sections": true,
   "sideBar": true,
   "skip_h1_title": false,
   "title_cell": "Table of Contents",
   "title_sidebar": "Contents",
   "toc_cell": false,
   "toc_position": {},
   "toc_section_display": true,
   "toc_window_display": false
  },
  "varInspector": {
   "cols": {
    "lenName": 16,
    "lenType": 16,
    "lenVar": 40
   },
   "kernels_config": {
    "python": {
     "delete_cmd_postfix": "",
     "delete_cmd_prefix": "del ",
     "library": "var_list.py",
     "varRefreshCmd": "print(var_dic_list())"
    },
    "r": {
     "delete_cmd_postfix": ") ",
     "delete_cmd_prefix": "rm(",
     "library": "var_list.r",
     "varRefreshCmd": "cat(var_dic_list()) "
    }
   },
   "types_to_exclude": [
    "module",
    "function",
    "builtin_function_or_method",
    "instance",
    "_Feature"
   ],
   "window_display": false
  }
 },
 "nbformat": 4,
 "nbformat_minor": 2
}
