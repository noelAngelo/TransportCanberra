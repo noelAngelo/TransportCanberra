{
 "cells": [
  {
   "cell_type": "code",
   "execution_count": 1,
   "metadata": {
    "ExecuteTime": {
     "end_time": "2019-05-18T11:30:16.363085Z",
     "start_time": "2019-05-18T11:30:15.994537Z"
    }
   },
   "outputs": [],
   "source": [
    "import numpy as np\n",
    "import pandas as pd\n",
    "import qgrid"
   ]
  },
  {
   "cell_type": "markdown",
   "metadata": {},
   "source": [
    "## Canberra Bus Stops"
   ]
  },
  {
   "cell_type": "code",
   "execution_count": 2,
   "metadata": {
    "ExecuteTime": {
     "end_time": "2019-05-18T11:30:19.703617Z",
     "start_time": "2019-05-18T11:30:19.681906Z"
    }
   },
   "outputs": [],
   "source": [
    "stops = pd.read_csv('AllStops.csv', sep='\\t')"
   ]
  },
  {
   "cell_type": "code",
   "execution_count": 4,
   "metadata": {
    "ExecuteTime": {
     "end_time": "2019-05-18T11:31:10.806983Z",
     "start_time": "2019-05-18T11:31:10.705934Z"
    }
   },
   "outputs": [
    {
     "data": {
      "application/vnd.jupyter.widget-view+json": {
       "model_id": "cf611dec93a342b4953a8081c60fda9a",
       "version_major": 2,
       "version_minor": 0
      },
      "text/plain": [
       "QgridWidget(grid_options={'fullWidthRows': True, 'syncColumnCellResize': True, 'forceFitColumns': True, 'defau…"
      ]
     },
     "metadata": {},
     "output_type": "display_data"
    }
   ],
   "source": [
    "qgrid_stops = qgrid.show_grid(stops, show_toolbar=True)\n",
    "qgrid_stops"
   ]
  },
  {
   "cell_type": "code",
   "execution_count": 15,
   "metadata": {
    "ExecuteTime": {
     "end_time": "2019-05-18T11:34:21.145357Z",
     "start_time": "2019-05-18T11:34:21.131889Z"
    }
   },
   "outputs": [
    {
     "data": {
      "text/html": [
       "<div>\n",
       "<style scoped>\n",
       "    .dataframe tbody tr th:only-of-type {\n",
       "        vertical-align: middle;\n",
       "    }\n",
       "\n",
       "    .dataframe tbody tr th {\n",
       "        vertical-align: top;\n",
       "    }\n",
       "\n",
       "    .dataframe thead th {\n",
       "        text-align: right;\n",
       "    }\n",
       "</style>\n",
       "<table border=\"1\" class=\"dataframe\">\n",
       "  <thead>\n",
       "    <tr style=\"text-align: right;\">\n",
       "      <th></th>\n",
       "      <th>Stop</th>\n",
       "      <th>Description</th>\n",
       "      <th>Latitude</th>\n",
       "      <th>Longitude</th>\n",
       "      <th>Street</th>\n",
       "    </tr>\n",
       "  </thead>\n",
       "  <tbody>\n",
       "    <tr>\n",
       "      <th>2523</th>\n",
       "      <td>4728</td>\n",
       "      <td>Lexcen Av after Gungahlin Dr</td>\n",
       "      <td>-35.183777</td>\n",
       "      <td>149.108170</td>\n",
       "      <td>LEXCEN AV</td>\n",
       "    </tr>\n",
       "    <tr>\n",
       "      <th>2524</th>\n",
       "      <td>4729</td>\n",
       "      <td>Lexcen Av after Arthaldo Cct</td>\n",
       "      <td>-35.184151</td>\n",
       "      <td>149.106339</td>\n",
       "      <td>LEXCEN AV</td>\n",
       "    </tr>\n",
       "    <tr>\n",
       "      <th>2627</th>\n",
       "      <td>4866</td>\n",
       "      <td>Lexcen Ave before Hattersley Cct</td>\n",
       "      <td>-35.186249</td>\n",
       "      <td>149.105118</td>\n",
       "      <td>LEXCEN AV</td>\n",
       "    </tr>\n",
       "    <tr>\n",
       "      <th>2636</th>\n",
       "      <td>4877</td>\n",
       "      <td>Lexcen Av after Anne Clark Av</td>\n",
       "      <td>-35.184025</td>\n",
       "      <td>149.106354</td>\n",
       "      <td>LEXCEN AV</td>\n",
       "    </tr>\n",
       "    <tr>\n",
       "      <th>2637</th>\n",
       "      <td>4878</td>\n",
       "      <td>Lexcen Av after Arthaldo Ct</td>\n",
       "      <td>-35.183518</td>\n",
       "      <td>149.108917</td>\n",
       "      <td>LEXCEN AV</td>\n",
       "    </tr>\n",
       "    <tr>\n",
       "      <th>2638</th>\n",
       "      <td>4879</td>\n",
       "      <td>Lexcen Ave after Tazewell Cct</td>\n",
       "      <td>-35.187489</td>\n",
       "      <td>149.104950</td>\n",
       "      <td>LEXCEN AV</td>\n",
       "    </tr>\n",
       "    <tr>\n",
       "      <th>2812</th>\n",
       "      <td>5074</td>\n",
       "      <td>Lexcen Av after Temperley Cct</td>\n",
       "      <td>-35.188622</td>\n",
       "      <td>149.101471</td>\n",
       "      <td>LEXCEN AV</td>\n",
       "    </tr>\n",
       "    <tr>\n",
       "      <th>2813</th>\n",
       "      <td>5075</td>\n",
       "      <td>Lexcen Av after McCauliffe Ct</td>\n",
       "      <td>-35.188679</td>\n",
       "      <td>149.101593</td>\n",
       "      <td>LEXCEN AV</td>\n",
       "    </tr>\n",
       "  </tbody>\n",
       "</table>\n",
       "</div>"
      ],
      "text/plain": [
       "      Stop                       Description   Latitude   Longitude     Street\n",
       "2523  4728      Lexcen Av after Gungahlin Dr -35.183777  149.108170  LEXCEN AV\n",
       "2524  4729      Lexcen Av after Arthaldo Cct -35.184151  149.106339  LEXCEN AV\n",
       "2627  4866  Lexcen Ave before Hattersley Cct -35.186249  149.105118  LEXCEN AV\n",
       "2636  4877     Lexcen Av after Anne Clark Av -35.184025  149.106354  LEXCEN AV\n",
       "2637  4878       Lexcen Av after Arthaldo Ct -35.183518  149.108917  LEXCEN AV\n",
       "2638  4879     Lexcen Ave after Tazewell Cct -35.187489  149.104950  LEXCEN AV\n",
       "2812  5074     Lexcen Av after Temperley Cct -35.188622  149.101471  LEXCEN AV\n",
       "2813  5075     Lexcen Av after McCauliffe Ct -35.188679  149.101593  LEXCEN AV"
      ]
     },
     "execution_count": 15,
     "metadata": {},
     "output_type": "execute_result"
    }
   ],
   "source": [
    "# stops[stops['Street'].str.contains('AV')]\n",
    "stops[stops['Street'].str.contains('LEXCEN')]"
   ]
  },
  {
   "cell_type": "code",
   "execution_count": null,
   "metadata": {},
   "outputs": [],
   "source": []
  }
 ],
 "metadata": {
  "kernelspec": {
   "display_name": "Python 3",
   "language": "python",
   "name": "python3"
  },
  "language_info": {
   "codemirror_mode": {
    "name": "ipython",
    "version": 3
   },
   "file_extension": ".py",
   "mimetype": "text/x-python",
   "name": "python",
   "nbconvert_exporter": "python",
   "pygments_lexer": "ipython3",
   "version": "3.7.3"
  },
  "toc": {
   "base_numbering": 1,
   "nav_menu": {},
   "number_sections": true,
   "sideBar": true,
   "skip_h1_title": false,
   "title_cell": "Table of Contents",
   "title_sidebar": "Contents",
   "toc_cell": false,
   "toc_position": {},
   "toc_section_display": true,
   "toc_window_display": false
  },
  "varInspector": {
   "cols": {
    "lenName": 16,
    "lenType": 16,
    "lenVar": 40
   },
   "kernels_config": {
    "python": {
     "delete_cmd_postfix": "",
     "delete_cmd_prefix": "del ",
     "library": "var_list.py",
     "varRefreshCmd": "print(var_dic_list())"
    },
    "r": {
     "delete_cmd_postfix": ") ",
     "delete_cmd_prefix": "rm(",
     "library": "var_list.r",
     "varRefreshCmd": "cat(var_dic_list()) "
    }
   },
   "types_to_exclude": [
    "module",
    "function",
    "builtin_function_or_method",
    "instance",
    "_Feature"
   ],
   "window_display": false
  }
 },
 "nbformat": 4,
 "nbformat_minor": 2
}
