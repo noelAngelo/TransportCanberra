{
 "cells": [
  {
   "cell_type": "markdown",
   "metadata": {},
   "source": [
    "# Light Rail Realtime to Elasticsearch"
   ]
  },
  {
   "cell_type": "code",
   "execution_count": 2,
   "metadata": {
    "ExecuteTime": {
     "end_time": "2019-06-26T07:38:00.687136Z",
     "start_time": "2019-06-26T07:37:59.819128Z"
    }
   },
   "outputs": [],
   "source": [
    "from pandas.io.json import json_normalize\n",
    "from sodapy import Socrata\n",
    "from elasticsearch import Elasticsearch\n",
    "\n",
    "import json\n",
    "import requests\n",
    "import numpy as np\n",
    "import pandas as pd\n",
    "import datetime\n",
    "from datetime import timedelta \n",
    "import os, time\n",
    "import pytz\n",
    "import arrow"
   ]
  },
  {
   "cell_type": "code",
   "execution_count": 4,
   "metadata": {
    "ExecuteTime": {
     "end_time": "2019-06-26T07:39:11.422746Z",
     "start_time": "2019-06-26T07:39:11.415434Z"
    }
   },
   "outputs": [],
   "source": [
    "# get credentials\n",
    "with open('../.credentials') as f:\n",
    "    credentials = f.readlines()\n",
    "    credentials = json.loads(''.join(credentials).strip())"
   ]
  },
  {
   "cell_type": "markdown",
   "metadata": {},
   "source": [
    "# Data Acquisition\n",
    "\n",
    "1. Socrata\n",
    "2. GTFS (`trips.csv`, `stops.csv`) "
   ]
  },
  {
   "cell_type": "markdown",
   "metadata": {},
   "source": [
    "## Get data from Socrata"
   ]
  },
  {
   "cell_type": "code",
   "execution_count": 5,
   "metadata": {
    "ExecuteTime": {
     "end_time": "2019-06-26T08:39:16.294220Z",
     "start_time": "2019-06-26T08:39:16.288388Z"
    }
   },
   "outputs": [],
   "source": [
    "def getRealtimeFeed():\n",
    "    # authenticate Socrata\n",
    "    client = Socrata('www.data.act.gov.au',\n",
    "                 '4jqogoRJ9NKj1gr8QAZ9CCKFI',\n",
    "                 username=credentials['username'],\n",
    "                 password=credentials['password'])\n",
    "    # get endpoint\n",
    "    results = client.get(\"r9a8-xw6s\")\n",
    "    # Convert to pandas DataFrame\n",
    "    results_df = pd.DataFrame.from_records(results)\n",
    "    return results_df"
   ]
  },
  {
   "cell_type": "markdown",
   "metadata": {},
   "source": [
    "## Get data from GTFS"
   ]
  },
  {
   "cell_type": "code",
   "execution_count": 6,
   "metadata": {
    "ExecuteTime": {
     "end_time": "2019-06-26T08:29:35.822190Z",
     "start_time": "2019-06-26T08:29:35.806967Z"
    }
   },
   "outputs": [],
   "source": [
    "# get data from trips and stops\n",
    "trips = pd.read_csv('../GTFS/google_transit_lr/trips.csv')\n",
    "stops = pd.read_csv('../GTFS/google_transit_lr/stops.csv')"
   ]
  },
  {
   "cell_type": "markdown",
   "metadata": {},
   "source": [
    "## Converting, Sorting and Dropping Columns"
   ]
  },
  {
   "cell_type": "code",
   "execution_count": 59,
   "metadata": {
    "ExecuteTime": {
     "end_time": "2019-06-26T12:59:09.999212Z",
     "start_time": "2019-06-26T12:59:09.984283Z"
    }
   },
   "outputs": [],
   "source": [
    "# adds information from trips.csv and stops.csv\n",
    "def CSDM(dff, trips, stops):\n",
    "    \n",
    "    # TODO: check with Selva later for R (reserved buses) but removing them for now\n",
    "    dff = dff[dff['trip_id'].map(lambda x: 'R' not in x)]\n",
    "    \n",
    "    # convert columns to datetime and int\n",
    "    dff['arrival_delay'] = dff['arrival_delay'].astype(int)\n",
    "    dff['depature_delay'] = dff['depature_delay'].astype(int)\n",
    "    dff['stop_sequence'] = dff['stop_sequence'].astype(int)\n",
    "    dff['trip_id'] = dff['trip_id'].astype(int)\n",
    "    trips['trip_id'] = trips['trip_id'].astype(int)\n",
    "    stops['stop_id'] = stops['stop_id'].astype(str)\n",
    "    \n",
    "    dff['arrival_time'] = dff['arrival_time'].apply(lambda x: arrow.get(x, tzinfo='Australia/Canberra'))\n",
    "    dff['arrival_date'] = dff['arrival_time'].apply(lambda x: x.date())\n",
    "    dff['depature_time'] = dff['depature_time'].apply(lambda x: arrow.get(x, tzinfo='Australia/Canberra'))\n",
    "    dff['depature_date'] = dff['depature_time'].apply(lambda x: x.date())\n",
    "    dff['timestamp'] = dff['timestamp'].apply(lambda x: arrow.get(x, tzinfo='Australia/Canberra'))\n",
    "    \n",
    "    # sort columns based on arrival time\n",
    "    dff.sort_values(by='arrival_time',ascending=True, inplace=True)\n",
    "\n",
    "    # drop columns\n",
    "    dff_dropped = dff[['arrival_delay', 'arrival_time', 'arrival_date', 'depature_delay', 'depature_time', 'depature_date', 'stop_id', 'stop_sequence', 'trip_id', 'timestamp']].copy()\n",
    "    trips_dropped = trips[['route_id', 'service_id', 'trip_id','trip_headsign', 'direction_id']]\n",
    "    stops_dropped = stops[stops.columns[:2]]\n",
    "    \n",
    "    # merge columns\n",
    "    merged = pd.merge(left=stops_dropped, left_on='stop_id', right=dff_dropped, right_on='stop_id', how='right')\n",
    "    merged = pd.merge(left=trips_dropped, left_on='trip_id', right=merged, right_on='trip_id', how='right').copy()\n",
    "#     print('|     Dates    |\\n----------------')\n",
    "#     for i in sorted(merged['arrival_date'].unique()):\n",
    "#         print('|  {}  |'.format(str(i)))\n",
    "    return merged"
   ]
  },
  {
   "cell_type": "markdown",
   "metadata": {},
   "source": [
    "# Periodically Collect Data"
   ]
  },
  {
   "cell_type": "code",
   "execution_count": 41,
   "metadata": {
    "ExecuteTime": {
     "end_time": "2019-06-26T08:47:12.914163Z",
     "start_time": "2019-06-26T08:47:10.717531Z"
    }
   },
   "outputs": [
    {
     "name": "stdout",
     "output_type": "stream",
     "text": [
      "|     Dates    |\n",
      "----------------\n",
      "|  2019-06-29  |\n",
      "|  2019-06-30  |\n"
     ]
    }
   ],
   "source": [
    "df = CSDM(getRealtimeFeed(), trips, stops)"
   ]
  },
  {
   "cell_type": "code",
   "execution_count": null,
   "metadata": {},
   "outputs": [
    {
     "name": "stdout",
     "output_type": "stream",
     "text": [
      "Count 1\n",
      "Empty DataFrame\n",
      "Columns: [trip_id, stop_sequence, timedelta]\n",
      "Index: []\n",
      "Count 2\n",
      "Empty DataFrame\n",
      "Columns: [trip_id, stop_sequence, timedelta]\n",
      "Index: []\n",
      "Count 3\n",
      "Empty DataFrame\n",
      "Columns: [trip_id, stop_sequence, timedelta]\n",
      "Index: []\n",
      "Count 4\n",
      "Empty DataFrame\n",
      "Columns: [trip_id, stop_sequence, timedelta]\n",
      "Index: []\n",
      "Count 5\n",
      "Empty DataFrame\n",
      "Columns: [trip_id, stop_sequence, timedelta]\n",
      "Index: []\n",
      "Count 6\n",
      "Empty DataFrame\n",
      "Columns: [trip_id, stop_sequence, timedelta]\n",
      "Index: []\n",
      "Count 7\n",
      "Empty DataFrame\n",
      "Columns: [trip_id, stop_sequence, timedelta]\n",
      "Index: []\n",
      "Count 8\n",
      "Empty DataFrame\n",
      "Columns: [trip_id, stop_sequence, timedelta]\n",
      "Index: []\n",
      "Count 9\n",
      "Empty DataFrame\n",
      "Columns: [trip_id, stop_sequence, timedelta]\n",
      "Index: []\n",
      "Count 10\n",
      "Empty DataFrame\n",
      "Columns: [trip_id, stop_sequence, timedelta]\n",
      "Index: []\n",
      "Count 11\n",
      "Empty DataFrame\n",
      "Columns: [trip_id, stop_sequence, timedelta]\n",
      "Index: []\n",
      "Count 12\n",
      "Empty DataFrame\n",
      "Columns: [trip_id, stop_sequence, timedelta]\n",
      "Index: []\n",
      "Count 13\n",
      "Empty DataFrame\n",
      "Columns: [trip_id, stop_sequence, timedelta]\n",
      "Index: []\n",
      "Count 14\n",
      "Empty DataFrame\n",
      "Columns: [trip_id, stop_sequence, timedelta]\n",
      "Index: []\n"
     ]
    }
   ],
   "source": [
    "counter = 0\n",
    "for i in range(20,1):\n",
    "    counter+=1\n",
    "    print('Count {}'.format(counter))\n",
    "    df = CSDM(getRealtimeFeed(), trips, stops)\n",
    "    df.insert(loc=15, column='timedelta', value=(df['timestamp'] - df['depature_time']))\n",
    "    df = df[df['timedelta'].map(lambda x: (x.days == 0) & (x.seconds <= 30))].copy()\n",
    "    df.sort_values(by=['timedelta'], inplace=True)\n",
    "    print(df[['trip_id', 'stop_sequence', 'timedelta']])\n",
    "    time.sleep(5)"
   ]
  },
  {
   "cell_type": "code",
   "execution_count": 78,
   "metadata": {},
   "outputs": [
    {
     "data": {
      "text/html": [
       "<div>\n",
       "<style scoped>\n",
       "    .dataframe tbody tr th:only-of-type {\n",
       "        vertical-align: middle;\n",
       "    }\n",
       "\n",
       "    .dataframe tbody tr th {\n",
       "        vertical-align: top;\n",
       "    }\n",
       "\n",
       "    .dataframe thead th {\n",
       "        text-align: right;\n",
       "    }\n",
       "</style>\n",
       "<table border=\"1\" class=\"dataframe\">\n",
       "  <thead>\n",
       "    <tr style=\"text-align: right;\">\n",
       "      <th></th>\n",
       "      <th>trip_id</th>\n",
       "      <th>arrival_time</th>\n",
       "      <th>stop_sequence</th>\n",
       "      <th>timestamp</th>\n",
       "      <th>timedelta</th>\n",
       "    </tr>\n",
       "  </thead>\n",
       "  <tbody>\n",
       "  </tbody>\n",
       "</table>\n",
       "</div>"
      ],
      "text/plain": [
       "Empty DataFrame\n",
       "Columns: [trip_id, arrival_time, stop_sequence, timestamp, timedelta]\n",
       "Index: []"
      ]
     },
     "execution_count": 78,
     "metadata": {},
     "output_type": "execute_result"
    }
   ],
   "source": []
  },
  {
   "cell_type": "markdown",
   "metadata": {},
   "source": [
    "# Moving to Elastic"
   ]
  },
  {
   "cell_type": "code",
   "execution_count": 299,
   "metadata": {
    "ExecuteTime": {
     "end_time": "2019-06-26T20:03:53.735284Z",
     "start_time": "2019-06-26T20:03:53.729730Z"
    }
   },
   "outputs": [],
   "source": [
    "es=Elasticsearch([{'host':'localhost','port':9200, 'http_auth':('elastic', 'changeme')}])"
   ]
  },
  {
   "cell_type": "code",
   "execution_count": 300,
   "metadata": {
    "ExecuteTime": {
     "end_time": "2019-06-26T20:03:56.969265Z",
     "start_time": "2019-06-26T20:03:55.999503Z"
    }
   },
   "outputs": [],
   "source": [
    "df3['arrival_time'] = df3['arrival_time'].apply(lambda x: x.datetime)\n",
    "df3['depature_time'] = df3['depature_time'].apply(lambda x: x.datetime)\n",
    "df3['timestamp'] = df3['timestamp'].apply(lambda x: x.datetime)\n",
    "for record in df3.to_dict(orient='records'):\n",
    "    es.index(index='trips_realtime', doc_type='lightrail', body=record)"
   ]
  }
 ],
 "metadata": {
  "kernelspec": {
   "display_name": "Python 3",
   "language": "python",
   "name": "python3"
  },
  "language_info": {
   "codemirror_mode": {
    "name": "ipython",
    "version": 3
   },
   "file_extension": ".py",
   "mimetype": "text/x-python",
   "name": "python",
   "nbconvert_exporter": "python",
   "pygments_lexer": "ipython3",
   "version": "3.7.3"
  },
  "toc": {
   "base_numbering": 1,
   "nav_menu": {},
   "number_sections": true,
   "sideBar": true,
   "skip_h1_title": false,
   "title_cell": "Table of Contents",
   "title_sidebar": "Contents",
   "toc_cell": false,
   "toc_position": {},
   "toc_section_display": true,
   "toc_window_display": false
  },
  "varInspector": {
   "cols": {
    "lenName": 16,
    "lenType": 16,
    "lenVar": 40
   },
   "kernels_config": {
    "python": {
     "delete_cmd_postfix": "",
     "delete_cmd_prefix": "del ",
     "library": "var_list.py",
     "varRefreshCmd": "print(var_dic_list())"
    },
    "r": {
     "delete_cmd_postfix": ") ",
     "delete_cmd_prefix": "rm(",
     "library": "var_list.r",
     "varRefreshCmd": "cat(var_dic_list()) "
    }
   },
   "position": {
    "height": "557.205px",
    "left": "629.653px",
    "right": "20px",
    "top": "112.993px",
    "width": "350px"
   },
   "types_to_exclude": [
    "module",
    "function",
    "builtin_function_or_method",
    "instance",
    "_Feature"
   ],
   "window_display": false
  }
 },
 "nbformat": 4,
 "nbformat_minor": 2
}
