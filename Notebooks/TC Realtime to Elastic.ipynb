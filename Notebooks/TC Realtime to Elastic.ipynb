{
 "cells": [
  {
   "cell_type": "markdown",
   "metadata": {},
   "source": [
    "# Light Rail Realtime to Elasticsearch"
   ]
  },
  {
   "cell_type": "code",
   "execution_count": 1,
   "metadata": {
    "ExecuteTime": {
     "end_time": "2019-06-26T07:38:00.687136Z",
     "start_time": "2019-06-26T07:37:59.819128Z"
    }
   },
   "outputs": [],
   "source": [
    "from pandas.io.json import json_normalize\n",
    "from sodapy import Socrata\n",
    "from elasticsearch import Elasticsearch\n",
    "\n",
    "import json\n",
    "import requests\n",
    "import numpy as np\n",
    "import pandas as pd\n",
    "import datetime\n",
    "from datetime import timedelta \n",
    "import os, time\n",
    "import pytz\n",
    "import arrow"
   ]
  },
  {
   "cell_type": "code",
   "execution_count": 3,
   "metadata": {
    "ExecuteTime": {
     "end_time": "2019-06-26T07:39:11.422746Z",
     "start_time": "2019-06-26T07:39:11.415434Z"
    }
   },
   "outputs": [],
   "source": [
    "# get credentials\n",
    "with open('.credentials') as f:\n",
    "    credentials = f.readlines()\n",
    "    credentials = json.loads(''.join(credentials).strip())"
   ]
  },
  {
   "cell_type": "markdown",
   "metadata": {},
   "source": [
    "# Data Acquisition\n",
    "\n",
    "1. Socrata\n",
    "2. GTFS (`trips.csv`, `stops.csv`) "
   ]
  },
  {
   "cell_type": "markdown",
   "metadata": {},
   "source": [
    "## Get data from Socrata"
   ]
  },
  {
   "cell_type": "code",
   "execution_count": 35,
   "metadata": {
    "ExecuteTime": {
     "end_time": "2019-06-26T08:39:16.294220Z",
     "start_time": "2019-06-26T08:39:16.288388Z"
    }
   },
   "outputs": [],
   "source": [
    "def getRealtimeFeed():\n",
    "    # authenticate Socrata\n",
    "    client = Socrata('www.data.act.gov.au',\n",
    "                 '4jqogoRJ9NKj1gr8QAZ9CCKFI',\n",
    "                 username=credentials['username'],\n",
    "                 password=credentials['password'])\n",
    "    # get endpoint\n",
    "    results = client.get(\"r9a8-xw6s\")\n",
    "    # Convert to pandas DataFrame\n",
    "    results_df = pd.DataFrame.from_records(results)\n",
    "    return results_df"
   ]
  },
  {
   "cell_type": "markdown",
   "metadata": {},
   "source": [
    "## Get data from GTFS"
   ]
  },
  {
   "cell_type": "code",
   "execution_count": 25,
   "metadata": {
    "ExecuteTime": {
     "end_time": "2019-06-26T08:29:35.822190Z",
     "start_time": "2019-06-26T08:29:35.806967Z"
    }
   },
   "outputs": [],
   "source": [
    "# get data from trips and stops\n",
    "trips = pd.read_csv('../GTFS/google_transit_lr/trips.csv')\n",
    "stops = pd.read_csv('../GTFS/google_transit_lr/stops.csv')"
   ]
  },
  {
   "cell_type": "markdown",
   "metadata": {},
   "source": [
    "## Converting, Sorting and Dropping Columns"
   ]
  },
  {
   "cell_type": "code",
   "execution_count": 282,
   "metadata": {
    "ExecuteTime": {
     "end_time": "2019-06-26T12:59:09.999212Z",
     "start_time": "2019-06-26T12:59:09.984283Z"
    }
   },
   "outputs": [],
   "source": [
    "# adds information from trips.csv and stops.csv\n",
    "def CSDM(dff, trips, stops):\n",
    "    \n",
    "    # TODO: check with Selva later for R (reserved buses) but removing them for now\n",
    "    dff = dff[dff['trip_id'].map(lambda x: 'R' not in x)]\n",
    "    \n",
    "    # convert columns to datetime and int\n",
    "    dff['arrival_delay'] = dff['arrival_delay'].astype(int)\n",
    "    dff['depature_delay'] = dff['depature_delay'].astype(int)\n",
    "    dff['stop_sequence'] = dff['stop_sequence'].astype(int)\n",
    "    dff['trip_id'] = dff['trip_id'].astype(int)\n",
    "    trips['trip_id'] = trips['trip_id'].astype(int)\n",
    "    stops['stop_id'] = stops['stop_id'].astype(str)\n",
    "    \n",
    "    dff['arrival_time'] = dff['arrival_time'].apply(lambda x: arrow.get(x, tzinfo='Australia/Canberra'))\n",
    "    dff['arrival_date'] = dff['arrival_time'].apply(lambda x: x.date())\n",
    "    dff['depature_time'] = dff['depature_time'].apply(lambda x: arrow.get(x, tzinfo='Australia/Canberra'))\n",
    "    dff['depature_date'] = dff['depature_time'].apply(lambda x: x.date())\n",
    "    dff['timestamp'] = dff['timestamp'].apply(lambda x: arrow.get(x, tzinfo='Australia/Canberra'))\n",
    "    \n",
    "    # sort columns based on arrival time\n",
    "    dff = dff.sort_values(by='arrival_time',ascending=True)\n",
    "\n",
    "    # drop columns\n",
    "    dff = dff[['arrival_delay', 'arrival_time', 'arrival_date', 'depature_delay', 'depature_time', 'depature_date', 'stop_id', 'stop_sequence', 'trip_id', 'timestamp']]\n",
    "    trips = trips[['route_id', 'service_id', 'trip_id','trip_headsign', 'direction_id']]\n",
    "    stops = stops[stops.columns[:2]]\n",
    "    \n",
    "    # merge columns\n",
    "    merged = pd.merge(left=stops, left_on='stop_id', right=dff, right_on='stop_id', how='right')\n",
    "    merged = pd.merge(left=trips, left_on='trip_id', right=merged, right_on='trip_id', how='right')\n",
    "    print('|     Dates    |\\n----------------')\n",
    "    for i in sorted(merged['arrival_date'].unique()):\n",
    "        print('|  {}  |'.format(str(i)))\n",
    "    return merged"
   ]
  },
  {
   "cell_type": "markdown",
   "metadata": {},
   "source": [
    "# Periodically Collect Data"
   ]
  },
  {
   "cell_type": "code",
   "execution_count": 49,
   "metadata": {
    "ExecuteTime": {
     "end_time": "2019-06-26T08:47:12.914163Z",
     "start_time": "2019-06-26T08:47:10.717531Z"
    }
   },
   "outputs": [
    {
     "name": "stderr",
     "output_type": "stream",
     "text": [
      "/anaconda3/envs/data-science/lib/python3.6/site-packages/ipykernel_launcher.py:8: SettingWithCopyWarning: \n",
      "A value is trying to be set on a copy of a slice from a DataFrame.\n",
      "Try using .loc[row_indexer,col_indexer] = value instead\n",
      "\n",
      "See the caveats in the documentation: http://pandas.pydata.org/pandas-docs/stable/indexing.html#indexing-view-versus-copy\n",
      "  \n",
      "/anaconda3/envs/data-science/lib/python3.6/site-packages/ipykernel_launcher.py:9: SettingWithCopyWarning: \n",
      "A value is trying to be set on a copy of a slice from a DataFrame.\n",
      "Try using .loc[row_indexer,col_indexer] = value instead\n",
      "\n",
      "See the caveats in the documentation: http://pandas.pydata.org/pandas-docs/stable/indexing.html#indexing-view-versus-copy\n",
      "  if __name__ == '__main__':\n",
      "/anaconda3/envs/data-science/lib/python3.6/site-packages/ipykernel_launcher.py:10: SettingWithCopyWarning: \n",
      "A value is trying to be set on a copy of a slice from a DataFrame.\n",
      "Try using .loc[row_indexer,col_indexer] = value instead\n",
      "\n",
      "See the caveats in the documentation: http://pandas.pydata.org/pandas-docs/stable/indexing.html#indexing-view-versus-copy\n",
      "  # Remove the CWD from sys.path while we load stuff.\n",
      "/anaconda3/envs/data-science/lib/python3.6/site-packages/ipykernel_launcher.py:11: SettingWithCopyWarning: \n",
      "A value is trying to be set on a copy of a slice from a DataFrame.\n",
      "Try using .loc[row_indexer,col_indexer] = value instead\n",
      "\n",
      "See the caveats in the documentation: http://pandas.pydata.org/pandas-docs/stable/indexing.html#indexing-view-versus-copy\n",
      "  # This is added back by InteractiveShellApp.init_path()\n",
      "/anaconda3/envs/data-science/lib/python3.6/site-packages/ipykernel_launcher.py:15: SettingWithCopyWarning: \n",
      "A value is trying to be set on a copy of a slice from a DataFrame.\n",
      "Try using .loc[row_indexer,col_indexer] = value instead\n",
      "\n",
      "See the caveats in the documentation: http://pandas.pydata.org/pandas-docs/stable/indexing.html#indexing-view-versus-copy\n",
      "  from ipykernel import kernelapp as app\n",
      "/anaconda3/envs/data-science/lib/python3.6/site-packages/ipykernel_launcher.py:16: SettingWithCopyWarning: \n",
      "A value is trying to be set on a copy of a slice from a DataFrame.\n",
      "Try using .loc[row_indexer,col_indexer] = value instead\n",
      "\n",
      "See the caveats in the documentation: http://pandas.pydata.org/pandas-docs/stable/indexing.html#indexing-view-versus-copy\n",
      "  app.launch_new_instance()\n",
      "/anaconda3/envs/data-science/lib/python3.6/site-packages/ipykernel_launcher.py:17: SettingWithCopyWarning: \n",
      "A value is trying to be set on a copy of a slice from a DataFrame.\n",
      "Try using .loc[row_indexer,col_indexer] = value instead\n",
      "\n",
      "See the caveats in the documentation: http://pandas.pydata.org/pandas-docs/stable/indexing.html#indexing-view-versus-copy\n"
     ]
    },
    {
     "name": "stdout",
     "output_type": "stream",
     "text": [
      "|     Dates    |\n",
      "----------------\n",
      "|  2019-06-26  |\n",
      "|  2019-06-27  |\n"
     ]
    },
    {
     "name": "stderr",
     "output_type": "stream",
     "text": [
      "/anaconda3/envs/data-science/lib/python3.6/site-packages/ipykernel_launcher.py:18: SettingWithCopyWarning: \n",
      "A value is trying to be set on a copy of a slice from a DataFrame.\n",
      "Try using .loc[row_indexer,col_indexer] = value instead\n",
      "\n",
      "See the caveats in the documentation: http://pandas.pydata.org/pandas-docs/stable/indexing.html#indexing-view-versus-copy\n"
     ]
    }
   ],
   "source": [
    "df = CSDM(getRealtimeFeed(), trips, stops)"
   ]
  },
  {
   "cell_type": "code",
   "execution_count": 50,
   "metadata": {
    "ExecuteTime": {
     "end_time": "2019-06-26T08:47:16.289849Z",
     "start_time": "2019-06-26T08:47:16.273948Z"
    }
   },
   "outputs": [
    {
     "name": "stdout",
     "output_type": "stream",
     "text": [
      "<class 'pandas.core.frame.DataFrame'>\n",
      "Int64Index: 723 entries, 0 to 722\n",
      "Data columns (total 14 columns):\n",
      "route_id          723 non-null object\n",
      "service_id        723 non-null object\n",
      "trip_id           723 non-null int64\n",
      "trip_headsign     723 non-null object\n",
      "direction_id      723 non-null int64\n",
      "stop_id           723 non-null object\n",
      "stop_name         723 non-null object\n",
      "arrival_delay     723 non-null int64\n",
      "arrival_time      723 non-null object\n",
      "arrival_date      723 non-null object\n",
      "depature_delay    723 non-null int64\n",
      "depature_time     723 non-null object\n",
      "depature_date     723 non-null object\n",
      "stop_sequence     723 non-null int64\n",
      "dtypes: int64(5), object(9)\n",
      "memory usage: 84.7+ KB\n"
     ]
    }
   ],
   "source": [
    "df.info()"
   ]
  },
  {
   "cell_type": "code",
   "execution_count": 1,
   "metadata": {
    "ExecuteTime": {
     "end_time": "2019-06-26T20:04:48.213793Z",
     "start_time": "2019-06-26T20:04:29.897632Z"
    }
   },
   "outputs": [
    {
     "ename": "NameError",
     "evalue": "name 'CSDM' is not defined",
     "output_type": "error",
     "traceback": [
      "\u001b[0;31m---------------------------------------------------------------------------\u001b[0m",
      "\u001b[0;31mNameError\u001b[0m                                 Traceback (most recent call last)",
      "\u001b[0;32m<ipython-input-1-28742a84cc01>\u001b[0m in \u001b[0;36m<module>\u001b[0;34m\u001b[0m\n\u001b[0;32m----> 1\u001b[0;31m \u001b[0mold\u001b[0m \u001b[0;34m=\u001b[0m \u001b[0mCSDM\u001b[0m\u001b[0;34m(\u001b[0m\u001b[0mgetRealtimeFeed\u001b[0m\u001b[0;34m(\u001b[0m\u001b[0;34m)\u001b[0m\u001b[0;34m,\u001b[0m \u001b[0mtrips\u001b[0m\u001b[0;34m,\u001b[0m \u001b[0mstops\u001b[0m\u001b[0;34m)\u001b[0m\u001b[0;34m\u001b[0m\u001b[0;34m\u001b[0m\u001b[0m\n\u001b[0m\u001b[1;32m      2\u001b[0m \u001b[0mtime\u001b[0m\u001b[0;34m.\u001b[0m\u001b[0msleep\u001b[0m\u001b[0;34m(\u001b[0m\u001b[0;36m15\u001b[0m\u001b[0;34m)\u001b[0m\u001b[0;34m\u001b[0m\u001b[0;34m\u001b[0m\u001b[0m\n\u001b[1;32m      3\u001b[0m \u001b[0mnow\u001b[0m \u001b[0;34m=\u001b[0m \u001b[0marrow\u001b[0m\u001b[0;34m.\u001b[0m\u001b[0mnow\u001b[0m\u001b[0;34m(\u001b[0m\u001b[0;34m)\u001b[0m\u001b[0;34m\u001b[0m\u001b[0;34m\u001b[0m\u001b[0m\n\u001b[1;32m      4\u001b[0m \u001b[0mnew\u001b[0m \u001b[0;34m=\u001b[0m \u001b[0mCSDM\u001b[0m\u001b[0;34m(\u001b[0m\u001b[0mgetRealtimeFeed\u001b[0m\u001b[0;34m(\u001b[0m\u001b[0;34m)\u001b[0m\u001b[0;34m,\u001b[0m \u001b[0mtrips\u001b[0m\u001b[0;34m,\u001b[0m \u001b[0mstops\u001b[0m\u001b[0;34m)\u001b[0m\u001b[0;34m\u001b[0m\u001b[0;34m\u001b[0m\u001b[0m\n\u001b[1;32m      5\u001b[0m \u001b[0mdf2\u001b[0m \u001b[0;34m=\u001b[0m \u001b[0mpd\u001b[0m\u001b[0;34m.\u001b[0m\u001b[0mconcat\u001b[0m\u001b[0;34m(\u001b[0m\u001b[0;34m[\u001b[0m\u001b[0mnew\u001b[0m\u001b[0;34m,\u001b[0m \u001b[0mold\u001b[0m\u001b[0;34m]\u001b[0m\u001b[0;34m)\u001b[0m\u001b[0;34m\u001b[0m\u001b[0;34m\u001b[0m\u001b[0m\n",
      "\u001b[0;31mNameError\u001b[0m: name 'CSDM' is not defined"
     ]
    }
   ],
   "source": [
    "old = CSDM(getRealtimeFeed(), trips, stops)\n",
    "time.sleep(15)\n",
    "now = arrow.now()\n",
    "new = CSDM(getRealtimeFeed(), trips, stops)\n",
    "df2 = pd.concat([new, old])\n",
    "df2.sort_values(by='trip_id', inplace=True)\n",
    "df3 = df2.drop_duplicates(subset=['trip_id', 'arrival_time'])\n",
    "df3 = df3[df3['depature_time'].map(lambda x: (now - x).seconds <= 15)]"
   ]
  },
  {
   "cell_type": "code",
   "execution_count": 305,
   "metadata": {
    "ExecuteTime": {
     "end_time": "2019-06-26T20:04:55.850168Z",
     "start_time": "2019-06-26T20:04:55.841588Z"
    }
   },
   "outputs": [
    {
     "data": {
      "text/plain": [
       "[]"
      ]
     },
     "execution_count": 305,
     "metadata": {},
     "output_type": "execute_result"
    }
   ],
   "source": [
    "df3.to_dict(orient='records')"
   ]
  },
  {
   "cell_type": "code",
   "execution_count": 298,
   "metadata": {
    "ExecuteTime": {
     "end_time": "2019-06-26T20:03:41.928283Z",
     "start_time": "2019-06-26T20:03:41.908354Z"
    }
   },
   "outputs": [
    {
     "data": {
      "text/plain": [
       "{'route_id': 'X1',\n",
       " 'service_id': 'WD',\n",
       " 'trip_id': 4,\n",
       " 'trip_headsign': 'Gungahlin Pl',\n",
       " 'direction_id': 0,\n",
       " 'stop_id': '8111',\n",
       " 'stop_name': 'Well Station Drive Platform 2',\n",
       " 'arrival_delay': 0,\n",
       " 'arrival_time': <Arrow [2019-06-27T06:03:33+10:00]>,\n",
       " 'arrival_date': datetime.date(2019, 6, 27),\n",
       " 'depature_delay': 0,\n",
       " 'depature_time': <Arrow [2019-06-27T06:03:33+10:00]>,\n",
       " 'depature_date': datetime.date(2019, 6, 27),\n",
       " 'stop_sequence': 1,\n",
       " 'timestamp': <Arrow [2019-06-27T06:02:30+10:00]>}"
      ]
     },
     "execution_count": 298,
     "metadata": {},
     "output_type": "execute_result"
    }
   ],
   "source": [
    "df3.to_dict(orient='records')[0]"
   ]
  },
  {
   "cell_type": "markdown",
   "metadata": {},
   "source": [
    "# Moving to Elastic"
   ]
  },
  {
   "cell_type": "code",
   "execution_count": 299,
   "metadata": {
    "ExecuteTime": {
     "end_time": "2019-06-26T20:03:53.735284Z",
     "start_time": "2019-06-26T20:03:53.729730Z"
    }
   },
   "outputs": [],
   "source": [
    "es=Elasticsearch([{'host':'localhost','port':9200, 'http_auth':('elastic', 'changeme')}])"
   ]
  },
  {
   "cell_type": "code",
   "execution_count": 300,
   "metadata": {
    "ExecuteTime": {
     "end_time": "2019-06-26T20:03:56.969265Z",
     "start_time": "2019-06-26T20:03:55.999503Z"
    }
   },
   "outputs": [],
   "source": [
    "df3['arrival_time'] = df3['arrival_time'].apply(lambda x: x.datetime)\n",
    "df3['depature_time'] = df3['depature_time'].apply(lambda x: x.datetime)\n",
    "df3['timestamp'] = df3['timestamp'].apply(lambda x: x.datetime)\n",
    "for record in df3.to_dict(orient='records'):\n",
    "    es.index(index='trips_realtime', doc_type='lightrail', body=record)"
   ]
  }
 ],
 "metadata": {
  "kernelspec": {
   "display_name": "Python 3",
   "language": "python",
   "name": "python3"
  },
  "language_info": {
   "codemirror_mode": {
    "name": "ipython",
    "version": 3
   },
   "file_extension": ".py",
   "mimetype": "text/x-python",
   "name": "python",
   "nbconvert_exporter": "python",
   "pygments_lexer": "ipython3",
   "version": "3.7.3"
  },
  "toc": {
   "base_numbering": 1,
   "nav_menu": {},
   "number_sections": true,
   "sideBar": true,
   "skip_h1_title": false,
   "title_cell": "Table of Contents",
   "title_sidebar": "Contents",
   "toc_cell": false,
   "toc_position": {},
   "toc_section_display": true,
   "toc_window_display": false
  },
  "varInspector": {
   "cols": {
    "lenName": 16,
    "lenType": 16,
    "lenVar": 40
   },
   "kernels_config": {
    "python": {
     "delete_cmd_postfix": "",
     "delete_cmd_prefix": "del ",
     "library": "var_list.py",
     "varRefreshCmd": "print(var_dic_list())"
    },
    "r": {
     "delete_cmd_postfix": ") ",
     "delete_cmd_prefix": "rm(",
     "library": "var_list.r",
     "varRefreshCmd": "cat(var_dic_list()) "
    }
   },
   "types_to_exclude": [
    "module",
    "function",
    "builtin_function_or_method",
    "instance",
    "_Feature"
   ],
   "window_display": false
  }
 },
 "nbformat": 4,
 "nbformat_minor": 2
}
