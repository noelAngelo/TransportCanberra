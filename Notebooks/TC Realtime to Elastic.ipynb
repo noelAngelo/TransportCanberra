{
 "cells": [
  {
   "cell_type": "markdown",
   "metadata": {},
   "source": [
    "# Light Rail Realtime to Elasticsearch"
   ]
  },
  {
   "cell_type": "code",
   "execution_count": 1,
   "metadata": {
    "ExecuteTime": {
     "end_time": "2019-06-29T00:01:59.365842Z",
     "start_time": "2019-06-29T00:01:58.555042Z"
    }
   },
   "outputs": [],
   "source": [
    "from pandas.io.json import json_normalize\n",
    "from sodapy import Socrata\n",
    "from elasticsearch import Elasticsearch\n",
    "\n",
    "import json\n",
    "import requests\n",
    "import numpy as np\n",
    "import pandas as pd\n",
    "import datetime\n",
    "from datetime import timedelta \n",
    "import os, time\n",
    "import pytz\n",
    "import arrow"
   ]
  },
  {
   "cell_type": "code",
   "execution_count": 3,
   "metadata": {
    "ExecuteTime": {
     "end_time": "2019-06-29T00:04:01.692731Z",
     "start_time": "2019-06-29T00:04:01.687686Z"
    }
   },
   "outputs": [],
   "source": [
    "# get credentials\n",
    "with open('../.credentials') as f:\n",
    "    credentials = f.readlines()\n",
    "    credentials = json.loads(''.join(credentials).strip())"
   ]
  },
  {
   "cell_type": "markdown",
   "metadata": {},
   "source": [
    "# Data Acquisition\n",
    "\n",
    "1. Socrata\n",
    "2. GTFS (`trips.csv`, `stops.csv`) "
   ]
  },
  {
   "cell_type": "markdown",
   "metadata": {},
   "source": [
    "## Get data from Socrata"
   ]
  },
  {
   "cell_type": "code",
   "execution_count": 4,
   "metadata": {
    "ExecuteTime": {
     "end_time": "2019-06-29T00:04:03.471682Z",
     "start_time": "2019-06-29T00:04:03.461521Z"
    }
   },
   "outputs": [],
   "source": [
    "def getRealtimeFeed():\n",
    "    # authenticate Socrata\n",
    "    client = Socrata('www.data.act.gov.au',\n",
    "                 '4jqogoRJ9NKj1gr8QAZ9CCKFI',\n",
    "                 username=credentials['username'],\n",
    "                 password=credentials['password'])\n",
    "    # get endpoint\n",
    "    results = client.get(\"r9a8-xw6s\")\n",
    "    # Convert to pandas DataFrame\n",
    "    results_df = pd.DataFrame.from_records(results)\n",
    "    return results_df"
   ]
  },
  {
   "cell_type": "markdown",
   "metadata": {},
   "source": [
    "## Get data from GTFS"
   ]
  },
  {
   "cell_type": "code",
   "execution_count": 5,
   "metadata": {
    "ExecuteTime": {
     "end_time": "2019-06-29T00:04:04.369717Z",
     "start_time": "2019-06-29T00:04:04.332933Z"
    }
   },
   "outputs": [],
   "source": [
    "# get data from trips and stops\n",
    "trips = pd.read_csv('../GTFS/google_transit_lr/trips.csv')\n",
    "stops = pd.read_csv('../GTFS/google_transit_lr/stops.csv')"
   ]
  },
  {
   "cell_type": "markdown",
   "metadata": {},
   "source": [
    "## Converting, Sorting and Dropping Columns"
   ]
  },
  {
   "cell_type": "code",
   "execution_count": 6,
   "metadata": {
    "ExecuteTime": {
     "end_time": "2019-06-29T00:04:05.896623Z",
     "start_time": "2019-06-29T00:04:05.878088Z"
    }
   },
   "outputs": [],
   "source": [
    "# adds information from trips.csv and stops.csv\n",
    "def CSDM(dff, trips, stops):\n",
    "    \n",
    "    # TODO: check with Selva later for R (reserved buses) but removing them for now\n",
    "    dff = dff[dff['trip_id'].map(lambda x: 'R' not in x)]\n",
    "    \n",
    "    # convert columns to datetime and int\n",
    "    dff['arrival_delay'] = dff['arrival_delay'].astype(int)\n",
    "    dff['depature_delay'] = dff['depature_delay'].astype(int)\n",
    "    dff['stop_sequence'] = dff['stop_sequence'].astype(int)\n",
    "    dff['trip_id'] = dff['trip_id'].astype(int)\n",
    "    trips['trip_id'] = trips['trip_id'].astype(int)\n",
    "    stops['stop_id'] = stops['stop_id'].astype(str)\n",
    "    \n",
    "    dff['arrival_time'] = dff['arrival_time'].apply(lambda x: arrow.get(x, tzinfo='Australia/Canberra'))\n",
    "    dff['arrival_date'] = dff['arrival_time'].apply(lambda x: x.date())\n",
    "    dff['depature_time'] = dff['depature_time'].apply(lambda x: arrow.get(x, tzinfo='Australia/Canberra'))\n",
    "    dff['depature_date'] = dff['depature_time'].apply(lambda x: x.date())\n",
    "    dff['timestamp'] = dff['timestamp'].apply(lambda x: arrow.get(x, tzinfo='Australia/Canberra'))\n",
    "    \n",
    "    # sort columns based on arrival time\n",
    "    dff.sort_values(by='arrival_time',ascending=True, inplace=True)\n",
    "\n",
    "    # drop columns\n",
    "    dff_dropped = dff[['arrival_delay', 'arrival_time', 'arrival_date', 'depature_delay', 'depature_time', 'depature_date', 'stop_id', 'stop_sequence', 'trip_id', 'timestamp']].copy()\n",
    "    trips_dropped = trips[['route_id', 'service_id', 'trip_id','trip_headsign', 'direction_id']]\n",
    "    stops_dropped = stops[stops.columns[:2]]\n",
    "    \n",
    "    # merge columns\n",
    "    merged = pd.merge(left=stops_dropped, left_on='stop_id', right=dff_dropped, right_on='stop_id', how='right')\n",
    "    merged = pd.merge(left=trips_dropped, left_on='trip_id', right=merged, right_on='trip_id', how='right').copy()\n",
    "#     print('|     Dates    |\\n----------------')\n",
    "#     for i in sorted(merged['arrival_date'].unique()):\n",
    "#         print('|  {}  |'.format(str(i)))\n",
    "    return merged"
   ]
  },
  {
   "cell_type": "markdown",
   "metadata": {},
   "source": [
    "# Periodically Collect Data"
   ]
  },
  {
   "cell_type": "code",
   "execution_count": 7,
   "metadata": {
    "ExecuteTime": {
     "end_time": "2019-06-29T00:04:09.366022Z",
     "start_time": "2019-06-29T00:04:07.197778Z"
    }
   },
   "outputs": [],
   "source": [
    "df = CSDM(getRealtimeFeed(), trips, stops)"
   ]
  },
  {
   "cell_type": "code",
   "execution_count": 14,
   "metadata": {
    "ExecuteTime": {
     "end_time": "2019-06-29T00:10:11.899311Z",
     "start_time": "2019-06-29T00:10:11.895980Z"
    }
   },
   "outputs": [],
   "source": [
    "import datetime as dt"
   ]
  },
  {
   "cell_type": "code",
   "execution_count": 43,
   "metadata": {
    "ExecuteTime": {
     "end_time": "2019-06-29T07:50:17.184623Z",
     "start_time": "2019-06-29T07:49:06.968660Z"
    }
   },
   "outputs": [
    {
     "name": "stdout",
     "output_type": "stream",
     "text": [
      "Count 1, 2019-06-29 17:49:07.005385\n",
      "Count 2, 2019-06-29 17:49:24.438437\n",
      "Count 3, 2019-06-29 17:49:41.125752\n",
      "Count 4, 2019-06-29 17:49:59.125517\n"
     ]
    }
   ],
   "source": [
    "for i in range(1, 5):\n",
    "    print('Count {}, {}'.format(i, dt.datetime.now()))\n",
    "    df = CSDM(getRealtimeFeed(), trips, stops)\n",
    "    df.insert(loc=15, column='timedelta', value=(df['timestamp'] - df['depature_time']))\n",
    "    df = df[df['timedelta'].map(lambda x: (x.days == 0) & (x.seconds <= 30))].copy()\n",
    "    df.sort_values(by=['timedelta'], inplace=True)\n",
    "    if len(df) == 0:\n",
    "        time.sleep(15)\n",
    "    else:\n",
    "        print(df[['trip_id', 'stop_sequence', 'timedelta']])\n",
    "        time.sleep(15)"
   ]
  },
  {
   "cell_type": "code",
   "execution_count": 175,
   "metadata": {
    "ExecuteTime": {
     "end_time": "2019-06-29T08:17:32.393406Z",
     "start_time": "2019-06-29T08:17:30.512348Z"
    }
   },
   "outputs": [
    {
     "data": {
      "text/html": [
       "<div>\n",
       "<style scoped>\n",
       "    .dataframe tbody tr th:only-of-type {\n",
       "        vertical-align: middle;\n",
       "    }\n",
       "\n",
       "    .dataframe tbody tr th {\n",
       "        vertical-align: top;\n",
       "    }\n",
       "\n",
       "    .dataframe thead th {\n",
       "        text-align: right;\n",
       "    }\n",
       "</style>\n",
       "<table border=\"1\" class=\"dataframe\">\n",
       "  <thead>\n",
       "    <tr style=\"text-align: right;\">\n",
       "      <th></th>\n",
       "      <th>route_id</th>\n",
       "      <th>service_id</th>\n",
       "      <th>trip_id</th>\n",
       "      <th>trip_headsign</th>\n",
       "      <th>direction_id</th>\n",
       "      <th>stop_id</th>\n",
       "      <th>stop_name</th>\n",
       "      <th>arrival_delay</th>\n",
       "      <th>arrival_time</th>\n",
       "      <th>arrival_date</th>\n",
       "      <th>depature_delay</th>\n",
       "      <th>depature_time</th>\n",
       "      <th>depature_date</th>\n",
       "      <th>stop_sequence</th>\n",
       "      <th>timestamp</th>\n",
       "      <th>timedelta</th>\n",
       "    </tr>\n",
       "  </thead>\n",
       "  <tbody>\n",
       "    <tr>\n",
       "      <th>228</th>\n",
       "      <td>ACTO001</td>\n",
       "      <td>SA</td>\n",
       "      <td>678</td>\n",
       "      <td>Alinga St</td>\n",
       "      <td>1</td>\n",
       "      <td>8104</td>\n",
       "      <td>Manning Clark Crescent Platform 1</td>\n",
       "      <td>-14</td>\n",
       "      <td>2019-06-29T18:16:50+10:00</td>\n",
       "      <td>2019-06-29</td>\n",
       "      <td>-14</td>\n",
       "      <td>2019-06-29T18:17:10+10:00</td>\n",
       "      <td>2019-06-29</td>\n",
       "      <td>2</td>\n",
       "      <td>2019-06-29T18:17:00+10:00</td>\n",
       "      <td>00:00:10</td>\n",
       "    </tr>\n",
       "    <tr>\n",
       "      <th>442</th>\n",
       "      <td>ACTO001</td>\n",
       "      <td>SA</td>\n",
       "      <td>597</td>\n",
       "      <td>Gungahlin Pl</td>\n",
       "      <td>0</td>\n",
       "      <td>8111</td>\n",
       "      <td>Well Station Drive Platform 2</td>\n",
       "      <td>14</td>\n",
       "      <td>2019-06-29T18:16:47+10:00</td>\n",
       "      <td>2019-06-29</td>\n",
       "      <td>14</td>\n",
       "      <td>2019-06-29T18:17:07+10:00</td>\n",
       "      <td>2019-06-29</td>\n",
       "      <td>9</td>\n",
       "      <td>2019-06-29T18:17:00+10:00</td>\n",
       "      <td>00:00:13</td>\n",
       "    </tr>\n",
       "    <tr>\n",
       "      <th>666</th>\n",
       "      <td>ACTO001</td>\n",
       "      <td>SA</td>\n",
       "      <td>598</td>\n",
       "      <td>Gungahlin Pl</td>\n",
       "      <td>0</td>\n",
       "      <td>8127</td>\n",
       "      <td>Elouera Street Platform 2</td>\n",
       "      <td>-15</td>\n",
       "      <td>2019-06-29T18:16:39+10:00</td>\n",
       "      <td>2019-06-29</td>\n",
       "      <td>-15</td>\n",
       "      <td>2019-06-29T18:16:59+10:00</td>\n",
       "      <td>2019-06-29</td>\n",
       "      <td>2</td>\n",
       "      <td>2019-06-29T18:17:00+10:00</td>\n",
       "      <td>00:00:21</td>\n",
       "    </tr>\n",
       "    <tr>\n",
       "      <th>24</th>\n",
       "      <td>ACTO001</td>\n",
       "      <td>SA</td>\n",
       "      <td>677</td>\n",
       "      <td>Alinga St</td>\n",
       "      <td>1</td>\n",
       "      <td>8120</td>\n",
       "      <td>Dickson Platform 1</td>\n",
       "      <td>-46</td>\n",
       "      <td>2019-06-29T18:16:31+10:00</td>\n",
       "      <td>2019-06-29</td>\n",
       "      <td>-46</td>\n",
       "      <td>2019-06-29T18:16:51+10:00</td>\n",
       "      <td>2019-06-29</td>\n",
       "      <td>9</td>\n",
       "      <td>2019-06-29T18:17:00+10:00</td>\n",
       "      <td>00:00:29</td>\n",
       "    </tr>\n",
       "  </tbody>\n",
       "</table>\n",
       "</div>"
      ],
      "text/plain": [
       "    route_id service_id  trip_id trip_headsign  direction_id stop_id  \\\n",
       "228  ACTO001         SA      678     Alinga St             1    8104   \n",
       "442  ACTO001         SA      597  Gungahlin Pl             0    8111   \n",
       "666  ACTO001         SA      598  Gungahlin Pl             0    8127   \n",
       "24   ACTO001         SA      677     Alinga St             1    8120   \n",
       "\n",
       "                             stop_name  arrival_delay  \\\n",
       "228  Manning Clark Crescent Platform 1            -14   \n",
       "442      Well Station Drive Platform 2             14   \n",
       "666          Elouera Street Platform 2            -15   \n",
       "24                  Dickson Platform 1            -46   \n",
       "\n",
       "                  arrival_time arrival_date  depature_delay  \\\n",
       "228  2019-06-29T18:16:50+10:00   2019-06-29             -14   \n",
       "442  2019-06-29T18:16:47+10:00   2019-06-29              14   \n",
       "666  2019-06-29T18:16:39+10:00   2019-06-29             -15   \n",
       "24   2019-06-29T18:16:31+10:00   2019-06-29             -46   \n",
       "\n",
       "                 depature_time depature_date  stop_sequence  \\\n",
       "228  2019-06-29T18:17:10+10:00    2019-06-29              2   \n",
       "442  2019-06-29T18:17:07+10:00    2019-06-29              9   \n",
       "666  2019-06-29T18:16:59+10:00    2019-06-29              2   \n",
       "24   2019-06-29T18:16:51+10:00    2019-06-29              9   \n",
       "\n",
       "                     timestamp timedelta  \n",
       "228  2019-06-29T18:17:00+10:00  00:00:10  \n",
       "442  2019-06-29T18:17:00+10:00  00:00:13  \n",
       "666  2019-06-29T18:17:00+10:00  00:00:21  \n",
       "24   2019-06-29T18:17:00+10:00  00:00:29  "
      ]
     },
     "execution_count": 175,
     "metadata": {},
     "output_type": "execute_result"
    }
   ],
   "source": [
    "dff = CSDM(getRealtimeFeed(), trips, stops)\n",
    "dff.insert(loc=15, column='timedelta', value=(dff['timestamp'] - dff['arrival_time']))\n",
    "trip_676 = dff[dff['trip_id'] == 676]\n",
    "dff = dff[dff['timedelta'].map(lambda x: (x.days == 0) & (x.seconds <= 30))].copy()\n",
    "dff.sort_values(by=['timedelta'], inplace=True)\n",
    "dff\n",
    "# dff[dff['timedelta'].map(lambda x: (x.days == 0))].iloc[:5]"
   ]
  },
  {
   "cell_type": "markdown",
   "metadata": {},
   "source": [
    "Trip: 676"
   ]
  },
  {
   "cell_type": "code",
   "execution_count": 173,
   "metadata": {
    "ExecuteTime": {
     "end_time": "2019-06-29T08:09:31.590581Z",
     "start_time": "2019-06-29T08:09:31.569480Z"
    }
   },
   "outputs": [
    {
     "data": {
      "text/html": [
       "<div>\n",
       "<style scoped>\n",
       "    .dataframe tbody tr th:only-of-type {\n",
       "        vertical-align: middle;\n",
       "    }\n",
       "\n",
       "    .dataframe tbody tr th {\n",
       "        vertical-align: top;\n",
       "    }\n",
       "\n",
       "    .dataframe thead th {\n",
       "        text-align: right;\n",
       "    }\n",
       "</style>\n",
       "<table border=\"1\" class=\"dataframe\">\n",
       "  <thead>\n",
       "    <tr style=\"text-align: right;\">\n",
       "      <th></th>\n",
       "      <th>route_id</th>\n",
       "      <th>service_id</th>\n",
       "      <th>trip_id</th>\n",
       "      <th>trip_headsign</th>\n",
       "      <th>direction_id</th>\n",
       "      <th>stop_id</th>\n",
       "      <th>stop_name</th>\n",
       "      <th>arrival_delay</th>\n",
       "      <th>arrival_time</th>\n",
       "      <th>arrival_date</th>\n",
       "      <th>depature_delay</th>\n",
       "      <th>depature_time</th>\n",
       "      <th>depature_date</th>\n",
       "      <th>stop_sequence</th>\n",
       "      <th>timestamp</th>\n",
       "      <th>timedelta</th>\n",
       "    </tr>\n",
       "  </thead>\n",
       "  <tbody>\n",
       "    <tr>\n",
       "      <th>661</th>\n",
       "      <td>ACTO001</td>\n",
       "      <td>SA</td>\n",
       "      <td>676</td>\n",
       "      <td>Alinga St</td>\n",
       "      <td>1</td>\n",
       "      <td>8129</td>\n",
       "      <td>Alinga Street Platform 2</td>\n",
       "      <td>59</td>\n",
       "      <td>2019-06-29T18:09:59+10:00</td>\n",
       "      <td>2019-06-29</td>\n",
       "      <td>59</td>\n",
       "      <td>2019-06-29T18:09:59+10:00</td>\n",
       "      <td>2019-06-29</td>\n",
       "      <td>13</td>\n",
       "      <td>2019-06-29T18:09:15+10:00</td>\n",
       "      <td>-1 days +23:59:16</td>\n",
       "    </tr>\n",
       "  </tbody>\n",
       "</table>\n",
       "</div>"
      ],
      "text/plain": [
       "    route_id service_id  trip_id trip_headsign  direction_id stop_id  \\\n",
       "661  ACTO001         SA      676     Alinga St             1    8129   \n",
       "\n",
       "                    stop_name  arrival_delay               arrival_time  \\\n",
       "661  Alinga Street Platform 2             59  2019-06-29T18:09:59+10:00   \n",
       "\n",
       "    arrival_date  depature_delay              depature_time depature_date  \\\n",
       "661   2019-06-29              59  2019-06-29T18:09:59+10:00    2019-06-29   \n",
       "\n",
       "     stop_sequence                  timestamp         timedelta  \n",
       "661             13  2019-06-29T18:09:15+10:00 -1 days +23:59:16  "
      ]
     },
     "execution_count": 173,
     "metadata": {},
     "output_type": "execute_result"
    }
   ],
   "source": [
    "trip_676"
   ]
  },
  {
   "cell_type": "markdown",
   "metadata": {},
   "source": [
    "# Moving to Elastic"
   ]
  },
  {
   "cell_type": "code",
   "execution_count": 299,
   "metadata": {
    "ExecuteTime": {
     "end_time": "2019-06-26T20:03:53.735284Z",
     "start_time": "2019-06-26T20:03:53.729730Z"
    }
   },
   "outputs": [],
   "source": [
    "es=Elasticsearch([{'host':'localhost','port':9200, 'http_auth':('elastic', 'changeme')}])"
   ]
  },
  {
   "cell_type": "code",
   "execution_count": 300,
   "metadata": {
    "ExecuteTime": {
     "end_time": "2019-06-26T20:03:56.969265Z",
     "start_time": "2019-06-26T20:03:55.999503Z"
    }
   },
   "outputs": [],
   "source": [
    "df3['arrival_time'] = df3['arrival_time'].apply(lambda x: x.datetime)\n",
    "df3['depature_time'] = df3['depature_time'].apply(lambda x: x.datetime)\n",
    "df3['timestamp'] = df3['timestamp'].apply(lambda x: x.datetime)\n",
    "for record in df3.to_dict(orient='records'):\n",
    "    es.index(index='trips_realtime', doc_type='lightrail', body=record)"
   ]
  }
 ],
 "metadata": {
  "kernelspec": {
   "display_name": "Python 3",
   "language": "python",
   "name": "python3"
  },
  "language_info": {
   "codemirror_mode": {
    "name": "ipython",
    "version": 3
   },
   "file_extension": ".py",
   "mimetype": "text/x-python",
   "name": "python",
   "nbconvert_exporter": "python",
   "pygments_lexer": "ipython3",
   "version": "3.6.8"
  },
  "toc": {
   "base_numbering": 1,
   "nav_menu": {},
   "number_sections": true,
   "sideBar": true,
   "skip_h1_title": false,
   "title_cell": "Table of Contents",
   "title_sidebar": "Contents",
   "toc_cell": false,
   "toc_position": {},
   "toc_section_display": true,
   "toc_window_display": false
  },
  "varInspector": {
   "cols": {
    "lenName": 16,
    "lenType": 16,
    "lenVar": 40
   },
   "kernels_config": {
    "python": {
     "delete_cmd_postfix": "",
     "delete_cmd_prefix": "del ",
     "library": "var_list.py",
     "varRefreshCmd": "print(var_dic_list())"
    },
    "r": {
     "delete_cmd_postfix": ") ",
     "delete_cmd_prefix": "rm(",
     "library": "var_list.r",
     "varRefreshCmd": "cat(var_dic_list()) "
    }
   },
   "position": {
    "height": "557.205px",
    "left": "629.653px",
    "right": "20px",
    "top": "112.993px",
    "width": "350px"
   },
   "types_to_exclude": [
    "module",
    "function",
    "builtin_function_or_method",
    "instance",
    "_Feature"
   ],
   "window_display": false
  }
 },
 "nbformat": 4,
 "nbformat_minor": 2
}
