{
 "cells": [
  {
   "cell_type": "markdown",
   "metadata": {},
   "source": [
    "# Transport Canberra API"
   ]
  },
  {
   "cell_type": "code",
   "execution_count": 1,
   "metadata": {},
   "outputs": [],
   "source": [
    "import numpy as np\n",
    "import pandas as pd\n",
    "import lxml.etree as etree\n",
    "import requests"
   ]
  },
  {
   "cell_type": "markdown",
   "metadata": {},
   "source": [
    "## API Base URL"
   ]
  },
  {
   "cell_type": "code",
   "execution_count": 2,
   "metadata": {},
   "outputs": [],
   "source": [
    "# API endpoint\n",
    "api_token = 'C57DB8'\n",
    "api_url_base = 'http://siri.nxtbus.act.gov.au:11000/'"
   ]
  },
  {
   "cell_type": "code",
   "execution_count": 3,
   "metadata": {},
   "outputs": [],
   "source": [
    "# environment variables\n",
    "city_bus_plt_1 = 3401\n",
    "city_bus_plt_2 = 3402\n",
    "max_stop_visits = 4\n",
    "max_text_length = 160"
   ]
  },
  {
   "cell_type": "markdown",
   "metadata": {},
   "source": [
    "## API Endpoints"
   ]
  },
  {
   "cell_type": "code",
   "execution_count": 4,
   "metadata": {},
   "outputs": [],
   "source": [
    "endpoints = ['sm', 'vm', 'pt', 'et']\n",
    "\n",
    "service_name = {\n",
    "    'poll status': 'status.xml',\n",
    "    'manage data subscription': 'subscription.xml',\n",
    "    'poll data': 'polldata.xml',\n",
    "    'report data ready': 'dataready.xml',\n",
    "    'direct delivery': 'directdelivery.xml',\n",
    "    'request for data': 'service.xml'\n",
    "}"
   ]
  },
  {
   "cell_type": "markdown",
   "metadata": {},
   "source": [
    "## API URL Generator"
   ]
  },
  {
   "cell_type": "code",
   "execution_count": 5,
   "metadata": {},
   "outputs": [
    {
     "name": "stdout",
     "output_type": "stream",
     "text": [
      "http://siri.nxtbus.act.gov.au:11000/C57DB8/sm/service.xml\n"
     ]
    }
   ],
   "source": [
    "api_url = '{}{}/{}/{}'.format(api_url_base, api_token, endpoints[0], service_name['request for data'])\n",
    "\n",
    "print(api_url)\n",
    "response = requests.get(api_url)"
   ]
  },
  {
   "cell_type": "code",
   "execution_count": 6,
   "metadata": {},
   "outputs": [
    {
     "name": "stdout",
     "output_type": "stream",
     "text": [
      "Connection Successful\n"
     ]
    }
   ],
   "source": [
    "if response.status_code == 200:\n",
    "    print('Connection Successful')\n",
    "else:\n",
    "    print('Check connection parameters')"
   ]
  },
  {
   "cell_type": "markdown",
   "metadata": {},
   "source": [
    "## XML Header"
   ]
  },
  {
   "cell_type": "code",
   "execution_count": 7,
   "metadata": {},
   "outputs": [],
   "source": [
    "header = \"<?xml version='1.0' encoding='ISO-8859-1' standalone='yes'?>\""
   ]
  },
  {
   "cell_type": "markdown",
   "metadata": {},
   "source": [
    "## XML Body"
   ]
  },
  {
   "cell_type": "code",
   "execution_count": 8,
   "metadata": {},
   "outputs": [],
   "source": [
    "import xmltodict\n",
    "import dicttoxml\n",
    "import pprint\n",
    "import json\n",
    "from datetime import datetime"
   ]
  },
  {
   "cell_type": "code",
   "execution_count": 9,
   "metadata": {},
   "outputs": [
    {
     "name": "stdout",
     "output_type": "stream",
     "text": [
      "2019-05-18T08:54:03+10:00\n"
     ]
    }
   ],
   "source": [
    "timestamp = str(datetime.now()).split(' ')\n",
    "timestamp[1] = timestamp[1].split('.')[0]\n",
    "timestamp[1] = timestamp[1]+'+10:00'\n",
    "timestamp = 'T'.join(timestamp)\n",
    "print(timestamp)"
   ]
  },
  {
   "cell_type": "code",
   "execution_count": 10,
   "metadata": {},
   "outputs": [
    {
     "name": "stdout",
     "output_type": "stream",
     "text": [
      "('{\"Siri\": {\"@version\": \"1.3\", \"@xmlns:ns2\": \"http://www.ifopt.org.uk/acsb\", '\n",
      " '\"@xmlns\": \"http://www.siri.org.uk/siri\", \"@xmlns:ns4\": '\n",
      " '\"http://datex2.eu/schema/2_0RC1/2_0\", \"@xmlns:ns3\": '\n",
      " '\"http://www.ifopt.org.uk/ifopt\", \"ServiceRequest\": {\"RequestTimestamp\": '\n",
      " 'null, \"RequestorRef\": null, \"StopMonitoringRequest\": {\"@version\": \"2.0\", '\n",
      " '\"RequestTimestamp\": null, \"MonitoringRef\": null, \"MaximumStopVisits\": null, '\n",
      " '\"MaximumTextLength\": null}}}}')\n"
     ]
    }
   ],
   "source": [
    "my_xml = \"\"\"\n",
    "<Siri version=\"1.3\" xmlns:ns2=\"http://www.ifopt.org.uk/acsb\" xmlns=\"http://www.siri.org.uk/siri\"\n",
    "xmlns:ns4=\"http://datex2.eu/schema/2_0RC1/2_0\" xmlns:ns3=\"http://www.ifopt.org.uk/ifopt\">\n",
    "    <ServiceRequest>\n",
    "        <RequestTimestamp></RequestTimestamp>\n",
    "        <RequestorRef></RequestorRef>\n",
    "        <StopMonitoringRequest version=\"2.0\">\n",
    "            <RequestTimestamp></RequestTimestamp>\n",
    "            <MonitoringRef></MonitoringRef>\n",
    "            <MaximumStopVisits></MaximumStopVisits>\n",
    "            <MaximumTextLength></MaximumTextLength>\n",
    "        </StopMonitoringRequest>\n",
    "    </ServiceRequest>\n",
    "</Siri>\n",
    "\"\"\"\n",
    "pp = pprint.PrettyPrinter(indent=4)\n",
    "pp.pprint(json.dumps(xmltodict.parse(my_xml)))"
   ]
  },
  {
   "cell_type": "code",
   "execution_count": 11,
   "metadata": {},
   "outputs": [
    {
     "name": "stdout",
     "output_type": "stream",
     "text": [
      "OrderedDict([('@what', 'attribute'), ('#text', '123')])\n",
      "attribute\n"
     ]
    }
   ],
   "source": [
    "my_xml = \"\"\"\n",
    "    <audience>\n",
    "      <id what=\"attribute\">123</id>\n",
    "      <name>Shubham</name>\n",
    "    </audience>\n",
    "\"\"\"\n",
    "my_dict = xmltodict.parse(my_xml)\n",
    "print(my_dict['audience']['id'])\n",
    "print(my_dict['audience']['id']['@what'])"
   ]
  },
  {
   "cell_type": "code",
   "execution_count": 12,
   "metadata": {},
   "outputs": [],
   "source": [
    "sm_xml = {'Siri': {'@version': '2.0', \n",
    "          '@xmlns': 'http://www.siri.org.uk/siri',\n",
    "          '@xmlns:ns2': 'http://www.ifopt.org.uk/acsb',\n",
    "          '@xmlns:ns3': 'http://www.ifopt.org.uk/ifopt',\n",
    "          '@xmlns:ns4': 'http://datex2.eu/schema/2_0RC1/2_0',\n",
    "          'ServiceRequest': { 'RequestTimestamp': timestamp,\n",
    "                              'RequestorRef': api_token,\n",
    "                              'StopMonitoringRequest': { '@version': '2.0',\n",
    "                                                         'RequestTimestamp': timestamp,\n",
    "                                                         'MonitoringRef': city_bus_plt_1,\n",
    "                                                         'MaximumStopVisits': max_stop_visits,\n",
    "                                                         'MaximumTextLength': max_text_length\n",
    "                                                       }\n",
    "                            }\n",
    "}}"
   ]
  },
  {
   "cell_type": "code",
   "execution_count": 13,
   "metadata": {},
   "outputs": [
    {
     "data": {
      "text/plain": [
       "dict_keys(['Siri'])"
      ]
     },
     "execution_count": 13,
     "metadata": {},
     "output_type": "execute_result"
    }
   ],
   "source": [
    "sm_xml.keys()"
   ]
  },
  {
   "cell_type": "code",
   "execution_count": 14,
   "metadata": {},
   "outputs": [
    {
     "data": {
      "text/plain": [
       "dict_keys(['@version', '@xmlns', '@xmlns:ns2', '@xmlns:ns3', '@xmlns:ns4', 'ServiceRequest'])"
      ]
     },
     "execution_count": 14,
     "metadata": {},
     "output_type": "execute_result"
    }
   ],
   "source": [
    "sm_xml['Siri'].keys()"
   ]
  },
  {
   "cell_type": "code",
   "execution_count": 15,
   "metadata": {},
   "outputs": [
    {
     "data": {
      "text/plain": [
       "dict_keys(['RequestTimestamp', 'RequestorRef', 'StopMonitoringRequest'])"
      ]
     },
     "execution_count": 15,
     "metadata": {},
     "output_type": "execute_result"
    }
   ],
   "source": [
    "sm_xml['Siri']['ServiceRequest'].keys()"
   ]
  },
  {
   "cell_type": "code",
   "execution_count": 16,
   "metadata": {},
   "outputs": [
    {
     "data": {
      "text/plain": [
       "dict_keys(['@version', 'RequestTimestamp', 'MonitoringRef', 'MaximumStopVisits', 'MaximumTextLength'])"
      ]
     },
     "execution_count": 16,
     "metadata": {},
     "output_type": "execute_result"
    }
   ],
   "source": [
    "sm_xml['Siri']['ServiceRequest']['StopMonitoringRequest'].keys()"
   ]
  },
  {
   "cell_type": "code",
   "execution_count": 17,
   "metadata": {
    "scrolled": true
   },
   "outputs": [
    {
     "name": "stdout",
     "output_type": "stream",
     "text": [
      "<?xml version=\"1.0\" encoding=\"utf-8\"?>\n",
      "<Siri version=\"2.0\" xmlns=\"http://www.siri.org.uk/siri\" xmlns:ns2=\"http://www.ifopt.org.uk/acsb\" xmlns:ns3=\"http://www.ifopt.org.uk/ifopt\" xmlns:ns4=\"http://datex2.eu/schema/2_0RC1/2_0\">\n",
      "\t<ServiceRequest>\n",
      "\t\t<RequestTimestamp>2019-05-18T08:54:03+10:00</RequestTimestamp>\n",
      "\t\t<RequestorRef>C57DB8</RequestorRef>\n",
      "\t\t<StopMonitoringRequest version=\"2.0\">\n",
      "\t\t\t<RequestTimestamp>2019-05-18T08:54:03+10:00</RequestTimestamp>\n",
      "\t\t\t<MonitoringRef>3401</MonitoringRef>\n",
      "\t\t\t<MaximumStopVisits>4</MaximumStopVisits>\n",
      "\t\t\t<MaximumTextLength>160</MaximumTextLength>\n",
      "\t\t</StopMonitoringRequest>\n",
      "\t</ServiceRequest>\n",
      "</Siri>\n"
     ]
    }
   ],
   "source": [
    "print(xmltodict.unparse(sm_xml, pretty=True))"
   ]
  },
  {
   "cell_type": "code",
   "execution_count": 19,
   "metadata": {},
   "outputs": [
    {
     "data": {
      "text/plain": [
       "{'Siri': {'@version': '2.0',\n",
       "  '@xmlns': 'http://www.siri.org.uk/siri',\n",
       "  '@xmlns:ns2': 'http://www.ifopt.org.uk/acsb',\n",
       "  '@xmlns:ns3': 'http://www.ifopt.org.uk/ifopt',\n",
       "  '@xmlns:ns4': 'http://datex2.eu/schema/2_0RC1/2_0',\n",
       "  'ServiceRequest': {'RequestTimestamp': '2019-05-18T08:54:03+10:00',\n",
       "   'RequestorRef': 'C57DB8',\n",
       "   'StopMonitoringRequest': {'@version': '2.0',\n",
       "    'RequestTimestamp': '2019-05-18T08:54:03+10:00',\n",
       "    'MonitoringRef': 3401,\n",
       "    'MaximumStopVisits': 4,\n",
       "    'MaximumTextLength': 160}}}}"
      ]
     },
     "execution_count": 19,
     "metadata": {},
     "output_type": "execute_result"
    }
   ],
   "source": [
    "sm_xml"
   ]
  },
  {
   "cell_type": "code",
   "execution_count": 20,
   "metadata": {},
   "outputs": [],
   "source": [
    "headers = {'Content-Type': 'application/xml'}"
   ]
  },
  {
   "cell_type": "code",
   "execution_count": 21,
   "metadata": {},
   "outputs": [],
   "source": [
    "r = requests.post(api_url, data=xmltodict.unparse(sm_xml), headers=headers)"
   ]
  },
  {
   "cell_type": "code",
   "execution_count": 22,
   "metadata": {},
   "outputs": [],
   "source": [
    "r = r.content.decode('utf-8')"
   ]
  },
  {
   "cell_type": "code",
   "execution_count": 23,
   "metadata": {},
   "outputs": [
    {
     "name": "stdout",
     "output_type": "stream",
     "text": [
      "('{\"Siri\": {\"@xmlns\": \"http://www.siri.org.uk/siri\", \"@xmlns:ns2\": '\n",
      " '\"http://www.ifopt.org.uk/acsb\", \"@xmlns:ns3\": '\n",
      " '\"http://www.ifopt.org.uk/ifopt\", \"@xmlns:ns4\": '\n",
      " '\"http://datex2.eu/schema/2_0RC1/2_0\", \"@xmlns:xsi\": '\n",
      " '\"http://www.w3.org/2001/XMLSchema-instance\", \"@version\": \"2.0\", '\n",
      " '\"@xsi:schemaLocation\": \"http://www.siri.org.uk/siri ../siri.xsd\", '\n",
      " '\"ServiceDelivery\": {\"ResponseTimestamp\": \"2019-05-18T08:54:03+10:00\", '\n",
      " '\"ProducerRef\": \"ACT\", \"Status\": \"true\", \"StopMonitoringDelivery\": '\n",
      " '{\"@version\": \"2.0\", \"ResponseTimestamp\": \"2019-05-18T08:54:03+10:00\", '\n",
      " '\"MonitoredStopVisit\": {\"RecordedAtTime\": \"2019-05-18T08:54:03.505+10:00\", '\n",
      " '\"ValidUntilTime\": \"2019-05-18T09:00:00+10:00\", \"MonitoringRef\": \"3401\", '\n",
      " '\"ClearDownRef\": \"651\", \"MonitoredVehicleJourney\": {\"LineRef\": \"ACT_58\", '\n",
      " '\"DirectionRef\": \"B\", \"FramedVehicleJourneyRef\": {\"DataFrameRef\": '\n",
      " '\"2019-05-18\", \"DatedVehicleJourneyRef\": \"2152-00006-1\"}, '\n",
      " '\"PublishedLineName\": \"58\", \"ExternalLineRef\": \"58\", \"OperatorRef\": \"ACT\", '\n",
      " '\"ProductCategoryRef\": \"standard\", \"VehicleFeatureRef\": [\"Bike Rack\", \"Wheel '\n",
      " 'Chair\"], \"OriginShortName\": \"city\", \"DestinationDisplayAtOrigin\": \"Woden\", '\n",
      " '\"DestinationName\": \"Woden\", \"DestinationShortName\": \"wodi\", '\n",
      " '\"OriginAimedDepartureTime\": \"2019-05-18T08:58:00+10:00\", '\n",
      " '\"DestinationAimedArrivalTime\": \"2019-05-18T09:34:00+10:00\", \"Monitored\": '\n",
      " '\"true\", \"InCongestion\": \"false\", \"BlockRef\": \"16007\", \"CourseOfJourneyRef\": '\n",
      " '\"0\", \"VehicleRef\": \"651\", \"MonitoredCall\": {\"StopPointRef\": \"3401\", '\n",
      " '\"VisitNumber\": \"1\", \"VehicleAtStop\": \"false\", \"AimedDepartureTime\": '\n",
      " '\"2019-05-18T08:58:00+10:00\", \"ExpectedDepartureTime\": '\n",
      " '\"2019-05-18T08:58:00+10:00\", \"DeparturePlatformName\": \"1\"}}}}}}}')\n"
     ]
    }
   ],
   "source": [
    "pp = pprint.PrettyPrinter(indent=4)\n",
    "pp.pprint(json.dumps(xmltodict.parse(r)))"
   ]
  },
  {
   "cell_type": "code",
   "execution_count": 24,
   "metadata": {},
   "outputs": [
    {
     "data": {
      "text/plain": [
       "OrderedDict([('Siri',\n",
       "              OrderedDict([('@xmlns', 'http://www.siri.org.uk/siri'),\n",
       "                           ('@xmlns:ns2', 'http://www.ifopt.org.uk/acsb'),\n",
       "                           ('@xmlns:ns3', 'http://www.ifopt.org.uk/ifopt'),\n",
       "                           ('@xmlns:ns4',\n",
       "                            'http://datex2.eu/schema/2_0RC1/2_0'),\n",
       "                           ('@xmlns:xsi',\n",
       "                            'http://www.w3.org/2001/XMLSchema-instance'),\n",
       "                           ('@version', '2.0'),\n",
       "                           ('@xsi:schemaLocation',\n",
       "                            'http://www.siri.org.uk/siri ../siri.xsd'),\n",
       "                           ('ServiceDelivery',\n",
       "                            OrderedDict([('ResponseTimestamp',\n",
       "                                          '2019-05-18T08:54:03+10:00'),\n",
       "                                         ('ProducerRef', 'ACT'),\n",
       "                                         ('Status', 'true'),\n",
       "                                         ('StopMonitoringDelivery',\n",
       "                                          OrderedDict([('@version', '2.0'),\n",
       "                                                       ('ResponseTimestamp',\n",
       "                                                        '2019-05-18T08:54:03+10:00'),\n",
       "                                                       ('MonitoredStopVisit',\n",
       "                                                        OrderedDict([('RecordedAtTime',\n",
       "                                                                      '2019-05-18T08:54:03.505+10:00'),\n",
       "                                                                     ('ValidUntilTime',\n",
       "                                                                      '2019-05-18T09:00:00+10:00'),\n",
       "                                                                     ('MonitoringRef',\n",
       "                                                                      '3401'),\n",
       "                                                                     ('ClearDownRef',\n",
       "                                                                      '651'),\n",
       "                                                                     ('MonitoredVehicleJourney',\n",
       "                                                                      OrderedDict([('LineRef',\n",
       "                                                                                    'ACT_58'),\n",
       "                                                                                   ('DirectionRef',\n",
       "                                                                                    'B'),\n",
       "                                                                                   ('FramedVehicleJourneyRef',\n",
       "                                                                                    OrderedDict([('DataFrameRef',\n",
       "                                                                                                  '2019-05-18'),\n",
       "                                                                                                 ('DatedVehicleJourneyRef',\n",
       "                                                                                                  '2152-00006-1')])),\n",
       "                                                                                   ('PublishedLineName',\n",
       "                                                                                    '58'),\n",
       "                                                                                   ('ExternalLineRef',\n",
       "                                                                                    '58'),\n",
       "                                                                                   ('OperatorRef',\n",
       "                                                                                    'ACT'),\n",
       "                                                                                   ('ProductCategoryRef',\n",
       "                                                                                    'standard'),\n",
       "                                                                                   ('VehicleFeatureRef',\n",
       "                                                                                    ['Bike Rack',\n",
       "                                                                                     'Wheel Chair']),\n",
       "                                                                                   ('OriginShortName',\n",
       "                                                                                    'city'),\n",
       "                                                                                   ('DestinationDisplayAtOrigin',\n",
       "                                                                                    'Woden'),\n",
       "                                                                                   ('DestinationName',\n",
       "                                                                                    'Woden'),\n",
       "                                                                                   ('DestinationShortName',\n",
       "                                                                                    'wodi'),\n",
       "                                                                                   ('OriginAimedDepartureTime',\n",
       "                                                                                    '2019-05-18T08:58:00+10:00'),\n",
       "                                                                                   ('DestinationAimedArrivalTime',\n",
       "                                                                                    '2019-05-18T09:34:00+10:00'),\n",
       "                                                                                   ('Monitored',\n",
       "                                                                                    'true'),\n",
       "                                                                                   ('InCongestion',\n",
       "                                                                                    'false'),\n",
       "                                                                                   ('BlockRef',\n",
       "                                                                                    '16007'),\n",
       "                                                                                   ('CourseOfJourneyRef',\n",
       "                                                                                    '0'),\n",
       "                                                                                   ('VehicleRef',\n",
       "                                                                                    '651'),\n",
       "                                                                                   ('MonitoredCall',\n",
       "                                                                                    OrderedDict([('StopPointRef',\n",
       "                                                                                                  '3401'),\n",
       "                                                                                                 ('VisitNumber',\n",
       "                                                                                                  '1'),\n",
       "                                                                                                 ('VehicleAtStop',\n",
       "                                                                                                  'false'),\n",
       "                                                                                                 ('AimedDepartureTime',\n",
       "                                                                                                  '2019-05-18T08:58:00+10:00'),\n",
       "                                                                                                 ('ExpectedDepartureTime',\n",
       "                                                                                                  '2019-05-18T08:58:00+10:00'),\n",
       "                                                                                                 ('DeparturePlatformName',\n",
       "                                                                                                  '1')]))]))]))]))]))]))])"
      ]
     },
     "execution_count": 24,
     "metadata": {},
     "output_type": "execute_result"
    }
   ],
   "source": [
    "xmltodict.parse(r)"
   ]
  },
  {
   "cell_type": "code",
   "execution_count": null,
   "metadata": {},
   "outputs": [],
   "source": []
  }
 ],
 "metadata": {
  "kernelspec": {
   "display_name": "Python 3",
   "language": "python",
   "name": "python3"
  },
  "language_info": {
   "codemirror_mode": {
    "name": "ipython",
    "version": 3
   },
   "file_extension": ".py",
   "mimetype": "text/x-python",
   "name": "python",
   "nbconvert_exporter": "python",
   "pygments_lexer": "ipython3",
   "version": "3.7.3"
  }
 },
 "nbformat": 4,
 "nbformat_minor": 2
}
